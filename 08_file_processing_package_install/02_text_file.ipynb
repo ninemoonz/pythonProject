{
 "cells": [
  {
   "cell_type": "markdown",
   "metadata": {
    "collapsed": true,
    "pycharm": {
     "name": "#%% md\n"
    }
   },
   "source": [
    "## how to open txt file"
   ]
  },
  {
   "cell_type": "code",
   "execution_count": null,
   "outputs": [],
   "source": [
    "'''\n",
    "open() from io module\n",
    "\n",
    "open(file, mode, encoding\n",
    "\n",
    "file: the path and name\n",
    "mode: read, write mode\n",
    "encoding: codec module\n",
    "'''"
   ],
   "metadata": {
    "collapsed": false,
    "pycharm": {
     "name": "#%%\n"
    }
   }
  },
  {
   "cell_type": "code",
   "execution_count": 13,
   "outputs": [
    {
     "name": "stdout",
     "output_type": "stream",
     "text": [
      "\n",
      "Current Path:  /Users/followthesnake/PycharmProjects/pythonProject/08_file_processing_package_install\n",
      "This is written from PyCharm for the first time\n",
      "more text from PyCharm\n"
     ]
    }
   ],
   "source": [
    "import os\n",
    "print('\\nCurrent Path: ', os.getcwd())\n",
    "\n",
    "try:\n",
    "    # reading file\n",
    "    ftest1 = open('/Users/followthesnake/Desktop/data/ftest2.txt', mode='r') #reading\n",
    "    print(ftest1.read())\n",
    "\n",
    "    # writing on file\n",
    "    ftest2 = open('/Users/followthesnake/Desktop/data/ftest2.txt', mode='w') #writing\n",
    "    ftest2.write('This is written from PyCharm for the first time')\n",
    "\n",
    "    ftest3 = open('/Users/followthesnake/Desktop/data/ftest2.txt', mode='a') # adding more info\n",
    "    ftest3.write('\\nmore text from PyCharm')\n",
    "except Exception as e:\n",
    "    print('Error occured: ', e)\n",
    "\n",
    "finally:\n",
    "    ftest1.close()\n",
    "    ftest2.close()\n",
    "    ftest3.close()"
   ],
   "metadata": {
    "collapsed": false,
    "pycharm": {
     "name": "#%%\n"
    }
   }
  },
  {
   "cell_type": "markdown",
   "source": [
    "## Reading Text File"
   ],
   "metadata": {
    "collapsed": false,
    "pycharm": {
     "name": "#%% md\n"
    }
   }
  },
  {
   "cell_type": "code",
   "execution_count": 21,
   "outputs": [
    {
     "name": "stdout",
     "output_type": "stream",
     "text": [
      "This is written from PyCharm for the first time\n",
      "more text from PyCharm\n",
      "<class 'str'>\n",
      "['This is written from PyCharm for the first time\\n', 'more text from PyCharm']\n",
      "<class 'list'>\n",
      "문단 수:  2\n",
      "This is written from PyCharm for the first time\n",
      "more text from PyCharm\n",
      "docs=  ['This is written from PyCharm for the first time', 'more text from PyCharm']\n",
      "line:  This is written from PyCharm for the first time\n",
      "\n",
      "<class 'str'>\n"
     ]
    }
   ],
   "source": [
    "try:\n",
    "    # read() : reading all. str type\n",
    "    ftest = open('/Users/followthesnake/Desktop/data/ftest2.txt', mode='r')\n",
    "    full_text = ftest.read()\n",
    "    print(full_text)\n",
    "    print(type(full_text))\n",
    "\n",
    "    # readlines() : 줄단위 읽기. list type\n",
    "    ftest = open('/Users/followthesnake/Desktop/data/ftest2.txt', mode='r')\n",
    "    lines = ftest.readlines()\n",
    "    print(lines)\n",
    "    print(type(lines))\n",
    "    print('문단 수: ', len(lines))\n",
    "\n",
    "    # list -> 문장 추출\n",
    "    docs = []\n",
    "    for line in lines:\n",
    "        print(line.strip())\n",
    "        docs.append(line.strip())\n",
    "    print('docs= ', docs)\n",
    "\n",
    "    # readline() : reading only one line\n",
    "    ftest = open('/Users/followthesnake/Desktop/data/ftest2.txt', mode='r')\n",
    "    line = ftest.readline()\n",
    "    print('line: ', line)\n",
    "    print(type(line))\n",
    "\n",
    "except Exception as e:\n",
    "    print('Exception: ', e)\n",
    "\n",
    "finally:\n",
    "    ftest.close()"
   ],
   "metadata": {
    "collapsed": false,
    "pycharm": {
     "name": "#%%\n"
    }
   }
  },
  {
   "cell_type": "markdown",
   "source": [
    "## with block and encoding"
   ],
   "metadata": {
    "collapsed": false,
    "pycharm": {
     "name": "#%% md\n"
    }
   }
  },
  {
   "cell_type": "code",
   "execution_count": 22,
   "outputs": [
    {
     "name": "stdout",
     "output_type": "stream",
     "text": [
      "파이썬 파일 작성 연습\n",
      "파이썬 파일 작성연습 2\n"
     ]
    }
   ],
   "source": [
    "'''\n",
    "syntax\n",
    "\n",
    "with open(file, mode, encoding) as 참조변수:\n",
    "    pass\n",
    "'''\n",
    "\n",
    "try:\n",
    "    with open('/Users/followthesnake/Desktop/data/ftest2.txt', mode='w', encoding='utf-8') as ftest:\n",
    "        ftest.write('파이썬 파일 작성 연습')\n",
    "        ftest.write('\\n파이썬 파일 작성연습 2')\n",
    "\n",
    "    with open('/Users/followthesnake/Desktop/data/ftest2.txt', mode='r', encoding='utf-8') as ftest:\n",
    "        print(ftest.read())\n",
    "except Exception as e:\n",
    "    print(\"Error: \", e)\n",
    "finally:\n",
    "    pass"
   ],
   "metadata": {
    "collapsed": false,
    "pycharm": {
     "name": "#%%\n"
    }
   }
  }
 ],
 "metadata": {
  "kernelspec": {
   "display_name": "Python 3",
   "language": "python",
   "name": "python3"
  },
  "language_info": {
   "codemirror_mode": {
    "name": "ipython",
    "version": 2
   },
   "file_extension": ".py",
   "mimetype": "text/x-python",
   "name": "python",
   "nbconvert_exporter": "python",
   "pygments_lexer": "ipython2",
   "version": "2.7.6"
  }
 },
 "nbformat": 4,
 "nbformat_minor": 0
}