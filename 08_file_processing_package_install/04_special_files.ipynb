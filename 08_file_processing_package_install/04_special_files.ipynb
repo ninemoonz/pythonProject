{
 "cells": [
  {
   "cell_type": "markdown",
   "metadata": {
    "collapsed": true,
    "pycharm": {
     "name": "#%% md\n"
    }
   },
   "source": [
    "## CSV, Excel"
   ]
  },
  {
   "cell_type": "code",
   "execution_count": 6,
   "outputs": [
    {
     "name": "stdout",
     "output_type": "stream",
     "text": [
      "/Users/followthesnake/PycharmProjects/pythonProject/08_file_processing_package_install\n",
      "<class 'pandas.core.frame.DataFrame'>\n",
      "RangeIndex: 300 entries, 0 to 299\n",
      "Data columns (total 8 columns):\n",
      " #   Column    Non-Null Count  Dtype  \n",
      "---  ------    --------------  -----  \n",
      " 0   resident  300 non-null    object \n",
      " 1   gender    300 non-null    int64  \n",
      " 2   age       300 non-null    int64  \n",
      " 3   level     300 non-null    object \n",
      " 4   cost      300 non-null    object \n",
      " 5   type      300 non-null    object \n",
      " 6   survey    187 non-null    float64\n",
      " 7   pass      296 non-null    object \n",
      "dtypes: float64(1), int64(2), object(5)\n",
      "memory usage: 18.9+ KB\n",
      "info:  None\n",
      "head:    resident  gender  age     level cost type  survey pass\n",
      "0        1       1   50         1  5.1    1     1.0    2\n",
      "1        2       1   54         2  4.2    1     2.0    2\n",
      "2                1   62         2  4.7    1     1.0    1\n",
      "3        4       2   50            3.5    1     4.0    1\n",
      "4        5       1   51         1    5    1     3.0    1\n",
      "max resident:  5\n",
      "max age:  69\n",
      "max cost:  85.1\n",
      "min resident:     \n",
      "min age:  40\n",
      "min cost:                 \n",
      "{'5.1': 11, '4.2': 3, '4.7': 6, '3.5': 5, '5': 18, '5.4': 5, '4.1': 9, '675': 1, '4.4': 4, '4.9': 4, '2.3': 2, '6.7': 8, '4.3': 5, '257.8': 1, '5.7': 6, '4.6': 5, '2.1': 1, '6.2': 13, '-75': 1, '               ': 30, '5.2': 9, '6.3': 16, '4': 15, '5.3': 7, '7.1': 4, '85.1': 2, '3.8': 3, '7': 3, '6.4': 11, '5.5': 9, '3.9': 3, '6': 14, '3.3': 2, '-457.2': 1, '5.6': 4, '-5.9': 2, '3.4': 2, '3': 6, '6.8': 4, '6.1': 8, '5.8': 5, '115.7': 2, '75.1': 2, '6.5': 4, '7.2': 2, '7.7': 4, '336.5': 2, '5.9': 2, '225.8': 1, '-4.8': 1, '4.8': 2, '-345.6': 1, '6.9': 4, '-235.8': 2, '7.9': 2, '4.5': 1}\n"
     ]
    }
   ],
   "source": [
    "import json\n",
    "\n",
    "import pandas as pd\n",
    "import os\n",
    "\n",
    "print(os.getcwd())\n",
    "\n",
    "# reading cvs file\n",
    "descriptive = pd.read_csv('/Users/followthesnake/Desktop/data/descriptive.csv')\n",
    "print('info: ', descriptive.info()) # file information\n",
    "print('head: ', descriptive.head()) # first five rows include column name\n",
    "\n",
    "# extracting column\n",
    "resident = descriptive.resident #object.columnName\n",
    "gender = descriptive['gender'] #object['columnName']\n",
    "age = descriptive['age']\n",
    "cost = descriptive['cost']\n",
    "\n",
    "# extracting max num\n",
    "print('max resident: ', max(resident))\n",
    "print('max age: ', max(age))\n",
    "print('max cost: ', max(cost))\n",
    "\n",
    "# minimum num\n",
    "print('min resident: ', min(resident))\n",
    "print('min age: ', min(age))\n",
    "print('min cost: ', min(cost))\n",
    "\n",
    "# average\n",
    "from statistics import mean\n",
    "#print('ave resident: ', round(mean(resident), 3))\n",
    "#print('ave age: ', round(mean(age), 3))\n",
    "#print('ave cost: ', round(mean(cost), 3))\n",
    "\n",
    "# dept 빈도수\n",
    "cost_count = {} # empty set\n",
    "\n",
    "for key in cost:\n",
    "    cost_count[key] = cost_count.get(key, 0) + 1\n",
    "\n",
    "print(cost_count)"
   ],
   "metadata": {
    "collapsed": false,
    "pycharm": {
     "name": "#%%\n"
    }
   }
  },
  {
   "cell_type": "markdown",
   "source": [
    "## Reading Excel file"
   ],
   "metadata": {
    "collapsed": false,
    "pycharm": {
     "name": "#%% md\n"
    }
   }
  },
  {
   "cell_type": "code",
   "execution_count": 19,
   "outputs": [],
   "source": [
    "import numpy as np\n",
    "import pandas as pd\n",
    "import seaborn as sns\n",
    "import sklearn\n",
    "\n",
    "#시각화 패키지\n",
    "import matplotlib.pyplot as plt\n",
    "\n",
    "#시각화 할 때 한글 출력을 위한 패키지\n",
    "import platform\n",
    "from matplotlib import font_manager, rc\n",
    "\n",
    "#한글 처리\n",
    "#매킨토시 경우\n",
    "if platform.system() == 'Darwin':\n",
    "    rc('font',family='AppleGothic')\n",
    "#윈도우인 경우\n",
    "elif platform.system() == 'Windows':\n",
    "    font_name = font_manager.FontProperties(\n",
    "        fname = \"c:/Windows/Fonts/malgun.ttf\").get_name()\n",
    "    rc('font',family=font_name)"
   ],
   "metadata": {
    "collapsed": false,
    "pycharm": {
     "name": "#%%\n"
    }
   }
  },
  {
   "cell_type": "code",
   "execution_count": 25,
   "outputs": [
    {
     "name": "stdout",
     "output_type": "stream",
     "text": [
      "<class 'pandas.core.frame.DataFrame'>\n",
      "RangeIndex: 3 entries, 0 to 2\n",
      "Data columns (total 4 columns):\n",
      " #   Column  Non-Null Count  Dtype \n",
      "---  ------  --------------  ----- \n",
      " 0   name    3 non-null      object\n",
      " 1   국어      3 non-null      int64 \n",
      " 2   영어      3 non-null      int64 \n",
      " 3   수학      3 non-null      int64 \n",
      "dtypes: int64(3), object(1)\n",
      "memory usage: 224.0+ bytes\n",
      "None\n",
      "high mean =  89.66666666666667\n",
      "low mean =  89.66666666666667\n",
      "Korean mean =  89.66666666666667\n",
      "English mean =  89.66666666666667\n"
     ]
    }
   ],
   "source": [
    "studentScores = pd.ExcelFile('/Users/followthesnake/Desktop/data/score.xlsx')\n",
    "\n",
    "score = studentScores.parse('sheet1')\n",
    "print(score.info())\n",
    "\n",
    "korean = score['국어']\n",
    "english = score['영어']\n",
    "\n",
    "from statistics import mean\n",
    "print('high mean = ', mean(korean))\n",
    "print('low mean = ', mean(english))\n",
    "\n",
    "# or\n",
    "print('Korean mean = ', korean.mean())\n",
    "print('English mean = ', english.mean())"
   ],
   "metadata": {
    "collapsed": false,
    "pycharm": {
     "name": "#%%\n"
    }
   }
  },
  {
   "cell_type": "markdown",
   "source": [
    "## JSON (JavaScript Object Notation) file"
   ],
   "metadata": {
    "collapsed": false,
    "pycharm": {
     "name": "#%% md\n"
    }
   }
  },
  {
   "cell_type": "code",
   "execution_count": null,
   "outputs": [],
   "source": [
    "# network standard\n",
    "# Express data as key-value pair\n",
    "\n",
    "# encoding : python object(dict or list) -> json(key:value)\n",
    "# decoding : json(key:value) -> python object(dict or list)\n",
    "\n",
    "'''\n",
    "encoding syntax:\n",
    "json.dumps(objectName)\n",
    "\n",
    "decoding syntax:\n",
    "jason.loads(jsonString)\n",
    "'''"
   ],
   "metadata": {
    "collapsed": false,
    "pycharm": {
     "name": "#%%\n"
    }
   }
  },
  {
   "cell_type": "code",
   "execution_count": 35,
   "outputs": [
    {
     "name": "stdout",
     "output_type": "stream",
     "text": [
      "<class 'dict'>\n",
      "Tyler\n",
      "{\"id\": 1234, \"name\": \"Tyler\"}\n",
      "<class 'str'>\n",
      "<class 'dict'>\n",
      "Tyler\n",
      "id : 1234\n",
      "name : Tyler\n"
     ]
    }
   ],
   "source": [
    "import json\n",
    "# json encoding\n",
    "user = {'id': 1234, 'name':'Tyler'}\n",
    "\n",
    "print(type(user)) # dict\n",
    "print(user['name'])\n",
    "\n",
    "jsonString = json.dumps(user, ensure_ascii=False) # Does not apply ASCII type encoding\n",
    "\n",
    "# print stirng\n",
    "print(jsonString)\n",
    "print(type(jsonString))\n",
    "\n",
    "# json decoding\n",
    "pyObj = json.loads(jsonString)\n",
    "print(type(pyObj))\n",
    "\n",
    "# Dict data check\n",
    "print(pyObj['name'])\n",
    "for key in pyObj:\n",
    "    print(key, ':', pyObj[key])"
   ],
   "metadata": {
    "collapsed": false,
    "pycharm": {
     "name": "#%%\n"
    }
   }
  },
  {
   "cell_type": "code",
   "execution_count": 42,
   "outputs": [
    {
     "name": "stdout",
     "output_type": "stream",
     "text": [
      "rows:  3560\n",
      "{'a': 'Mozilla/5.0 (Windows NT 6.1; WOW64) AppleWebKit/535.11 (KHTML, like Gecko) Chrome/17.0.963.78 Safari/535.11', 'c': 'US', 'nk': 1, 'tz': 'America/New_York', 'gr': 'MA', 'g': 'A6qOVH', 'h': 'wfLQtf', 'l': 'orofrog', 'al': 'en-US,en;q=0.8', 'hh': '1.usa.gov', 'r': 'http://www.facebook.com/l/7AQEFzjSi/1.usa.gov/wfLQtf', 'u': 'http://www.ncbi.nlm.nih.gov/pubmed/22415991', 't': 1331923247, 'hc': 1331822918, 'cy': 'Danvers', 'll': [42.576698, -70.954903]}\n",
      "<class 'dict'>\n",
      "{'a': 'GoogleMaps/RochesterNY', 'c': 'US', 'nk': 0, 'tz': 'America/Denver', 'gr': 'UT', 'g': 'mwszkS', 'h': 'mwszkS', 'l': 'bitly', 'hh': 'j.mp', 'r': 'http://www.AwareMap.com/', 'u': 'http://www.monroecounty.gov/etc/911/rss.php', 't': 1331923249, 'hc': 1308262393, 'cy': 'Provo', 'll': [40.218102, -111.613297]}\n",
      "<class 'dict'>\n",
      "{'a': 'Mozilla/4.0 (compatible; MSIE 8.0; Windows NT 6.1; WOW64; Trident/4.0; SLCC2; .NET CLR 2.0.50727; .NET CLR 3.5.30729; .NET CLR 3.0.30729; Media Center PC 6.0; .NET4.0C; .NET4.0E; InfoPath.3)', 'c': 'US', 'nk': 1, 'tz': 'America/New_York', 'gr': 'DC', 'g': 'xxr3Qb', 'h': 'xxr3Qb', 'l': 'bitly', 'al': 'en-US', 'hh': '1.usa.gov', 'r': 'http://t.co/03elZC4Q', 'u': 'http://boxer.senate.gov/en/press/releases/031612.cfm', 't': 1331923250, 'hc': 1331919941, 'cy': 'Washington', 'll': [38.9007, -77.043098]}\n",
      "<class 'dict'>\n",
      "{'a': 'Mozilla/5.0 (Macintosh; Intel Mac OS X 10_6_8) AppleWebKit/534.52.7 (KHTML, like Gecko) Version/5.1.2 Safari/534.52.7', 'c': 'BR', 'nk': 0, 'tz': 'America/Sao_Paulo', 'gr': '27', 'g': 'zCaLwp', 'h': 'zUtuOu', 'l': 'alelex88', 'al': 'pt-br', 'hh': '1.usa.gov', 'r': 'direct', 'u': 'http://apod.nasa.gov/apod/ap120312.html', 't': 1331923249, 'hc': 1331923068, 'cy': 'Braz', 'll': [-23.549999, -46.616699]}\n",
      "<class 'dict'>\n",
      "{'a': 'Mozilla/5.0 (Windows NT 6.1; WOW64) AppleWebKit/535.11 (KHTML, like Gecko) Chrome/17.0.963.79 Safari/535.11', 'c': 'US', 'nk': 0, 'tz': 'America/New_York', 'gr': 'MA', 'g': '9b6kNl', 'h': '9b6kNl', 'l': 'bitly', 'al': 'en-US,en;q=0.8', 'hh': 'bit.ly', 'r': 'http://www.shrewsbury-ma.gov/selco/', 'u': 'http://www.shrewsbury-ma.gov/egov/gallery/134127368672998.png', 't': 1331923251, 'hc': 1273672411, 'cy': 'Shrewsbury', 'll': [42.286499, -71.714699]}\n",
      "<class 'dict'>\n",
      "{'a': 'Mozilla/5.0 (Windows NT 6.1; WOW64) AppleWebKit/535.11 (KHTML, like Gecko) Chrome/17.0.963.79 Safari/535.11', 'c': 'US', 'nk': 0, 'tz': 'America/New_York', 'gr': 'MA', 'g': 'axNK8c', 'h': 'axNK8c', 'l': 'bitly', 'al': 'en-US,en;q=0.8', 'hh': 'bit.ly', 'r': 'http://www.shrewsbury-ma.gov/selco/', 'u': 'http://www.shrewsbury-ma.gov/egov/gallery/134127368675393.png', 't': 1331923252, 'hc': 1273672506, 'cy': 'Shrewsbury', 'll': [42.286499, -71.714699]}\n",
      "<class 'dict'>\n",
      "{'a': 'Mozilla/5.0 (Windows NT 5.1) AppleWebKit/535.11 (KHTML, like Gecko) Chrome/17.0.963.79 Safari/535.11', 'c': 'PL', 'nk': 0, 'tz': 'Europe/Warsaw', 'gr': '77', 'g': 'wcndER', 'h': 'zkpJBR', 'l': 'bnjacobs', 'al': 'pl-PL,pl;q=0.8,en-US;q=0.6,en;q=0.4', 'hh': '1.usa.gov', 'r': 'http://plus.url.google.com/url?sa=z&n=1331923253510&url=http%3A%2F%2F1.usa.gov%2FzkpJBR&usg=TF5iGSqK1_GSADtHqTqjuUZyMIY.', 'u': 'http://www.nasa.gov/mission_pages/nustar/main/index.html', 't': 1331923255, 'hc': 1331922854, 'cy': 'Luban', 'll': [51.116699, 15.2833]}\n",
      "<class 'dict'>\n",
      "{'a': 'Mozilla/5.0 (Windows NT 6.1; rv:2.0.1) Gecko/20100101 Firefox/4.0.1', 'c': None, 'nk': 0, 'tz': '', 'g': 'wcndER', 'h': 'zkpJBR', 'l': 'bnjacobs', 'al': 'bg,en-us;q=0.7,en;q=0.3', 'hh': '1.usa.gov', 'r': 'http://www.facebook.com/', 'u': 'http://www.nasa.gov/mission_pages/nustar/main/index.html', 't': 1331923255, 'hc': 1331922854}\n",
      "<class 'dict'>\n",
      "{'a': 'Opera/9.80 (X11; Linux zbov; U; en) Presto/2.10.254 Version/12.00', 'c': None, 'nk': 0, 'tz': '', 'g': 'wcndER', 'h': 'zkpJBR', 'l': 'bnjacobs', 'al': 'en-US, en', 'hh': '1.usa.gov', 'r': 'http://www.facebook.com/l.php?u=http%3A%2F%2F1.usa.gov%2FzkpJBR&h=fAQG5ntSGAQHqKPlWzuJKUA9LYeckHZCUxvjQipJDd7Rmmw', 'u': 'http://www.nasa.gov/mission_pages/nustar/main/index.html', 't': 1331923254, 'hc': 1331922854}\n",
      "<class 'dict'>\n",
      "{'a': 'Mozilla/5.0 (Windows NT 6.1; WOW64) AppleWebKit/535.11 (KHTML, like Gecko) Chrome/17.0.963.79 Safari/535.11', 'c': None, 'nk': 0, 'tz': '', 'g': 'zCaLwp', 'h': 'zUtuOu', 'l': 'alelex88', 'al': 'pt-BR,pt;q=0.8,en-US;q=0.6,en;q=0.4', 'hh': '1.usa.gov', 'r': 'http://t.co/o1Pd0WeV', 'u': 'http://apod.nasa.gov/apod/ap120312.html', 't': 1331923255, 'hc': 1331923068}\n",
      "<class 'dict'>\n",
      "<class 'pandas.core.frame.DataFrame'>\n",
      "RangeIndex: 3560 entries, 0 to 3559\n",
      "Data columns (total 18 columns):\n",
      " #   Column       Non-Null Count  Dtype  \n",
      "---  ------       --------------  -----  \n",
      " 0   a            3440 non-null   object \n",
      " 1   c            2919 non-null   object \n",
      " 2   nk           3440 non-null   float64\n",
      " 3   tz           3440 non-null   object \n",
      " 4   gr           2919 non-null   object \n",
      " 5   g            3440 non-null   object \n",
      " 6   h            3440 non-null   object \n",
      " 7   l            3440 non-null   object \n",
      " 8   al           3094 non-null   object \n",
      " 9   hh           3440 non-null   object \n",
      " 10  r            3440 non-null   object \n",
      " 11  u            3440 non-null   object \n",
      " 12  t            3440 non-null   float64\n",
      " 13  hc           3440 non-null   float64\n",
      " 14  cy           2919 non-null   object \n",
      " 15  ll           2919 non-null   object \n",
      " 16  _heartbeat_  120 non-null    float64\n",
      " 17  kw           93 non-null     object \n",
      "dtypes: float64(4), object(14)\n",
      "memory usage: 500.8+ KB\n",
      "None\n"
     ]
    }
   ],
   "source": [
    "file = open('/Users/followthesnake/Desktop/data/usagov_bitly.txt', mode='r', encoding='utf-8')\n",
    "\n",
    "# reading the file in unit of lines\n",
    "lines = file.readlines()\n",
    "#print(lines)\n",
    "\n",
    "\n",
    "# json decoding (json -> dict)\n",
    "rows = [json.loads(row) for row in lines]\n",
    "print('rows: ', len(rows))\n",
    "# length of the list element = number of json line\n",
    "# one element = one line of json\n",
    "\n",
    "\n",
    "for row in rows[:10] : #10 rows, or elements\n",
    "    print(row)\n",
    "    print(type(row))\n",
    "\n",
    "# dict -> DataFrame\n",
    "import pandas as pd\n",
    "recode_df = pd.DataFrame(rows)\n",
    "print(recode_df.info())"
   ],
   "metadata": {
    "collapsed": false,
    "pycharm": {
     "name": "#%%\n"
    }
   }
  }
 ],
 "metadata": {
  "kernelspec": {
   "display_name": "Python 3",
   "language": "python",
   "name": "python3"
  },
  "language_info": {
   "codemirror_mode": {
    "name": "ipython",
    "version": 2
   },
   "file_extension": ".py",
   "mimetype": "text/x-python",
   "name": "python",
   "nbconvert_exporter": "python",
   "pygments_lexer": "ipython2",
   "version": "2.7.6"
  }
 },
 "nbformat": 4,
 "nbformat_minor": 0
}