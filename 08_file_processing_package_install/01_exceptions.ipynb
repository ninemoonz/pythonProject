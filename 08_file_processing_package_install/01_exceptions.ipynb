{
 "cells": [
  {
   "cell_type": "code",
   "execution_count": null,
   "metadata": {
    "collapsed": true
   },
   "outputs": [],
   "source": [
    "# This package is gonna be about how to use CSV (Comma Separated Values), Excel, JSON\n",
    "# And also about Exceptions"
   ]
  },
  {
   "cell_type": "markdown",
   "source": [
    "## Exception"
   ],
   "metadata": {
    "collapsed": false,
    "pycharm": {
     "name": "#%% md\n"
    }
   }
  },
  {
   "cell_type": "code",
   "execution_count": 1,
   "outputs": [
    {
     "name": "stdout",
     "output_type": "stream",
     "text": [
      "program start\n",
      "10\n",
      "y=  100\n",
      "30\n",
      "y=  900\n",
      "25.2\n",
      "y=  635.04\n",
      "num\n"
     ]
    },
    {
     "ename": "TypeError",
     "evalue": "unsupported operand type(s) for ** or pow(): 'str' and 'int'",
     "output_type": "error",
     "traceback": [
      "\u001B[0;31m---------------------------------------------------------------------------\u001B[0m",
      "\u001B[0;31mTypeError\u001B[0m                                 Traceback (most recent call last)",
      "\u001B[0;32m/var/folders/gl/4fxw6b294y5g_jmkgh0dgk580000gn/T/ipykernel_9397/3416126096.py\u001B[0m in \u001B[0;36m<module>\u001B[0;34m\u001B[0m\n\u001B[1;32m      6\u001B[0m \u001B[0;32mfor\u001B[0m \u001B[0mi\u001B[0m \u001B[0;32min\u001B[0m \u001B[0mx\u001B[0m\u001B[0;34m:\u001B[0m\u001B[0;34m\u001B[0m\u001B[0;34m\u001B[0m\u001B[0m\n\u001B[1;32m      7\u001B[0m     \u001B[0mprint\u001B[0m\u001B[0;34m(\u001B[0m\u001B[0mi\u001B[0m\u001B[0;34m)\u001B[0m\u001B[0;34m\u001B[0m\u001B[0;34m\u001B[0m\u001B[0m\n\u001B[0;32m----> 8\u001B[0;31m     \u001B[0my\u001B[0m \u001B[0;34m=\u001B[0m \u001B[0mi\u001B[0m\u001B[0;34m**\u001B[0m\u001B[0;36m2\u001B[0m\u001B[0;34m\u001B[0m\u001B[0;34m\u001B[0m\u001B[0m\n\u001B[0m\u001B[1;32m      9\u001B[0m     \u001B[0mprint\u001B[0m\u001B[0;34m(\u001B[0m\u001B[0;34m'y= '\u001B[0m\u001B[0;34m,\u001B[0m \u001B[0my\u001B[0m\u001B[0;34m)\u001B[0m\u001B[0;34m\u001B[0m\u001B[0;34m\u001B[0m\u001B[0m\n\u001B[1;32m     10\u001B[0m \u001B[0mprint\u001B[0m\u001B[0;34m(\u001B[0m\u001B[0;34m'program close'\u001B[0m\u001B[0;34m)\u001B[0m\u001B[0;34m\u001B[0m\u001B[0;34m\u001B[0m\u001B[0m\n",
      "\u001B[0;31mTypeError\u001B[0m: unsupported operand type(s) for ** or pow(): 'str' and 'int'"
     ]
    }
   ],
   "source": [
    "# run time error is called Exception\n",
    "\n",
    "print('program start')\n",
    "x = [10, 30, 25.2, 'num', 14, 51]\n",
    "\n",
    "for i in x:\n",
    "    print(i)\n",
    "    y = i**2\n",
    "    print('y= ', y)\n",
    "print('program close')\n",
    "\n",
    "# exception happens because 'num' is not number"
   ],
   "metadata": {
    "collapsed": false,
    "pycharm": {
     "name": "#%%\n"
    }
   }
  },
  {
   "cell_type": "code",
   "execution_count": 2,
   "outputs": [
    {
     "name": "stdout",
     "output_type": "stream",
     "text": [
      "starting program\n",
      "i=  10 y=  100\n",
      "i=  30 y=  900\n",
      "i=  25.2 y=  635.04\n",
      "not a number:  num\n",
      "i=  14 y=  196\n",
      "i=  51 y=  2601\n",
      "program done\n"
     ]
    }
   ],
   "source": [
    "print('starting program')\n",
    "for i in x:\n",
    "    try:\n",
    "        y = i**2\n",
    "        print('i= ', i, 'y= ', y)\n",
    "    except: #This is what will program do when they catch the error\n",
    "        print('not a number: ', i)\n",
    "\n",
    "print('program done')"
   ],
   "metadata": {
    "collapsed": false,
    "pycharm": {
     "name": "#%%\n"
    }
   }
  },
  {
   "cell_type": "markdown",
   "source": [
    "## Multiple Exception Process"
   ],
   "metadata": {
    "collapsed": false,
    "pycharm": {
     "name": "#%% md\n"
    }
   }
  },
  {
   "cell_type": "code",
   "execution_count": 7,
   "outputs": [
    {
     "name": "stdout",
     "output_type": "stream",
     "text": [
      "\n",
      "유형별 예외처리\n",
      "div = 395.26\n",
      "Error Message:  division by zero\n",
      "finally area - where always runs\n"
     ]
    }
   ],
   "source": [
    "# except 예외처리 클래스 as 변수:\n",
    "# builtin class offers the exception process class\n",
    "# ArithmeticError, FileNotFoundError, Exceptions\n",
    "\n",
    "print('\\n유형별 예외처리')\n",
    "\n",
    "try:\n",
    "    div = 1000 / 2.53\n",
    "    print('div = %5.2f' %(div))\n",
    "    div = 1000 / 0\n",
    "    f = open('/Users/followthesnake/test.txt')\n",
    "    num = int(input('Enter number: '))\n",
    "    print('num= ', num)\n",
    "\n",
    "except ZeroDivisionError as e:\n",
    "    print('Error Message: ', e)\n",
    "except FileNotFoundError as e:\n",
    "    print('Error Message: ', e)\n",
    "except Exception as e:\n",
    "    print('Error Message: ', e)\n",
    "\n",
    "finally:\n",
    "    print('finally area - where always runs')\n"
   ],
   "metadata": {
    "collapsed": false,
    "pycharm": {
     "name": "#%%\n"
    }
   }
  }
 ],
 "metadata": {
  "kernelspec": {
   "display_name": "Python 3",
   "language": "python",
   "name": "python3"
  },
  "language_info": {
   "codemirror_mode": {
    "name": "ipython",
    "version": 2
   },
   "file_extension": ".py",
   "mimetype": "text/x-python",
   "name": "python",
   "nbconvert_exporter": "python",
   "pygments_lexer": "ipython2",
   "version": "2.7.6"
  }
 },
 "nbformat": 4,
 "nbformat_minor": 0
}