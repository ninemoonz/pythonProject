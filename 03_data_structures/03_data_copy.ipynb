{
 "cells": [
  {
   "cell_type": "markdown",
   "source": [
    "# copy of data structure"
   ],
   "metadata": {
    "collapsed": false
   }
  },
  {
   "cell_type": "markdown",
   "source": [
    "### narrow copy"
   ],
   "metadata": {
    "collapsed": false,
    "pycharm": {
     "name": "#%% md\n"
    }
   }
  },
  {
   "cell_type": "code",
   "execution_count": 21,
   "outputs": [
    {
     "name": "stdout",
     "output_type": "stream",
     "text": [
      "name address= 140661946053056\n",
      "name2 address= 140661946053056\n",
      "['Andrew', 'Benjamin', 'Lincoln']\n",
      "['Andrew', 'Benjamin', 'Lincoln']\n",
      "\n"
     ]
    }
   ],
   "source": [
    "name = ['George', 'Benjamin', 'Lincoln']\n",
    "print('name address=', id(name))\n",
    "name2 = name\n",
    "print('name2 address=', id(name2))\n",
    "\n",
    "# edit on original set\n",
    "name2[0] = 'Andrew'\n",
    "print(name)\n",
    "print(name2)\n",
    "print()\n",
    "\n",
    "# name and name2 data referencing a same data address.\n",
    "# In other words, it is same data\n"
   ],
   "metadata": {
    "collapsed": false,
    "pycharm": {
     "name": "#%%\n"
    }
   }
  },
  {
   "cell_type": "markdown",
   "source": [
    "### deep copy"
   ],
   "metadata": {
    "collapsed": false,
    "pycharm": {
     "name": "#%% md\n"
    }
   }
  },
  {
   "cell_type": "code",
   "execution_count": 22,
   "outputs": [
    {
     "name": "stdout",
     "output_type": "stream",
     "text": [
      "['Andrew', 'Benjamin', 'Lincoln']\n",
      "['Andrew', 'Benjamin', 'Lincoln']\n",
      "140661946053056\n",
      "140661953134272\n",
      "['Andrew', 'Obama', 'Lincoln']\n",
      "['Andrew', 'Obama', 'Lincoln']\n",
      "['Andrew', 'Benjamin', 'Lincoln']\n"
     ]
    }
   ],
   "source": [
    "import copy\n",
    "\n",
    "name3 = copy.deepcopy(name)\n",
    "print(name)\n",
    "print(name3)\n",
    "print(id(name))\n",
    "print(id(name3))  #different\n",
    "\n",
    "# edit on original set\n",
    "name[1] = 'Obama'\n",
    "print(name)\n",
    "print(name2)\n",
    "print(name3)\n",
    "\n",
    "# the original and the deep copied object referencing different address"
   ],
   "metadata": {
    "collapsed": false,
    "pycharm": {
     "name": "#%%\n"
    }
   }
  },
  {
   "cell_type": "code",
   "execution_count": null,
   "outputs": [],
   "source": [],
   "metadata": {
    "collapsed": false,
    "pycharm": {
     "name": "#%%\n"
    }
   }
  }
 ],
 "metadata": {
  "kernelspec": {
   "display_name": "Python 3",
   "language": "python",
   "name": "python3"
  },
  "language_info": {
   "codemirror_mode": {
    "name": "ipython",
    "version": 2
   },
   "file_extension": ".py",
   "mimetype": "text/x-python",
   "name": "python",
   "nbconvert_exporter": "python",
   "pygments_lexer": "ipython2",
   "version": "2.7.6"
  }
 },
 "nbformat": 4,
 "nbformat_minor": 0
}