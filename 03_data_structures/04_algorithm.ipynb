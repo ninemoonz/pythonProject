{
 "cells": [
  {
   "cell_type": "markdown",
   "metadata": {
    "collapsed": true,
    "pycharm": {
     "name": "#%% md\n"
    }
   },
   "source": [
    "## max / min algorithm"
   ]
  },
  {
   "cell_type": "code",
   "execution_count": 7,
   "outputs": [
    {
     "name": "stdout",
     "output_type": "stream",
     "text": [
      "[63, 29, 20, 51, 97, 36, 87, 47, 10, 17]\n",
      "max= 97  min= 10\n"
     ]
    }
   ],
   "source": [
    "import random\n",
    "dataset = []\n",
    "for i in range(10):\n",
    "    r = random.randint(1, 100)\n",
    "    dataset.append(r)\n",
    "print(dataset)\n",
    "\n",
    "# initializing variable\n",
    "vmax = vmin = dataset[0]\n",
    "\n",
    "# finding max/min\n",
    "for i in dataset:\n",
    "    if vmax < i:\n",
    "        vmax = i\n",
    "    #vmax 보다 더 큰 값이 나오면 그 값으로 교체\n",
    "    if vmin > i:\n",
    "        vmin = i\n",
    "    #vmin 보다 더 작은 값이 나오면 그 값으로 교체\n",
    "print('max=', vmax, ' min=', vmin)"
   ],
   "metadata": {
    "collapsed": false,
    "pycharm": {
     "name": "#%%\n"
    }
   }
  },
  {
   "cell_type": "markdown",
   "source": [
    "## sort"
   ],
   "metadata": {
    "collapsed": false,
    "pycharm": {
     "name": "#%% md\n"
    }
   }
  },
  {
   "cell_type": "markdown",
   "source": [
    "### selection sort"
   ],
   "metadata": {
    "collapsed": false,
    "pycharm": {
     "name": "#%% md\n"
    }
   }
  },
  {
   "cell_type": "code",
   "execution_count": 10,
   "outputs": [
    {
     "name": "stdout",
     "output_type": "stream",
     "text": [
      "ascending order\n",
      "[1, 5, 3, 4, 2]\n",
      "[1, 2, 5, 4, 3]\n",
      "[1, 2, 3, 5, 4]\n",
      "[1, 2, 3, 4, 5]\n",
      "descending order\n",
      "[5, 3, 1, 4, 2]\n",
      "[5, 4, 1, 3, 2]\n",
      "[5, 4, 3, 1, 2]\n",
      "[5, 4, 3, 2, 1]\n",
      "[5, 4, 3, 2, 1]\n"
     ]
    }
   ],
   "source": [
    "dataset = [3, 5, 1, 4, 2]\n",
    "\n",
    "print('ascending order')\n",
    "# 오름차순 정렬\n",
    "n = len(dataset)\n",
    "for i in range(0, n-1):\n",
    "    for j in range(i + 1, n):\n",
    "        if dataset[i] > dataset[j]:\n",
    "            tmp = dataset[i]\n",
    "            dataset[i] = dataset[j]\n",
    "            dataset[j] = tmp\n",
    "    print(dataset)\n",
    "\n",
    "print('descending order')\n",
    "# 내림차순 정렬\n",
    "dataset = [3, 5, 1, 4, 2]\n",
    "n = len(dataset)\n",
    "for i in range(0, n-1):\n",
    "    for j in range(i+1, n):\n",
    "        if dataset[i] < dataset[j]:\n",
    "            tmp = dataset[i]\n",
    "            dataset[i] = dataset[j]\n",
    "            dataset[j] = tmp\n",
    "    print(dataset)\n",
    "print(dataset)"
   ],
   "metadata": {
    "collapsed": false,
    "pycharm": {
     "name": "#%%\n"
    }
   }
  },
  {
   "cell_type": "markdown",
   "source": [
    "## Search algorithm\n",
    "### 순차 검색 & 이진 검색"
   ],
   "metadata": {
    "collapsed": false,
    "pycharm": {
     "name": "#%% md\n"
    }
   }
  },
  {
   "cell_type": "code",
   "execution_count": 12,
   "outputs": [
    {
     "name": "stdout",
     "output_type": "stream",
     "text": [
      "number found on 4 index\n"
     ]
    }
   ],
   "source": [
    "# binary search\n",
    "# 순차검색보다 빠르지만\n",
    "# 자료가 정렬되어 있어야 한다는 조건이 있다\n",
    "dataset = [5, 10, 18, 22, 35, 55, 75, 103]\n",
    "value = int(input('searching number: '))\n",
    "\n",
    "low = 0\n",
    "high = len(dataset) - 1\n",
    "loc = 0\n",
    "state = False\n",
    "\n",
    "while (low <= high):\n",
    "    mid = (low + high) // 2\n",
    "\n",
    "    if dataset[mid] > value:\n",
    "        high = mid - 1\n",
    "    elif dataset[mid] < value:\n",
    "        low = mid + 1\n",
    "    else:\n",
    "        loc = mid\n",
    "        state = True\n",
    "        break\n",
    "\n",
    "if state :\n",
    "    print('number found on %d index' %(loc+1))\n",
    "else:\n",
    "    print(\"can't find the value\")"
   ],
   "metadata": {
    "collapsed": false,
    "pycharm": {
     "name": "#%%\n"
    }
   }
  }
 ],
 "metadata": {
  "kernelspec": {
   "display_name": "Python 3",
   "language": "python",
   "name": "python3"
  },
  "language_info": {
   "codemirror_mode": {
    "name": "ipython",
    "version": 2
   },
   "file_extension": ".py",
   "mimetype": "text/x-python",
   "name": "python",
   "nbconvert_exporter": "python",
   "pygments_lexer": "ipython2",
   "version": "2.7.6"
  }
 },
 "nbformat": 4,
 "nbformat_minor": 0
}