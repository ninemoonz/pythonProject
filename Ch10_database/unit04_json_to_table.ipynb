{
 "cells": [
  {
   "cell_type": "code",
   "execution_count": null,
   "metadata": {
    "collapsed": true
   },
   "outputs": [],
   "source": [
    "# Reminder\n",
    "# JSON = {key:value}"
   ]
  },
  {
   "cell_type": "code",
   "execution_count": 13,
   "outputs": [
    {
     "name": "stdout",
     "output_type": "stream",
     "text": [
      "<class 'list'>\n",
      "2\n",
      "<class 'dict'>\n",
      "<class 'pandas.core.frame.DataFrame'>\n",
      "RangeIndex: 2 entries, 0 to 1\n",
      "Data columns (total 5 columns):\n",
      " #   Column   Non-Null Count  Dtype \n",
      "---  ------   --------------  ----- \n",
      " 0   id       2 non-null      int64 \n",
      " 1   url      2 non-null      object\n",
      " 2   name     2 non-null      object\n",
      " 3   color    2 non-null      object\n",
      " 4   default  2 non-null      bool  \n",
      "dtypes: bool(1), int64(1), object(3)\n",
      "memory usage: 194.0+ bytes\n",
      "dataframe information:  None\n",
      "head:        id                                                url         name  \\\n",
      "0  76811  https://api.github.com/repos/pandas-dev/pandas...          Bug   \n",
      "1  76812  https://api.github.com/repos/pandas-dev/pandas...  Enhancement   \n",
      "\n",
      "    color  default  \n",
      "0  e10c02    False  \n",
      "1  4E9A06    False  \n"
     ]
    }
   ],
   "source": [
    "import json\n",
    "\n",
    "file = open(\"./urlFile.json\", mode='r', encoding='utf-8')\n",
    "\n",
    "#decoding : json string -> dict\n",
    "lines = json.load(file)\n",
    "print(type(lines))\n",
    "print(len(lines))\n",
    "print(type(lines[0]))\n",
    "\n",
    "# Dataframe\n",
    "import pandas as pd\n",
    "df = pd.DataFrame(lines) #changing json into Dataframe object\n",
    "print('dataframe information: ', df.info())\n",
    "print('head: ', df.head())"
   ],
   "metadata": {
    "collapsed": false,
    "pycharm": {
     "name": "#%%\n"
    }
   }
  },
  {
   "cell_type": "code",
   "execution_count": 17,
   "outputs": [
    {
     "name": "stdout",
     "output_type": "stream",
     "text": [
      "labels value search\n",
      "(76811, 'https://api.github.com/repos/pandas-dev/pandas/labels/Bug', 'Bug', 'e10c02', 'False')\n",
      "(76812, 'https://api.github.com/repos/pandas-dev/pandas/labels/Enhancement', 'Enhancement', '4E9A06', 'False')\n",
      "(76812, 'https://api.github.com/repos/pandas-dev/pandas/labels/Enhancement', 'Enhancement', '4E9A06', 'False')\n",
      "(76812, 'https://api.github.com/repos/pandas-dev/pandas/labels/Enhancement', 'Enhancement', '4E9A06', 'False')\n",
      "Number of all values:  4\n"
     ]
    }
   ],
   "source": [
    "import pymysql\n",
    "\n",
    "config = {\n",
    "    'host': 'localhost',\n",
    "    'user': 'root',\n",
    "    'password': '',\n",
    "    'database': 'pythondb',\n",
    "    'port': 3306,\n",
    "    'charset': 'utf8',\n",
    "    'use_unicode': True\n",
    "}\n",
    "\n",
    "try:\n",
    "    conn = pymysql.connect(**config)\n",
    "    cursor = conn.cursor()\n",
    "\n",
    "    # creating a table\n",
    "    \"\"\"\n",
    "    sql ='''create table labels(\n",
    "    id int not null,\n",
    "    url varchar(150) not null,\n",
    "    name varchar(50) not null,\n",
    "    color varchar(50) not null,\n",
    "    de char(5)\n",
    "    )'''\n",
    "    cursor.execute(sql) # creating table\n",
    "    \"\"\"\n",
    "    # searching values\n",
    "    cursor.execute(\"select * from labels\")\n",
    "    rows = cursor.fetchall()\n",
    "\n",
    "    if rows :\n",
    "        print('labels value search')\n",
    "        for row in rows:\n",
    "            print(row)\n",
    "        print(\"Number of all values: \", len(rows))\n",
    "\n",
    "    else: # 조회를 하고 조회된 데이터가 없을 시 임의로 값을 넣어주는 경우\n",
    "        for i in range(30):\n",
    "            uid = df.id[i]\n",
    "            url = df.url[i]\n",
    "            name = df.name[i]\n",
    "            color = df.color[i]\n",
    "            de = str(df.default[i]) # bool to string\n",
    "\n",
    "            sql = f\"insert into labels values ({uid}, '{url}', '{name}', '{color}', '{de}')\"\n",
    "    cursor.execute(sql)\n",
    "    conn.commit()\n",
    "\n",
    "except Exception as e:\n",
    "    print('db error: ', e)\n",
    "\n",
    "finally:\n",
    "    cursor.close()\n",
    "    conn.close()"
   ],
   "metadata": {
    "collapsed": false,
    "pycharm": {
     "name": "#%%\n"
    }
   }
  }
 ],
 "metadata": {
  "kernelspec": {
   "display_name": "Python 3",
   "language": "python",
   "name": "python3"
  },
  "language_info": {
   "codemirror_mode": {
    "name": "ipython",
    "version": 2
   },
   "file_extension": ".py",
   "mimetype": "text/x-python",
   "name": "python",
   "nbconvert_exporter": "python",
   "pygments_lexer": "ipython2",
   "version": "2.7.6"
  }
 },
 "nbformat": 4,
 "nbformat_minor": 0
}