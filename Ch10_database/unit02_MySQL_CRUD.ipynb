{
 "cells": [
  {
   "cell_type": "code",
   "execution_count": 47,
   "metadata": {
    "collapsed": true
   },
   "outputs": [
    {
     "name": "stdout",
     "output_type": "stream",
     "text": [
      "(('appliance',), ('goods',), ('usertbl',))\n",
      "3 Washing Machine 3 300\n"
     ]
    }
   ],
   "source": [
    "import pymysql\n",
    "\n",
    "config = {\n",
    "    'host' : 'localhost',\n",
    "    'user' : 'root',\n",
    "    'password' : '',\n",
    "    'database' : 'pythonDB',\n",
    "    'port' : 3306,\n",
    "    'charset' : 'utf8',\n",
    "    'use_unicode' : True}\n",
    "\n",
    "try:\n",
    "    conn = pymysql.connect(**config)\n",
    "    cursor = conn.cursor()\n",
    "\n",
    "    sql = \"show tables\"\n",
    "    cursor.execute(sql)\n",
    "    tables = cursor.fetchall()\n",
    "    print(tables)\n",
    "\n",
    "    #creating table\n",
    "    \"\"\"\n",
    "    sql='''create table appliance(\n",
    "    code int primary key,\n",
    "    name varchar(30) not null,\n",
    "    stock int default 0,\n",
    "    price int default 0\n",
    "    )'''\n",
    "    cursor.execute(sql)\n",
    "    \"\"\"\n",
    "    # insert\n",
    "    \"\"\"\n",
    "    code = int(input('enter code number: '))\n",
    "    name = input('enter the name of appliance: ')\n",
    "    stock = int(input('enter the number of stock: '))\n",
    "    price = int(input('enter the price of appliance: '))\n",
    "\n",
    "    sql = \"insert into appliance (code, name, stock, price) values (%d, '%s', %d, %d)\" %(code, name, stock, price)\n",
    "    cursor.execute(sql)\n",
    "    conn.commit()\n",
    "    \"\"\"\n",
    "\n",
    "    # searching all\n",
    "    \"\"\"\n",
    "    sql = \"select * from appliance\"\n",
    "    cursor.execute(sql)\n",
    "    rows = cursor.fetchall()\n",
    "\n",
    "    for r in rows:\n",
    "        #print(r) #tuple type result\n",
    "        print('%d %s %d %d'%r)\n",
    "\n",
    "    print('Number of searched rows: ', len(rows))\n",
    "    \"\"\"\n",
    "\n",
    "    # Searching with product name\n",
    "    name = input('\\nSearching product: ')\n",
    "    sql = f\"select * from appliance where name like '%{name}%'\"\n",
    "    cursor.execute(sql)\n",
    "    rows = cursor.fetchall()\n",
    "\n",
    "    if rows :\n",
    "        for r in rows:\n",
    "            print(r[0], r[1], r[2], r[3])\n",
    "    else :\n",
    "        print('No such product')\n",
    "\n",
    "except Exception as e:\n",
    "    print('db error', e)\n",
    "    conn.rollback()\n",
    "finally:\n",
    "    cursor.close()\n",
    "    conn.close()"
   ]
  },
  {
   "cell_type": "markdown",
   "source": [
    "## MYSQL CRUD"
   ],
   "metadata": {
    "collapsed": false,
    "pycharm": {
     "name": "#%% md\n"
    }
   }
  },
  {
   "cell_type": "code",
   "execution_count": 70,
   "outputs": [
    {
     "name": "stdout",
     "output_type": "stream",
     "text": [
      "4 Roid 15 1\n"
     ]
    }
   ],
   "source": [
    "import pymysql\n",
    "\n",
    "config = {\n",
    "    'host' : 'localhost',\n",
    "    'user' : 'root',\n",
    "    'password' : '',\n",
    "    'database' : 'pythonDB',\n",
    "    'port' : 3306,\n",
    "    'charset' : 'utf8',\n",
    "    'use_unicode' : True}\n",
    "\n",
    "try:\n",
    "    conn = pymysql.connect(**config)\n",
    "    cursor = conn.cursor()\n",
    "\n",
    "\n",
    "    # Create a table\n",
    "    \"\"\"\n",
    "    sql = '''create table meds(\n",
    "    code int primary key,\n",
    "    name varchar(30) not null,\n",
    "    size int default 1,\n",
    "    portion int default 1\n",
    "    )'''\n",
    "    cursor.execute(sql)\n",
    "    \"\"\"\n",
    "\n",
    "    # insert values\n",
    "    \"\"\"\n",
    "    code = int(input('code number: '))\n",
    "    name = input('name: ')\n",
    "    size = int(input('size: '))\n",
    "    portion = int(input('portion: '))\n",
    "\n",
    "    sql = \"insert into meds (code, name, size, portion) values (%d, '%s', %d, %d)\" %(code, name, size, portion)\n",
    "    cursor.execute(sql)\n",
    "    conn.commit()\n",
    "    \"\"\"\n",
    "\n",
    "    # edit values\n",
    "    \"\"\"\n",
    "    code = int(input('editing code: '))\n",
    "    name = input('Name to change: ')\n",
    "    size = int(input('change in size: '))\n",
    "    portion = int(input('change in portion: '))\n",
    "\n",
    "    sql = f\"update meds set name = '{name}', size = {size}, portion = {portion} where code = {code}\"\n",
    "    cursor.execute(sql)\n",
    "    conn.commit()\n",
    "    \"\"\"\n",
    "\n",
    "    # delete values\n",
    "    \"\"\"\n",
    "    code = int(input(\"code to delete: \"))\n",
    "    sql = f\"select * from meds where code = {code}\"\n",
    "    cursor.execute(sql)\n",
    "    rows = cursor.fetchall()\n",
    "\n",
    "    if rows :\n",
    "        print('delete record')\n",
    "        sql = f\"delete from meds where code = {code}\"\n",
    "        cursor.execute(sql)\n",
    "        conn.commit()\n",
    "    else:\n",
    "        print('code does not exist')\n",
    "    \"\"\"\n",
    "\n",
    "    # Going through whole list\n",
    "    \"\"\"\n",
    "    sql = 'select * from meds'\n",
    "    cursor.execute(sql)\n",
    "    rows = cursor.fetchall()\n",
    "    #print(type(rows))\n",
    "\n",
    "    for r in rows :\n",
    "        #print(r) #tuple type\n",
    "        print('%d %s %d %d'%r)\n",
    "\n",
    "    print('number of meds: ', len(rows))\n",
    "    \"\"\"\n",
    "\n",
    "    # Searching name of product\n",
    "    name = input('\\nType the name of product: ')\n",
    "    sql = f'select * from meds where name like \\'%{name}%\\''\n",
    "    cursor.execute(sql)\n",
    "    rows = cursor.fetchall()\n",
    "\n",
    "    if rows:\n",
    "        for r in rows:\n",
    "            print(r[0], r[1], r[2], r[3])\n",
    "    else:\n",
    "        print('no such product')\n",
    "\n",
    "\n",
    "except Exception as e:\n",
    "    print('DB error: ', e)\n",
    "    conn.rollback()\n",
    "finally:\n",
    "    conn.close()\n",
    "    cursor.close()"
   ],
   "metadata": {
    "collapsed": false,
    "pycharm": {
     "name": "#%%\n"
    }
   }
  },
  {
   "cell_type": "code",
   "execution_count": null,
   "outputs": [],
   "source": [],
   "metadata": {
    "collapsed": false,
    "pycharm": {
     "name": "#%%\n"
    }
   }
  }
 ],
 "metadata": {
  "kernelspec": {
   "display_name": "Python 3",
   "language": "python",
   "name": "python3"
  },
  "language_info": {
   "codemirror_mode": {
    "name": "ipython",
    "version": 2
   },
   "file_extension": ".py",
   "mimetype": "text/x-python",
   "name": "python",
   "nbconvert_exporter": "python",
   "pygments_lexer": "ipython2",
   "version": "2.7.6"
  }
 },
 "nbformat": 4,
 "nbformat_minor": 0
}