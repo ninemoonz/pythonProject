{
 "cells": [
  {
   "cell_type": "code",
   "execution_count": 6,
   "outputs": [
    {
     "name": "stdout",
     "output_type": "stream",
     "text": [
      "1 Tyler 20 sales New York\n",
      "Number of searched records:  3\n",
      "4 Snake 20 it Seoul\n",
      "Number of searched records:  3\n",
      "3 Lloyd 12 marketing Japan\n",
      "Number of searched records:  3\n"
     ]
    }
   ],
   "source": [
    "import pymysql\n",
    "\n",
    "config = {\n",
    "    'host': 'localhost',\n",
    "    'user': 'root',\n",
    "    'password': '',\n",
    "    'database': 'pythondb',\n",
    "    'port': 3306,\n",
    "    'charset': 'utf8',\n",
    "    'use_unicode': True\n",
    "}\n",
    "\n",
    "try:\n",
    "    conn = pymysql.connect(**config)\n",
    "    cursor = conn.cursor()\n",
    "\n",
    "    # table join\n",
    "    pay = int(input('join payment: '))\n",
    "    sql = f\"\"\"select e.id, e.ename, e.pay, d.dname, d.daddr from emp  e inner join dept d on e.dname = d.dname and e.pay >= {pay}\"\"\"\n",
    "\n",
    "\n",
    "    # searching record\n",
    "    cursor.execute(sql)\n",
    "    data = cursor.fetchall()\n",
    "    for row in data :\n",
    "        print(row[0], row[1], row[2], row[3], row[4])\n",
    "\n",
    "        print('Number of searched records: ', len(data))\n",
    "except Exception as e:\n",
    "    print('db error: ', e)\n",
    "finally:\n",
    "    cursor.close()\n",
    "    conn.close()"
   ],
   "metadata": {
    "collapsed": false,
    "pycharm": {
     "name": "#%%\n"
    }
   }
  },
  {
   "cell_type": "code",
   "execution_count": null,
   "metadata": {
    "collapsed": true
   },
   "outputs": [],
   "source": []
  }
 ],
 "metadata": {
  "kernelspec": {
   "display_name": "Python 3",
   "language": "python",
   "name": "python3"
  },
  "language_info": {
   "codemirror_mode": {
    "name": "ipython",
    "version": 2
   },
   "file_extension": ".py",
   "mimetype": "text/x-python",
   "name": "python",
   "nbconvert_exporter": "python",
   "pygments_lexer": "ipython2",
   "version": "2.7.6"
  }
 },
 "nbformat": 4,
 "nbformat_minor": 0
}