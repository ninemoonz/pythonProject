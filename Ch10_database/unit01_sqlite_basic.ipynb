{
 "cells": [
  {
   "cell_type": "code",
   "execution_count": 7,
   "metadata": {
    "collapsed": true
   },
   "outputs": [
    {
     "name": "stdout",
     "output_type": "stream",
     "text": [
      "(3, 36, 0)\n",
      "('Tyler', '010-1111-1111', 'Seoul')\n",
      "('Koodal', '010-2222-2222', 'Seoul')\n",
      "('Jojo', '010-3333-3333', 'Seoul')\n",
      "('Tyler', '010-1111-1111', 'Seoul')\n",
      "('Koodal', '010-2222-2222', 'Seoul')\n",
      "('Jojo', '010-3333-3333', 'Seoul')\n",
      "('Tyler', '010-1111-1111', 'Seoul')\n",
      "('Koodal', '010-2222-2222', 'Seoul')\n",
      "('Jojo', '010-3333-3333', 'Seoul')\n",
      "name \tPhone number \taddress\n",
      "Tyler \t 010-1111-1111 \t Seoul\n",
      "Koodal \t 010-2222-2222 \t Seoul\n",
      "Jojo \t 010-3333-3333 \t Seoul\n",
      "Tyler \t 010-1111-1111 \t Seoul\n",
      "Koodal \t 010-2222-2222 \t Seoul\n",
      "Jojo \t 010-3333-3333 \t Seoul\n",
      "Tyler \t 010-1111-1111 \t Seoul\n",
      "Koodal \t 010-2222-2222 \t Seoul\n",
      "Jojo \t 010-3333-3333 \t Seoul\n"
     ]
    }
   ],
   "source": [
    "import sqlite3\n",
    "print(sqlite3.sqlite_version_info)\n",
    "\n",
    "try:\n",
    "    # db connection object\n",
    "    conn = sqlite3.connect(\"/Users/followthesnake/Desktop/data/sqlite_db\")\n",
    "\n",
    "    # sql run object\n",
    "    cursor = conn.cursor()\n",
    "\n",
    "    # table\n",
    "    sql='create table if not exists test_table(name text(10), phone text(15), addr text(50))'\n",
    "    cursor.execute(sql)\n",
    "\n",
    "    # adding records\n",
    "    cursor.execute(\"insert into test_table values('Tyler', '010-1111-1111', 'Seoul')\")\n",
    "    cursor.execute(\"insert into test_table values('Koodal', '010-2222-2222', 'Seoul')\")\n",
    "    cursor.execute(\"insert into test_table values('Jojo', '010-3333-3333', 'Seoul')\")\n",
    "    conn.commit()\n",
    "\n",
    "    # record search\n",
    "    cursor.execute(\"select * from test_table\")\n",
    "    rows = cursor.fetchall()\n",
    "\n",
    "    for row in rows:\n",
    "        print(row)\n",
    "\n",
    "    print('name \\tPhone number \\taddress')\n",
    "    for row in rows:\n",
    "        print(row[0], '\\t',row[1],'\\t',row[2])\n",
    "except Exception as e:\n",
    "    print('db connection fail: ', e)\n",
    "    conn.rollabck() #실행 취소\n",
    "\n",
    "finally:\n",
    "    cursor.close()\n",
    "    conn.close()\n",
    "\n",
    "\n"
   ]
  },
  {
   "cell_type": "markdown",
   "source": [
    "### sqlite CRUD"
   ],
   "metadata": {
    "collapsed": false,
    "pycharm": {
     "name": "#%% md\n"
    }
   }
  },
  {
   "cell_type": "code",
   "execution_count": 20,
   "outputs": [
    {
     "name": "stdout",
     "output_type": "stream",
     "text": [
      "Exception:  UNIQUE constraint failed: goods.code\n"
     ]
    }
   ],
   "source": [
    "import sqlite3\n",
    "\n",
    "try:\n",
    "    conn = sqlite3.connect(\"/Users/followthesnake/Desktop/data/sqlite2_db\")\n",
    "    cursor = conn.cursor()\n",
    "\n",
    "    # create new table\n",
    "    sql = \"\"\"create table if not exists goods(\n",
    "    code integer primary key,\n",
    "    name text(30) unique not null,\n",
    "    stock integer default 0,\n",
    "    dan real default 0.0\n",
    "    )\"\"\"\n",
    "    cursor.execute(sql)\n",
    "    '''\n",
    "    cursor.execute(\"insert into goods values(1, 'fridge', 2, 85000000)\")\n",
    "    cursor.execute(\"insert into goods values(2, 'washing', 3, 55000000)\")\n",
    "    cursor.execute(\"insert into goods (code, name) values(3, 'oven')\")\n",
    "    cursor.execute(\"insert into goods (code, name, dan) values(4, 'HDTV', 1500000)\")\n",
    "\n",
    "    conn.commit()\n",
    "    '''\n",
    "\n",
    "    # search\n",
    "    sql = \"select * from goods\"\n",
    "    cursor.execute(sql)\n",
    "    rows = cursor.fetchall()\n",
    "\n",
    "    for row in rows:\n",
    "        print(row[0], row[1], row[2], row[3])\n",
    "        print('number of searched records: ', len(rows))\n",
    "\n",
    "    # searching the product name\n",
    "\n",
    "    name = input(\"Enter the product name: \")\n",
    "    sql = f\"select * from goods where name like '%{name}'\"\n",
    "    cursor.execute(sql)\n",
    "    rows = cursor.fetchall()\n",
    "\n",
    "    if rows :\n",
    "        for row in rows:\n",
    "            print(row)\n",
    "    else:\n",
    "        print('no searched record')\n",
    "\n",
    "except Exception as e:\n",
    "    print(\"Exception: \", e)\n",
    "    conn.rollback()\n",
    "finally:\n",
    "    cursor.close()\n",
    "    conn.close()"
   ],
   "metadata": {
    "collapsed": false,
    "pycharm": {
     "name": "#%%\n"
    }
   }
  },
  {
   "cell_type": "code",
   "execution_count": 24,
   "outputs": [
    {
     "name": "stdout",
     "output_type": "stream",
     "text": [
      "2 washing 3 55000000.0\n",
      "3 oven 0 0.0\n",
      "4 HDTV 0 1500000.0\n",
      "5 laptop 3 25000000.0\n",
      "no searched record\n"
     ]
    }
   ],
   "source": [
    "import sqlite3\n",
    "\n",
    "try:\n",
    "    conn = sqlite3.connect(\"/Users/followthesnake/Desktop/data/sqlite2_db\")\n",
    "    cursor = conn.cursor()\n",
    "\n",
    "    # create new table\n",
    "    sql = \"\"\"create table if not exists goods(\n",
    "    code integer primary key,\n",
    "    name text(30) unique not null,\n",
    "    stock integer default 0,\n",
    "    dan real default 0.0\n",
    "    )\"\"\"\n",
    "    cursor.execute(sql)\n",
    "    '''\n",
    "    cursor.execute(\"insert into goods values(1, 'fridge', 2, 85000000)\")\n",
    "    cursor.execute(\"insert into goods values(2, 'washing', 3, 55000000)\")\n",
    "    cursor.execute(\"insert into goods (code, name) values(3, 'oven')\")\n",
    "    cursor.execute(\"insert into goods (code, name, dan) values(4, 'HDTV', 1500000)\")\n",
    "\n",
    "    conn.commit()\n",
    "    '''\n",
    "\n",
    "\n",
    "    # record insert\n",
    "    \"\"\"\n",
    "    code = int(input('code: '))\n",
    "    name = input('name: ')\n",
    "    stock = int(input('stock: '))\n",
    "    dan = int(input('dan: '))\n",
    "\n",
    "    sql = f\"insert into goods values({code}, '{name}', '{stock}', '{dan}')\"\n",
    "    cursor.execute(sql)\n",
    "    conn.commit()\n",
    "    \"\"\"\n",
    "\n",
    "    # record edit: code -> su, dan\n",
    "    \"\"\"\n",
    "    code = int(input('code to edit: '))\n",
    "    stock = int(input('edit stock: '))\n",
    "    dan = int(input('edit dan: '))\n",
    "\n",
    "    sql = f\"update goods set stock ={stock}, dan ={dan} where code = {code}\"\n",
    "    cursor.execute(sql)\n",
    "    conn.commit()\n",
    "    \"\"\"\n",
    "\n",
    "    # deleting record\n",
    "    \"\"\"\n",
    "    code = int(input(\"code to delete: \"))\n",
    "    sql = f\"delete from goods where code = {code}\"\n",
    "    cursor.execute(sql)\n",
    "    conn.commit()\n",
    "    \"\"\"\n",
    "\n",
    "    # record search\n",
    "    sql = \"select * from goods\"\n",
    "    cursor.execute(sql)\n",
    "    rows = cursor.fetchall()\n",
    "\n",
    "    for row in rows:\n",
    "        print(row[0], row[1], row[2], row[3])\n",
    "\n",
    "    # searching the product name\n",
    "    code = input(\"Enter the product code: \")\n",
    "    sql = f\"select * from goods where code = {code}\"\n",
    "    cursor.execute(sql)\n",
    "    rows = cursor.fetchall()\n",
    "\n",
    "    if rows :\n",
    "        for row in rows:\n",
    "            print(row)\n",
    "    else:\n",
    "        print('no searched record')\n",
    "\n",
    "except Exception as e:\n",
    "    print(\"Exception: \", e)\n",
    "    conn.rollback()\n",
    "finally:\n",
    "    cursor.close()\n",
    "    conn.close()"
   ],
   "metadata": {
    "collapsed": false,
    "pycharm": {
     "name": "#%%\n"
    }
   }
  },
  {
   "cell_type": "code",
   "execution_count": null,
   "outputs": [],
   "source": [],
   "metadata": {
    "collapsed": false,
    "pycharm": {
     "name": "#%%\n"
    }
   }
  }
 ],
 "metadata": {
  "kernelspec": {
   "display_name": "Python 3",
   "language": "python",
   "name": "python3"
  },
  "language_info": {
   "codemirror_mode": {
    "name": "ipython",
    "version": 2
   },
   "file_extension": ".py",
   "mimetype": "text/x-python",
   "name": "python",
   "nbconvert_exporter": "python",
   "pygments_lexer": "ipython2",
   "version": "2.7.6"
  }
 },
 "nbformat": 4,
 "nbformat_minor": 0
}