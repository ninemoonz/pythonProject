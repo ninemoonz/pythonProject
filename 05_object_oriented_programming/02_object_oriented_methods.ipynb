{
 "cells": [
  {
   "cell_type": "markdown",
   "source": [
    "## Encapsulation"
   ],
   "metadata": {
    "collapsed": false
   }
  },
  {
   "cell_type": "code",
   "execution_count": null,
   "outputs": [],
   "source": [
    "class Account:\n",
    "    # hidden variables\n",
    "    __balance = 0\n",
    "    __accName = None\n",
    "    __accNo = None\n",
    "\n",
    "    # constructor : member variable initialization\n",
    "    def __init__(self, bal, name, no):\n",
    "        self.__balance = bal\n",
    "        self.__accName = name\n",
    "        self.__accNo = no\n",
    "\n",
    "    # account info check : Getter\n",
    "    def getBalance(self):\n",
    "        return self.__balance, self.__accName, self.__accNo\n",
    "\n",
    "    # deposit: Setter\n",
    "    def deposit(self, money):\n",
    "        if money < 0:\n",
    "            print('balance check')\n",
    "            return #종료\n",
    "        self.__balance += money\n",
    "\n",
    "    # withdraw : Setter\n",
    "    def withdraw(self, money):\n",
    "        if self.__balance < money:\n",
    "            print('not enough balance')\n",
    "            return\n",
    "        self.__balance -= money\n",
    "\n",
    "# creating object class\n",
    "acc = Account(1000, 'Tyler', '123-123-1234-12')\n",
    "\n",
    "\n",
    "# Calling getters\n",
    "#acc.__balance #Attribute error\n",
    "bal = acc.getBalance()\n",
    "print('Account info: ', bal)\n",
    "\n",
    "# Setter\n",
    "acc.deposit(10000)\n",
    "bal = acc.getBalance()\n",
    "print(acc.getBalance())\n",
    "print('Account info: ', bal)\n",
    "\n",
    "acc.withdraw(3000)\n",
    "bal = acc.getBalance()\n",
    "print(acc.getBalance())\n",
    "\n"
   ],
   "metadata": {
    "collapsed": false,
    "pycharm": {
     "name": "#%%\n"
    }
   }
  },
  {
   "cell_type": "markdown",
   "source": [
    "## Inheritance"
   ],
   "metadata": {
    "collapsed": false
   }
  },
  {
   "cell_type": "code",
   "execution_count": null,
   "outputs": [],
   "source": [
    "'''\n",
    "class subClass(superClass):\n",
    "    pass\n",
    "'''\n",
    "# creating super class\n",
    "class Super:\n",
    "    # constructor : creating dynamic member\n",
    "    def __init__(self, name, age):\n",
    "        self.name = name\n",
    "        self.age = age\n",
    "\n",
    "    #method\n",
    "    def display(self):\n",
    "        print('name: %s, age: %d' %(self.name, self.age))\n",
    "\n",
    "sup = Super('parent', 55)\n",
    "sup.display()\n",
    "\n",
    "# creating sub class\n",
    "class Sub(Super):\n",
    "    gender = None # only on sub member\n",
    "\n",
    "    #constructor\n",
    "    def __init__(self, name, age, gender):\n",
    "        self.name = name\n",
    "        self.age = age\n",
    "        self.gender = gender\n",
    "\n",
    "    #method\n",
    "    def display(self):\n",
    "        print('name: %s, age: %d, gender: %s' %(self.name, self.age, self.gender))\n",
    "\n",
    "sub = Sub('Child', 25, 'male')\n",
    "sub.display()"
   ],
   "metadata": {
    "collapsed": false,
    "pycharm": {
     "name": "#%%\n"
    }
   }
  },
  {
   "cell_type": "code",
   "execution_count": 19,
   "outputs": [
    {
     "name": "stdout",
     "output_type": "stream",
     "text": [
      "name: Tyler job: Programmer\n",
      "name : Koodal, job: Unemployeed, gender: Male\n"
     ]
    }
   ],
   "source": [
    "# super class\n",
    "'''\n",
    "부모클래스 생성자 호출:\n",
    "super().__init()\n",
    "'''\n",
    "\n",
    "class Parent:\n",
    "    def __init__(self, name, job):\n",
    "        self.name = name\n",
    "        self.job = job\n",
    "    def display(self):\n",
    "        print('name: {} job: {}'.format(self.name, self.job))\n",
    "\n",
    "p = Parent('Tyler', 'Programmer')\n",
    "p.display()\n",
    "\n",
    "# Children Class\n",
    "class Children(Parent):\n",
    "    gender = None # extended member variable on Children class\n",
    "\n",
    "    # children class constructor\n",
    "    def __init__(self, name, job, gender):\n",
    "        # calling parent class constructor\n",
    "        super().__init__(name, job)\n",
    "        self.gender = gender #자식 멤버변수 초기화\n",
    "\n",
    "    # member method\n",
    "    def display(self):\n",
    "        print('name : {}, job: {}, gender: {}'.format(self.name, self.job, self.gender))\n",
    "\n",
    "chil = Children(\"Koodal\", \"Unemployeed\", \"Male\")\n",
    "chil.display()"
   ],
   "metadata": {
    "collapsed": false,
    "pycharm": {
     "name": "#%%\n"
    }
   }
  },
  {
   "cell_type": "markdown",
   "source": [
    "## Method Overriding"
   ],
   "metadata": {
    "collapsed": false
   }
  },
  {
   "cell_type": "code",
   "execution_count": 29,
   "outputs": [
    {
     "name": "stdout",
     "output_type": "stream",
     "text": [
      "Total Salary:  3200000 KRW\n",
      "Total Salary:  300000 KRW\n"
     ]
    }
   ],
   "source": [
    "# it's like inheriting parent method to children class\n",
    "\n",
    "class Employee:\n",
    "    name = None\n",
    "    pay = 0\n",
    "\n",
    "    def __init__(self, name):\n",
    "        self.name = name\n",
    "\n",
    "    def pay_calc(self):\n",
    "        pass\n",
    "\n",
    "class Permanent(Employee):\n",
    "    def __init__(self, name):\n",
    "        super().__init__(name) #parent constructor\n",
    "\n",
    "    def pay_calc(self, base, bonus):\n",
    "        self.pay = base + bonus\n",
    "        print('Total Salary: ', format(self.pay), 'KRW')\n",
    "\n",
    "class Temporary(Employee):\n",
    "    def __init__(self, name):\n",
    "        super().__init__(name)\n",
    "\n",
    "    def pay_calc(self, tpay, time):\n",
    "        self.pay = tpay * time\n",
    "        print('Total Salary: ', format(self.pay), 'KRW')\n",
    "\n",
    "p = Permanent(\"Koodal\")\n",
    "p.pay_calc(3000000, 200000)\n",
    "\n",
    "t = Temporary('Ryan')\n",
    "t.pay_calc(20000, 15)"
   ],
   "metadata": {
    "collapsed": false,
    "pycharm": {
     "name": "#%%\n"
    }
   }
  },
  {
   "cell_type": "markdown",
   "source": [
    "## Polymorphism"
   ],
   "metadata": {
    "collapsed": false,
    "pycharm": {
     "name": "#%% md\n"
    }
   }
  },
  {
   "cell_type": "code",
   "execution_count": 32,
   "outputs": [
    {
     "name": "stdout",
     "output_type": "stream",
     "text": [
      "날다, fly 원형 메서드\n",
      "Airplane flies\n",
      "Bird flies\n",
      "Paper Airplane flies\n"
     ]
    }
   ],
   "source": [
    "# Super class\n",
    "class Flight:\n",
    "    # 부모 원형 ㅎ마수\n",
    "    def fly(self):\n",
    "        print('날다, fly 원형 메서드')\n",
    "\n",
    "# Sub class 1\n",
    "class Airplane(Flight):\n",
    "    # 함수 재정의\n",
    "    def fly(self):\n",
    "        print('Airplane flies')\n",
    "\n",
    "# Sub class 2\n",
    "class Bird(Flight):\n",
    "\n",
    "    def fly(self):\n",
    "        print('Bird flies')\n",
    "\n",
    "# sub class 3\n",
    "class PaperAirPlane(Flight):\n",
    "    def fly(self):\n",
    "        print('Paper Airplane flies')\n",
    "\n",
    "# creating instance\n",
    "flight = Flight() # super class instance\n",
    "air = Airplane() # sub class 1 instance\n",
    "bird = Bird()\n",
    "paper = PaperAirPlane()\n",
    "\n",
    "# polymorphism\n",
    "flight.fly() #original method\n",
    "\n",
    "flight = air\n",
    "flight.fly()\n",
    "\n",
    "flight = bird\n",
    "flight.fly()\n",
    "\n",
    "flight = paper\n",
    "flight.fly()"
   ],
   "metadata": {
    "collapsed": false,
    "pycharm": {
     "name": "#%%\n"
    }
   }
  }
 ],
 "metadata": {
  "kernelspec": {
   "display_name": "Python 3",
   "language": "python",
   "name": "python3"
  },
  "language_info": {
   "codemirror_mode": {
    "name": "ipython",
    "version": 2
   },
   "file_extension": ".py",
   "mimetype": "text/x-python",
   "name": "python",
   "nbconvert_exporter": "python",
   "pygments_lexer": "ipython2",
   "version": "2.7.6"
  }
 },
 "nbformat": 4,
 "nbformat_minor": 0
}