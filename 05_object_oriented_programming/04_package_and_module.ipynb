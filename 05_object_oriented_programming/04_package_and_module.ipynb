{
 "cells": [
  {
   "cell_type": "code",
   "execution_count": 1,
   "metadata": {
    "collapsed": true
   },
   "outputs": [],
   "source": [
    "'''\n",
    "import module\n",
    "import package.module #only bringing modules in the package\n",
    "from package.module import function, class, ... only bringing functions and classes\n",
    "'''\n",
    "\n",
    "#scattering module\n",
    "from statistics import mean\n",
    "from math import sqrt\n",
    "\n",
    "def Avg(data):\n",
    "    avg = mean(data)\n",
    "    return avg\n",
    "\n",
    "def var_sd(data):\n",
    "    avg = Avg(data)\n",
    "    diff = [(d - avg)**2 for d in data]\n",
    "    var = sum(diff) / (len(data) - 1)\n",
    "    sd = sqrt(var)\n",
    "\n",
    "    return var, sd"
   ]
  },
  {
   "cell_type": "code",
   "execution_count": 4,
   "outputs": [
    {
     "name": "stdout",
     "output_type": "stream",
     "text": [
      "avg:  1.95\n",
      "scattering:  0.9350000000000002\n",
      "standard deviation:  0.9669539802906859\n",
      "Average:  1.95\n",
      "scattering:  0.9350000000000002\n",
      "standard deviation:  0.9669539802906859\n"
     ]
    }
   ],
   "source": [
    "# module 추가 방법 2\n",
    "import scatteringModule.scattering\n",
    "\n",
    "data = [1, 3, 1.5, 2, 1, 3.2]\n",
    "\n",
    "print('avg: ', scatteringModule.scattering.Avg(data))\n",
    "\n",
    "var, sd = scatteringModule.scattering.var_sd(data)\n",
    "print('scattering: ', var)\n",
    "print('standard deviation: ', sd)"
   ],
   "metadata": {
    "collapsed": false,
    "pycharm": {
     "name": "#%%\n"
    }
   }
  },
  {
   "cell_type": "code",
   "execution_count": null,
   "outputs": [],
   "source": [
    "# module 추가 방법 2\n",
    "from scatteringModule.scattering import Avg, var_sd\n",
    "\n",
    "print('Average: ', Avg(data))\n",
    "\n",
    "var, sd = var_sd(data)\n",
    "print('scattering: ', var)\n",
    "print('standard deviation: ', sd)"
   ],
   "metadata": {
    "collapsed": false,
    "pycharm": {
     "name": "#%%\n"
    }
   }
  },
  {
   "cell_type": "markdown",
   "source": [
    "## main (시작점) 만들기"
   ],
   "metadata": {
    "collapsed": false,
    "pycharm": {
     "name": "#%% md\n"
    }
   }
  },
  {
   "cell_type": "code",
   "execution_count": 6,
   "outputs": [
    {
     "name": "stdout",
     "output_type": "stream",
     "text": [
      "Average=  4\n",
      "Scattering=  6.666666666666667\n",
      "Standard Deviation=  2.581988897471611\n"
     ]
    }
   ],
   "source": [
    "from statistics import mean\n",
    "from math import sqrt\n",
    "\n",
    "def Avg(data):\n",
    "    avg = mean(data)\n",
    "    return avg\n",
    "def var_sd(data):\n",
    "    avg = Avg(data)\n",
    "    diff = [(d - avg)**2 for d in data]\n",
    "    var = sum(diff) / (len(data)-1)\n",
    "    sd = sqrt(var)\n",
    "    return var, sd\n",
    "\n",
    "# program main\n",
    "if __name__ == \"__main__\":\n",
    "    data = [1, 3, 5, 7]\n",
    "    print('Average= ', Avg(data))\n",
    "    var, sd = var_sd(data)\n",
    "    print('Scattering= ', var)\n",
    "    print('Standard Deviation= ', sd)"
   ],
   "metadata": {
    "collapsed": false,
    "pycharm": {
     "name": "#%%\n"
    }
   }
  },
  {
   "cell_type": "code",
   "execution_count": 7,
   "outputs": [
    {
     "name": "stdout",
     "output_type": "stream",
     "text": [
      "Average=  4\n",
      "Scattering=  6.666666666666667\n",
      "Standard Deviation=  2.581988897471611\n"
     ]
    }
   ],
   "source": [
    "# when program main doesn't exist\n",
    "\n",
    "from statistics import mean\n",
    "from math import sqrt\n",
    "\n",
    "def Avg(data):\n",
    "    avg = mean(data)\n",
    "    return avg\n",
    "def var_sd(data):\n",
    "    avg = Avg(data)\n",
    "    diff = [(d - avg)**2 for d in data]\n",
    "    var = sum(diff) / (len(data)-1)\n",
    "    sd = sqrt(var)\n",
    "    return var, sd\n",
    "\n",
    "# No main\n",
    "data = [1, 3, 5, 7]\n",
    "print('Average= ', Avg(data))\n",
    "var, sd = var_sd(data)\n",
    "print('Scattering= ', var)\n",
    "print('Standard Deviation= ', sd)"
   ],
   "metadata": {
    "collapsed": false,
    "pycharm": {
     "name": "#%%\n"
    }
   }
  }
 ],
 "metadata": {
  "kernelspec": {
   "display_name": "Python 3",
   "language": "python",
   "name": "python3"
  },
  "language_info": {
   "codemirror_mode": {
    "name": "ipython",
    "version": 2
   },
   "file_extension": ".py",
   "mimetype": "text/x-python",
   "name": "python",
   "nbconvert_exporter": "python",
   "pygments_lexer": "ipython2",
   "version": "2.7.6"
  }
 },
 "nbformat": 4,
 "nbformat_minor": 0
}