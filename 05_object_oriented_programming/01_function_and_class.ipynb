{
 "cells": [
  {
   "cell_type": "code",
   "execution_count": null,
   "metadata": {
    "collapsed": true
   },
   "outputs": [],
   "source": [
    "#함수 형식\n",
    "'''\n",
    "def 외부함수(parameter):\n",
    "    변수선언\n",
    "    def 내부함수(parameter):\n",
    "        명령문\n",
    "        return 값\n",
    "    return 내부함수\n",
    "'''\n",
    "\n",
    "# 클래스 형식\n",
    "'''\n",
    "class 클래스명:\n",
    "    변수 선언:\n",
    "    def 생성자(인수):\n",
    "        명령문\n",
    "    def 함수명(인수):\n",
    "        명령문\n",
    "'''\n",
    "# no parameter"
   ]
  },
  {
   "cell_type": "code",
   "execution_count": 2,
   "outputs": [
    {
     "name": "stdout",
     "output_type": "stream",
     "text": [
      "plus=  30\n",
      "minus=  -10\n"
     ]
    }
   ],
   "source": [
    "## declaring function and call\n",
    "\n",
    "def calc_func(a, b):\n",
    "    x = a\n",
    "    y = b\n",
    "\n",
    "    def plus():\n",
    "        p = x + y\n",
    "        return p\n",
    "\n",
    "    def minus():\n",
    "        m = x - y\n",
    "        return m\n",
    "\n",
    "    return plus, minus\n",
    "\n",
    "p, m = calc_func(10, 20)\n",
    "\n",
    "print('plus= ', p())\n",
    "print('minus= ', m())"
   ],
   "metadata": {
    "collapsed": false,
    "pycharm": {
     "name": "#%%\n"
    }
   }
  },
  {
   "cell_type": "code",
   "execution_count": 25,
   "outputs": [
    {
     "ename": "TypeError",
     "evalue": "CalcClass() takes no arguments",
     "output_type": "error",
     "traceback": [
      "\u001B[0;31m---------------------------------------------------------------------------\u001B[0m",
      "\u001B[0;31mTypeError\u001B[0m                                 Traceback (most recent call last)",
      "\u001B[0;32m/var/folders/gl/4fxw6b294y5g_jmkgh0dgk580000gn/T/ipykernel_14176/2012363650.py\u001B[0m in \u001B[0;36m<module>\u001B[0;34m\u001B[0m\n\u001B[1;32m     15\u001B[0m \u001B[0;34m\u001B[0m\u001B[0m\n\u001B[1;32m     16\u001B[0m \u001B[0;34m\u001B[0m\u001B[0m\n\u001B[0;32m---> 17\u001B[0;31m \u001B[0mobj\u001B[0m \u001B[0;34m=\u001B[0m \u001B[0mCalcClass\u001B[0m\u001B[0;34m(\u001B[0m\u001B[0;36m10\u001B[0m\u001B[0;34m,\u001B[0m \u001B[0;36m20\u001B[0m\u001B[0;34m)\u001B[0m\u001B[0;34m\u001B[0m\u001B[0;34m\u001B[0m\u001B[0m\n\u001B[0m\u001B[1;32m     18\u001B[0m \u001B[0;34m\u001B[0m\u001B[0m\n\u001B[1;32m     19\u001B[0m \u001B[0mprint\u001B[0m\u001B[0;34m(\u001B[0m\u001B[0;34m'plus= '\u001B[0m\u001B[0;34m,\u001B[0m \u001B[0mobj\u001B[0m\u001B[0;34m.\u001B[0m\u001B[0mplus\u001B[0m\u001B[0;34m(\u001B[0m\u001B[0;34m)\u001B[0m\u001B[0;34m)\u001B[0m\u001B[0;34m\u001B[0m\u001B[0;34m\u001B[0m\u001B[0m\n",
      "\u001B[0;31mTypeError\u001B[0m: CalcClass() takes no arguments"
     ]
    }
   ],
   "source": [
    "## declaring class\n",
    "\n",
    "class CalcClass:\n",
    "    x = y = 0\n",
    "    #constructor: 객체생성 + 멤버변수 초기화\n",
    "    def __int__(self, x, y):\n",
    "        self.x = x\n",
    "        self.y = y\n",
    "    #클래스 함수\n",
    "    def plus(self):\n",
    "        return self.x + self.y\n",
    "    def minus(self):\n",
    "        return self.x + self.y\n",
    "\n",
    "obj = CalcClass(10, 20)\n",
    "\n",
    "print('plus= ', obj.plus())\n",
    "print('minus= ', obj.minus())"
   ],
   "metadata": {
    "collapsed": false,
    "pycharm": {
     "name": "#%%\n"
    }
   }
  },
  {
   "cell_type": "markdown",
   "source": [
    "## class 구성 요소"
   ],
   "metadata": {
    "collapsed": false,
    "pycharm": {
     "name": "#%% md\n"
    }
   }
  },
  {
   "cell_type": "code",
   "execution_count": 17,
   "outputs": [
    {
     "name": "stdout",
     "output_type": "stream",
     "text": [
      "Engine is 2000 cc, 4 door, and Sedan type\n",
      "Engine is 3000 cc, 2 door, and Coupe type\n"
     ]
    }
   ],
   "source": [
    "class Car:\n",
    "    # Member variable\n",
    "    cc = 0\n",
    "    door = 0\n",
    "    carType = None # null\n",
    "\n",
    "    #constructor\n",
    "    def __init__(self, cc, door, carType):\n",
    "        self.cc = cc\n",
    "        self.door = door\n",
    "        self.carType = carType\n",
    "    #method\n",
    "    def display(self):\n",
    "        print(\"Engine is %d cc, %d door, and %s type\" %(self.cc, self.door, self.carType))\n",
    "\n",
    "car1 = Car(2000, 4, \"Sedan\")\n",
    "car2 = Car(3000, 2, \"Coupe\")\n",
    "\n",
    "car1.display()\n",
    "car2.display()"
   ],
   "metadata": {
    "collapsed": false,
    "pycharm": {
     "name": "#%%\n"
    }
   }
  },
  {
   "cell_type": "markdown",
   "source": [
    "## Constructor"
   ],
   "metadata": {
    "collapsed": false,
    "pycharm": {
     "name": "#%% md\n"
    }
   }
  },
  {
   "cell_type": "code",
   "execution_count": 18,
   "outputs": [
    {
     "name": "stdout",
     "output_type": "stream",
     "text": [
      "multiply=  200\n"
     ]
    }
   ],
   "source": [
    "class Multiply:\n",
    "    x = y = 0\n",
    "\n",
    "    def __init__(self, x, y):\n",
    "        self.x = x\n",
    "        self.y = y\n",
    "\n",
    "    def mul(self):\n",
    "        return self.x * self.y\n",
    "\n",
    "obj = Multiply(10, 20)\n",
    "print('multiply= ', obj.mul())"
   ],
   "metadata": {
    "collapsed": false,
    "pycharm": {
     "name": "#%%\n"
    }
   }
  },
  {
   "cell_type": "code",
   "execution_count": 31,
   "outputs": [
    {
     "name": "stdout",
     "output_type": "stream",
     "text": [
      "Multiplication:  200\n"
     ]
    }
   ],
   "source": [
    "# method 이용 멤버변수 초기화\n",
    "\n",
    "class Multiply2:\n",
    "    x = y = 0\n",
    "\n",
    "    # No Constructor: 기본생성자 제공\n",
    "    def __init__(self):\n",
    "        pass\n",
    "    def data(self, x, y):\n",
    "        self.x = x\n",
    "        self.y = y\n",
    "    def mul(self):\n",
    "        return self.x * self.y\n",
    "\n",
    "obj = Multiply2() #기본 생성자\n",
    "obj.data(10, 20)\n",
    "print(\"Multiplication: \", obj.mul())"
   ],
   "metadata": {
    "collapsed": false,
    "pycharm": {
     "name": "#%%\n"
    }
   }
  },
  {
   "cell_type": "markdown",
   "source": [
    "## Destructor"
   ],
   "metadata": {
    "collapsed": false,
    "pycharm": {
     "name": "#%% md\n"
    }
   }
  },
  {
   "cell_type": "code",
   "execution_count": 32,
   "outputs": [
    {
     "data": {
      "text/plain": "200"
     },
     "execution_count": 32,
     "metadata": {},
     "output_type": "execute_result"
    }
   ],
   "source": [
    "class Multiply:\n",
    "    x = y = 0\n",
    "    def __init__(self, x, y):\n",
    "        self.x = x\n",
    "        self.y = y\n",
    "\n",
    "    def mul(self):\n",
    "        return self.x * self.y\n",
    "\n",
    "    def __del__(self):\n",
    "        del self.x\n",
    "        del self.y\n",
    "\n",
    "obj = Multiply(10, 20)\n",
    "obj.mul()"
   ],
   "metadata": {
    "collapsed": false,
    "pycharm": {
     "name": "#%%\n"
    }
   }
  },
  {
   "cell_type": "markdown",
   "source": [
    "## Self"
   ],
   "metadata": {
    "collapsed": false,
    "pycharm": {
     "name": "#%% md\n"
    }
   }
  },
  {
   "cell_type": "code",
   "execution_count": 39,
   "outputs": [
    {
     "name": "stdout",
     "output_type": "stream",
     "text": [
      "multiplication = 200\n"
     ]
    }
   ],
   "source": [
    "#self functions as caller of member variable and method\n",
    "\n",
    "class Multiply3:\n",
    "    # no member variable\n",
    "    # no constructor\n",
    "\n",
    "    def data(self, x, y):\n",
    "        self.x = x\n",
    "        self.y = y\n",
    "\n",
    "    def mul(self):\n",
    "        result = self.x * self.y\n",
    "        self.display(result)\n",
    "\n",
    "    def display(self, result):\n",
    "        print('multiplication = %d' %(result))\n",
    "\n",
    "obj = Multiply3()\n",
    "obj.data(10,20)\n",
    "obj.mul()"
   ],
   "metadata": {
    "collapsed": false,
    "pycharm": {
     "name": "#%%\n"
    }
   }
  },
  {
   "cell_type": "markdown",
   "source": [
    "## class member"
   ],
   "metadata": {
    "collapsed": false,
    "pycharm": {
     "name": "#%% md\n"
    }
   }
  },
  {
   "cell_type": "code",
   "execution_count": 44,
   "outputs": [
    {
     "name": "stdout",
     "output_type": "stream",
     "text": [
      "Date Processing Class\n",
      "1995\n",
      "1995-19-25\n",
      "Date Processing Class\n",
      "1995year 19month 25day\n"
     ]
    }
   ],
   "source": [
    "class DatePro:\n",
    "    #Member Varialbe\n",
    "    content = \"Date Processing Class\"\n",
    "\n",
    "    #constructor\n",
    "    def __init__(self, year, month, day):\n",
    "        self.year = year\n",
    "        self.month = month\n",
    "        self.day = day\n",
    "\n",
    "    #instance method(instance method)\n",
    "    def display(self):\n",
    "        print(\"%d-%d-%d\" %(self.year, self.month, self.day))\n",
    "\n",
    "    #class method\n",
    "    @classmethod\n",
    "    def date_string(cls, dateStr):\n",
    "        year = dateStr[:4]\n",
    "        month = dateStr[4:6]\n",
    "        day = dateStr[6:]\n",
    "\n",
    "        print(f\"{year}year {month}month {day}day\")\n",
    "\n",
    "# object member\n",
    "date = DatePro(1995, 19, 25) #constructor\n",
    "print(date.content) #날짜 처리 클래스\n",
    "print(date.year) # 1995\n",
    "date.display()\n",
    "\n",
    "# class member\n",
    "print(DatePro.content) # 날짜 처리 클래스\n",
    "#print(DatePro.year) #Attribute error\n",
    "DatePro.date_string('19951925')"
   ],
   "metadata": {
    "collapsed": false,
    "pycharm": {
     "name": "#%%\n"
    }
   }
  },
  {
   "cell_type": "code",
   "execution_count": null,
   "outputs": [],
   "source": [],
   "metadata": {
    "collapsed": false,
    "pycharm": {
     "name": "#%%\n"
    }
   }
  }
 ],
 "metadata": {
  "kernelspec": {
   "display_name": "Python 3",
   "language": "python",
   "name": "python3"
  },
  "language_info": {
   "codemirror_mode": {
    "name": "ipython",
    "version": 2
   },
   "file_extension": ".py",
   "mimetype": "text/x-python",
   "name": "python",
   "nbconvert_exporter": "python",
   "pygments_lexer": "ipython2",
   "version": "2.7.6"
  }
 },
 "nbformat": 4,
 "nbformat_minor": 0
}