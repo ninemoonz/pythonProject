{
 "cells": [
  {
   "cell_type": "markdown",
   "metadata": {
    "collapsed": true,
    "pycharm": {
     "name": "#%% md\n"
    }
   },
   "source": [
    "# module"
   ]
  },
  {
   "cell_type": "code",
   "execution_count": null,
   "outputs": [],
   "source": [
    "# group of function and class\n",
    "# builtin functions -> library\n",
    "# costume functions -> user defined functions\n",
    "# builtin functions does not need to do import"
   ],
   "metadata": {
    "collapsed": false,
    "pycharm": {
     "name": "#%%\n"
    }
   }
  },
  {
   "cell_type": "markdown",
   "source": [
    "## builtin functions"
   ],
   "metadata": {
    "collapsed": false,
    "pycharm": {
     "name": "#%% md\n"
    }
   }
  },
  {
   "cell_type": "code",
   "execution_count": 5,
   "outputs": [
    {
     "name": "stdout",
     "output_type": "stream",
     "text": [
      "Help on built-in function len in module builtins:\n",
      "\n",
      "len(obj, /)\n",
      "    Return the number of items in a container.\n",
      "\n",
      "[1, 2, 3, 4, 5]\n",
      "len=  5\n",
      "sum=  15\n",
      "max=  5\n",
      "min=  1\n"
     ]
    }
   ],
   "source": [
    "help(len)\n",
    "dataset = list(range(1, 6))\n",
    "print(dataset)\n",
    "\n",
    "print('len= ', len(dataset))\n",
    "print('sum= ', sum(dataset))\n",
    "print('max= ', max(dataset))\n",
    "print('min= ', min(dataset))"
   ],
   "metadata": {
    "collapsed": false,
    "pycharm": {
     "name": "#%%\n"
    }
   }
  },
  {
   "cell_type": "markdown",
   "source": [
    "## import functions"
   ],
   "metadata": {
    "collapsed": false,
    "pycharm": {
     "name": "#%% md\n"
    }
   }
  },
  {
   "cell_type": "code",
   "execution_count": 7,
   "outputs": [
    {
     "name": "stdout",
     "output_type": "stream",
     "text": [
      "average=  3\n",
      "median=  3\n",
      "\n",
      "variance=  2.5\n",
      "standard deviance=  1.5811388300841898\n"
     ]
    }
   ],
   "source": [
    "import statistics\n",
    "from statistics import variance, stdev\n",
    "\n",
    "# can call by moduleName.functionName()\n",
    "print('average= ', statistics.mean(dataset))\n",
    "print('median= ', statistics.median(dataset))\n",
    "print()\n",
    "# can call by functionName()\n",
    "print('variance= ', variance(dataset))\n",
    "print('standard deviance= ', stdev(dataset))"
   ],
   "metadata": {
    "collapsed": false,
    "pycharm": {
     "name": "#%%\n"
    }
   }
  },
  {
   "cell_type": "code",
   "execution_count": 14,
   "outputs": [
    {
     "data": {
      "text/plain": "['__add__',\n '__class__',\n '__class_getitem__',\n '__contains__',\n '__delattr__',\n '__delitem__',\n '__dir__',\n '__doc__',\n '__eq__',\n '__format__',\n '__ge__',\n '__getattribute__',\n '__getitem__',\n '__gt__',\n '__hash__',\n '__iadd__',\n '__imul__',\n '__init__',\n '__init_subclass__',\n '__iter__',\n '__le__',\n '__len__',\n '__lt__',\n '__mul__',\n '__ne__',\n '__new__',\n '__reduce__',\n '__reduce_ex__',\n '__repr__',\n '__reversed__',\n '__rmul__',\n '__setattr__',\n '__setitem__',\n '__sizeof__',\n '__str__',\n '__subclasshook__',\n 'append',\n 'clear',\n 'copy',\n 'count',\n 'extend',\n 'index',\n 'insert',\n 'pop',\n 'remove',\n 'reverse',\n 'sort']"
     },
     "execution_count": 14,
     "metadata": {},
     "output_type": "execute_result"
    }
   ],
   "source": [
    "import builtins\n",
    "# can see the resource by command + mouse click\n",
    "dir(builtins)\n",
    "\n",
    "x = [1,2,3,4,5]\n",
    "dir(x)"
   ],
   "metadata": {
    "collapsed": false,
    "pycharm": {
     "name": "#%%\n"
    }
   }
  },
  {
   "cell_type": "markdown",
   "source": [
    "## user-defined function"
   ],
   "metadata": {
    "collapsed": false,
    "pycharm": {
     "name": "#%% md\n"
    }
   }
  },
  {
   "cell_type": "code",
   "execution_count": 19,
   "outputs": [
    {
     "name": "stdout",
     "output_type": "stream",
     "text": [
      "userFunc1\n",
      "function without parameters\n",
      "userFunc2\n",
      "z=  30\n",
      "userFunc3\n",
      "tot=  24\n",
      "sub=  16\n",
      "mul=  80\n",
      "div=  5.0\n"
     ]
    }
   ],
   "source": [
    "'''\n",
    "def functionName(parameter):\n",
    "    statements\n",
    "    return value\n",
    "'''\n",
    "# function without parameter\n",
    "def userFunc1():\n",
    "    print('userFunc1')\n",
    "    print('function without parameters')\n",
    "userFunc1()\n",
    "\n",
    "# function with parameter\n",
    "def userFunc2(x, y):\n",
    "    print('userFunc2')\n",
    "    z = x + y\n",
    "    print('z= ', z)\n",
    "userFunc2(10, 20)\n",
    "\n",
    "# function with return value\n",
    "def userFunc3(x, y):\n",
    "    print('userFunc3')\n",
    "    tot = x + y\n",
    "    sub = x - y\n",
    "    mul = x * y\n",
    "    div = x / y\n",
    "\n",
    "    return tot, sub, mul, div\n",
    "\n",
    "x = int(input('x value: '))\n",
    "y = int(input('y value: '))\n",
    "\n",
    "\n",
    "t, s, m, d = userFunc3(x, y)\n",
    "print('tot= ', t)\n",
    "print('sub= ', s)\n",
    "print('mul= ', m)\n",
    "print('div= ', d)"
   ],
   "metadata": {
    "collapsed": false,
    "pycharm": {
     "name": "#%%\n"
    }
   }
  },
  {
   "cell_type": "markdown",
   "source": [
    "## Dispersion"
   ],
   "metadata": {
    "collapsed": false,
    "pycharm": {
     "name": "#%% md\n"
    }
   }
  },
  {
   "cell_type": "code",
   "execution_count": 22,
   "outputs": [
    {
     "name": "stdout",
     "output_type": "stream",
     "text": [
      "산술평균:  4.333333333333333\n",
      "분산:  6.666666666666667\n",
      "표준편차: 2.581988897471611\n"
     ]
    }
   ],
   "source": [
    "from statistics import mean, variance\n",
    "from math import sqrt\n",
    "\n",
    "dataset = [2, 4, 6, 8, 5, 1]\n",
    "\n",
    "# 산술평균\n",
    "def Avg(data):\n",
    "    avg = mean(data)\n",
    "    return avg\n",
    "\n",
    "print('산술평균: ', Avg(dataset))\n",
    "\n",
    "# 분산/표준 편차\n",
    "def var_sd(data):\n",
    "    avg = Avg(data)\n",
    "    diff = [(d - avg)**2 for d in data]\n",
    "\n",
    "    var = sum(diff) / (len(data) - 1)\n",
    "    sd = sqrt(var)\n",
    "\n",
    "    return var, sd\n",
    "\n",
    "v, s = var_sd(dataset)\n",
    "print('분산: ', v)\n",
    "print('표준편차:', s)"
   ],
   "metadata": {
    "collapsed": false,
    "pycharm": {
     "name": "#%%\n"
    }
   }
  },
  {
   "cell_type": "markdown",
   "source": [
    "## Pythagoriean Theorem"
   ],
   "metadata": {
    "collapsed": false,
    "pycharm": {
     "name": "#%% md\n"
    }
   }
  },
  {
   "cell_type": "code",
   "execution_count": 23,
   "outputs": [
    {
     "name": "stdout",
     "output_type": "stream",
     "text": [
      "Length of three sides:  3 4 5\n"
     ]
    }
   ],
   "source": [
    "# c**2 = a**2 + b**2\n",
    "def pytha(s, t):\n",
    "    a = s**2 - t**2\n",
    "    b = 2 * s * t\n",
    "    c = s**2 + t**2\n",
    "    print('Length of three sides: ', a, b, c)\n",
    "\n",
    "pytha(2, 1)"
   ],
   "metadata": {
    "collapsed": false,
    "pycharm": {
     "name": "#%%\n"
    }
   }
  },
  {
   "cell_type": "markdown",
   "source": [
    "## Monte Carlo Simulation"
   ],
   "metadata": {
    "collapsed": false,
    "pycharm": {
     "name": "#%% md\n"
    }
   }
  },
  {
   "cell_type": "code",
   "execution_count": 63,
   "outputs": [
    {
     "name": "stdout",
     "output_type": "stream",
     "text": [
      "[0, 0, 0, 0, 0, 1, 0, 0, 0, 1]\n",
      "0.8\n",
      "0.39\n",
      "0.504\n",
      "0.5044\n"
     ]
    }
   ],
   "source": [
    "# 현실적으로 실행하기 불가능한 실험을 하기 위한 시뮬레이션\n",
    "import random\n",
    "\n",
    "def coin(n):\n",
    "    result = []\n",
    "    for i in range(n):\n",
    "        r = random.randint(0, 1)\n",
    "        if r == 1:\n",
    "            result.append(1)\n",
    "        else:\n",
    "            result.append(0)\n",
    "    return result\n",
    "\n",
    "print(coin(10))\n",
    "\n",
    "# Monte Carlo Simulation function\n",
    "def monteCoin(n):\n",
    "    cnt = 0\n",
    "    for i in range(n):\n",
    "        cnt += coin(1)[0] #coin 함수 호출 list의 첫번째 번호\n",
    "\n",
    "    result = cnt / n\n",
    "    return result\n",
    "\n",
    "print(monteCoin(10))\n",
    "print(monteCoin(100))\n",
    "print(monteCoin(1000))\n",
    "print(monteCoin(10000))\n"
   ],
   "metadata": {
    "collapsed": false,
    "pycharm": {
     "name": "#%%\n"
    }
   }
  },
  {
   "cell_type": "markdown",
   "source": [
    "## special function"
   ],
   "metadata": {
    "collapsed": false,
    "pycharm": {
     "name": "#%% md\n"
    }
   }
  },
  {
   "cell_type": "code",
   "execution_count": 70,
   "outputs": [
    {
     "name": "stdout",
     "output_type": "stream",
     "text": [
      "Apple\n",
      "('AMD', 'SamSung', 'Krafton')\n",
      "avg=  3\n",
      "var=  2.5\n",
      "std=  1.5811388300841898\n",
      "홍길동\n",
      "35\n",
      "{'addr': '서울시', 'height': 175, 'weight': 68}\n"
     ]
    }
   ],
   "source": [
    "# functions only offered in python\n",
    "\n",
    "# Variable Argument Function 가변인수 함수\n",
    "'''\n",
    "def functionName(parameter, *parameter, **parameter)\n",
    "\n",
    "*parameter: tuple data type\n",
    "**parameter: dict data type\n",
    "'''\n",
    "## tuple variable argument\n",
    "def Func1(name, *names):\n",
    "    print(name)\n",
    "    print(names)\n",
    "\n",
    "Func1('Apple','AMD','SamSung','Krafton')\n",
    "\n",
    "from statistics import mean, variance, stdev\n",
    "#통계량 구하는 함수\n",
    "def statis(func, *data):\n",
    "    if func == 'avg':\n",
    "        return mean(data)\n",
    "    elif func == 'var':\n",
    "        return variance(data)\n",
    "    elif func == 'std':\n",
    "        return stdev(data)\n",
    "    else:\n",
    "        return 'Type Error'\n",
    "\n",
    "print('avg= ', statis('avg', 1, 2, 3, 4, 5))\n",
    "print('var= ', statis('var', 1, 2, 3, 4, 5))\n",
    "print('std= ', statis('std', 1, 2, 3, 4, 5))\n",
    "\n",
    "# dict variable argument\n",
    "def emp_func(name, age, **other):\n",
    "    print(name)\n",
    "    print(age)\n",
    "    print(other)\n",
    "\n",
    "emp_func('홍길동', 35, addr='서울시', height=175, weight=68)"
   ],
   "metadata": {
    "collapsed": false,
    "pycharm": {
     "name": "#%%\n"
    }
   }
  },
  {
   "cell_type": "markdown",
   "source": [
    "## lambda function"
   ],
   "metadata": {
    "collapsed": false,
    "pycharm": {
     "name": "#%% md\n"
    }
   }
  },
  {
   "cell_type": "code",
   "execution_count": 76,
   "outputs": [
    {
     "name": "stdout",
     "output_type": "stream",
     "text": [
      "add=  30\n",
      "add=  30\n"
     ]
    }
   ],
   "source": [
    "# declaring and calling a function at once\n",
    "# also called inline function\n",
    "\n",
    "'''\n",
    "syntax:\n",
    "lambda parameter : statement(return value)\n",
    "'''\n",
    "# regular function\n",
    "def Adder(x, y):\n",
    "    add = x + y\n",
    "    return add\n",
    "print('add= ', Adder(10, 20))\n",
    "\n",
    "# lambda function\n",
    "print('add= ', (lambda x, y : x + y)(10, 20))"
   ],
   "metadata": {
    "collapsed": false,
    "pycharm": {
     "name": "#%%\n"
    }
   }
  },
  {
   "cell_type": "markdown",
   "source": [
    "## scope"
   ],
   "metadata": {
    "collapsed": false,
    "pycharm": {
     "name": "#%% md\n"
    }
   }
  },
  {
   "cell_type": "code",
   "execution_count": 78,
   "outputs": [
    {
     "name": "stdout",
     "output_type": "stream",
     "text": [
      "x=  50\n",
      "x=  100\n"
     ]
    }
   ],
   "source": [
    "# the range of variable can be used\n",
    "# can be determined by blocks (if, for while, etc)\n",
    "'''\n",
    "syntax for global variable\n",
    "def functionName(parameter):\n",
    "    global variableName\n",
    "'''\n",
    "\n",
    "# local variable\n",
    "x = 50\n",
    "def local_func(x):\n",
    "    x += 50 # local variable -> terminated when function finishes\n",
    "local_func(x) # terminated\n",
    "\n",
    "print('x= ', x) # only shows the x outside of function block\n",
    "\n",
    "# global variable\n",
    "def global_func():\n",
    "    global x\n",
    "    x += 50\n",
    "global_func()\n",
    "print('x= ', x)"
   ],
   "metadata": {
    "collapsed": false,
    "pycharm": {
     "name": "#%%\n"
    }
   }
  },
  {
   "cell_type": "markdown",
   "source": [
    "## nested function"
   ],
   "metadata": {
    "collapsed": false,
    "pycharm": {
     "name": "#%% md\n"
    }
   }
  },
  {
   "cell_type": "code",
   "execution_count": null,
   "outputs": [],
   "source": [
    "'''\n",
    "syntax:\n",
    "def outerFunction():\n",
    "    statements\n",
    "    def innerFunction():\n",
    "        statements\n",
    "        return value\n",
    "    return innerFunction_value\n",
    "'''"
   ],
   "metadata": {
    "collapsed": false,
    "pycharm": {
     "name": "#%%\n"
    }
   }
  },
  {
   "cell_type": "code",
   "execution_count": 86,
   "outputs": [
    {
     "name": "stdout",
     "output_type": "stream",
     "text": [
      "a function\n",
      "b function\n",
      "tot=  5050\n",
      "avg=  50.5\n"
     ]
    }
   ],
   "source": [
    "# First class function\n",
    "# storing functions inside variables\n",
    "def a():\n",
    "    print('a function')\n",
    "    def b():\n",
    "        print('b function')\n",
    "    return b\n",
    "\n",
    "b = a() # first class function\n",
    "b()\n",
    "\n",
    "# function closure\n",
    "data = list(range(1, 101))\n",
    "\n",
    "def outer_func(data):\n",
    "    dataSet = data\n",
    "\n",
    "    def tot():\n",
    "        tot_val = sum(dataSet)\n",
    "        return tot_val\n",
    "    def avg(tot_val):\n",
    "        avg_val = tot_val / len(dataSet)\n",
    "        return avg_val\n",
    "\n",
    "    return tot, avg\n",
    "\n",
    "tot, avg = outer_func(data)\n",
    "\n",
    "tot_val = tot()\n",
    "print('tot= ', tot_val)\n",
    "\n",
    "avg_val=avg(tot_val)\n",
    "print('avg= ', avg_val)"
   ],
   "metadata": {
    "collapsed": false,
    "pycharm": {
     "name": "#%%\n"
    }
   }
  },
  {
   "cell_type": "code",
   "execution_count": 98,
   "outputs": [
    {
     "ename": "TypeError",
     "evalue": "'float' object is not callable",
     "output_type": "error",
     "traceback": [
      "\u001B[0;31m---------------------------------------------------------------------------\u001B[0m",
      "\u001B[0;31mTypeError\u001B[0m                                 Traceback (most recent call last)",
      "\u001B[0;32m/var/folders/gl/4fxw6b294y5g_jmkgh0dgk580000gn/T/ipykernel_9052/1794258545.py\u001B[0m in \u001B[0;36m<module>\u001B[0;34m\u001B[0m\n\u001B[1;32m     28\u001B[0m \u001B[0;34m\u001B[0m\u001B[0m\n\u001B[1;32m     29\u001B[0m \u001B[0;31m# calling inner functions\u001B[0m\u001B[0;34m\u001B[0m\u001B[0;34m\u001B[0m\u001B[0m\n\u001B[0;32m---> 30\u001B[0;31m \u001B[0mprint\u001B[0m\u001B[0;34m(\u001B[0m\u001B[0;34m'average: '\u001B[0m\u001B[0;34m,\u001B[0m \u001B[0mavg_val\u001B[0m\u001B[0;34m(\u001B[0m\u001B[0;34m)\u001B[0m\u001B[0;34m)\u001B[0m\u001B[0;34m\u001B[0m\u001B[0;34m\u001B[0m\u001B[0m\n\u001B[0m\u001B[1;32m     31\u001B[0m \u001B[0mprint\u001B[0m\u001B[0;34m(\u001B[0m\u001B[0;34m'variance: '\u001B[0m\u001B[0;34m,\u001B[0m \u001B[0mvar\u001B[0m\u001B[0;34m(\u001B[0m\u001B[0mavg\u001B[0m\u001B[0;34m(\u001B[0m\u001B[0;34m)\u001B[0m\u001B[0;34m)\u001B[0m\u001B[0;34m)\u001B[0m\u001B[0;34m\u001B[0m\u001B[0;34m\u001B[0m\u001B[0m\n\u001B[1;32m     32\u001B[0m \u001B[0mprint\u001B[0m\u001B[0;34m(\u001B[0m\u001B[0;34m'standard deviation: '\u001B[0m\u001B[0;34m,\u001B[0m \u001B[0mstd\u001B[0m\u001B[0;34m(\u001B[0m\u001B[0mvar\u001B[0m\u001B[0;34m(\u001B[0m\u001B[0mavg\u001B[0m\u001B[0;34m(\u001B[0m\u001B[0;34m)\u001B[0m\u001B[0;34m)\u001B[0m\u001B[0;34m)\u001B[0m\u001B[0;34m)\u001B[0m\u001B[0;34m\u001B[0m\u001B[0;34m\u001B[0m\u001B[0m\n",
      "\u001B[0;31mTypeError\u001B[0m: 'float' object is not callable"
     ]
    }
   ],
   "source": [
    "# 산포도 구하는 중첩함수\n",
    "from statistics import mean\n",
    "from math import sqrt\n",
    "\n",
    "data1 = [4, 7, 3.2, 1.8, 5.5, 8.1]\n",
    "\n",
    "# outer function : scattering function\n",
    "def scattering_func(data):\n",
    "    dataSet = data1\n",
    "\n",
    "    #inner function\n",
    "\n",
    "    def avg_func():\n",
    "        avg_val = mean(dataSet)\n",
    "        return avg_val\n",
    "\n",
    "    def var_func(avg_val):\n",
    "        diff = [(data - avg_val)**2 for data in dataSet]\n",
    "        print(sum(diff))\n",
    "        var_val = sum(diff) / (len(dataSet) - 1)\n",
    "        return var_val\n",
    "\n",
    "    def std_func(var):\n",
    "        std_val = sqrt(var)\n",
    "        return std_val\n",
    "\n",
    "    return avg_func, var_func, std_func\n",
    "\n",
    "# calling inner functions\n",
    "print('average: ', avg_val())\n",
    "print('variance: ', var(avg()))\n",
    "print('standard deviation: ', std(var(avg())))\n",
    "\n",
    "## NOT SURE WHY IS NOT WORKING\n"
   ],
   "metadata": {
    "collapsed": false,
    "pycharm": {
     "name": "#%%\n"
    }
   }
  },
  {
   "cell_type": "markdown",
   "source": [
    "## nonlocal"
   ],
   "metadata": {
    "collapsed": false,
    "pycharm": {
     "name": "#%% md\n"
    }
   }
  },
  {
   "cell_type": "code",
   "execution_count": 102,
   "outputs": [
    {
     "name": "stdout",
     "output_type": "stream",
     "text": [
      "num=  100\n",
      "num=  200\n"
     ]
    }
   ],
   "source": [
    "# inner functions also work as getters and setters\n",
    "'''\n",
    "syntax:\n",
    "def outerFunc():\n",
    "    variable = value\n",
    "    def innerFunc():\n",
    "        nonlocal variable\n",
    "'''\n",
    "\n",
    "def main_func(num):\n",
    "    num_val = num\n",
    "    def getter():\n",
    "        return num_val\n",
    "    def setter(value):\n",
    "        nonlocal num_val\n",
    "        num_val = value\n",
    "    return getter, setter\n",
    "\n",
    "# calling outer function\n",
    "getter, setter = main_func(100)\n",
    "\n",
    "# calling getter\n",
    "print('num= ', getter())\n",
    "\n",
    "# calling setter\n",
    "setter(200) # edit value\n",
    "print('num= ', getter())"
   ],
   "metadata": {
    "collapsed": false,
    "pycharm": {
     "name": "#%%\n"
    }
   }
  },
  {
   "cell_type": "markdown",
   "source": [
    "## function decoration"
   ],
   "metadata": {
    "collapsed": false,
    "pycharm": {
     "name": "#%% md\n"
    }
   }
  },
  {
   "cell_type": "code",
   "execution_count": 105,
   "outputs": [
    {
     "name": "stdout",
     "output_type": "stream",
     "text": [
      "hello!\n",
      "hi! Tyler\n",
      "good bye!\n"
     ]
    }
   ],
   "source": [
    "'''\n",
    "syntax:\n",
    "@wrap\n",
    "def hello():\n",
    "    print('hello')\n",
    "'''\n",
    "\n",
    "def greet(func):\n",
    "    def decorated():\n",
    "        print('hello!')\n",
    "        func()\n",
    "        print('good bye!')\n",
    "    return decorated\n",
    "\n",
    "@greet\n",
    "def hello():\n",
    "    print('hi!', \"Tyler\")\n",
    "\n",
    "hello()"
   ],
   "metadata": {
    "collapsed": false,
    "pycharm": {
     "name": "#%%\n"
    }
   }
  },
  {
   "cell_type": "markdown",
   "source": [
    "## recursive function"
   ],
   "metadata": {
    "collapsed": false,
    "pycharm": {
     "name": "#%% md\n"
    }
   }
  },
  {
   "cell_type": "code",
   "execution_count": 123,
   "outputs": [
    {
     "name": "stdout",
     "output_type": "stream",
     "text": [
      "n=0 0\n",
      "n=5 None\n"
     ]
    }
   ],
   "source": [
    "# saved in stack memory\n",
    "# repeatedly calling function inside of function\n",
    "\n",
    "#count\n",
    "def counter(n):\n",
    "    if n == 0:\n",
    "        return 0\n",
    "    else :\n",
    "        counter(n-1)\n",
    "\n",
    "\n",
    "print('n=0', counter(0))\n",
    "print('n=5', counter(5)) #?"
   ],
   "metadata": {
    "collapsed": false,
    "pycharm": {
     "name": "#%%\n"
    }
   }
  },
  {
   "cell_type": "markdown",
   "source": [
    "## cumulative누적합"
   ],
   "metadata": {
    "collapsed": false,
    "pycharm": {
     "name": "#%% md\n"
    }
   }
  },
  {
   "cell_type": "code",
   "execution_count": 126,
   "outputs": [
    {
     "name": "stdout",
     "output_type": "stream",
     "text": [
      "n=1 1\n",
      "2 3 4 5 6 7 8 9 10 n=5 55\n"
     ]
    }
   ],
   "source": [
    "# definition of cumulative : factorial\n",
    "# 1 ~ n = 1 + 2 + 3 + 4 + 5 + ... + n\n",
    "\n",
    "def cumul(n):\n",
    "    if n == 1:\n",
    "        return 1\n",
    "    else:\n",
    "        result = n + cumul(n-1) # 재귀호출\n",
    "\n",
    "        print(n, end = ' ') #stack area\n",
    "        return result\n",
    "\n",
    "print('n=1', cumul(1))\n",
    "print('n=5', cumul(10))"
   ],
   "metadata": {
    "collapsed": false,
    "pycharm": {
     "name": "#%%\n"
    }
   }
  }
 ],
 "metadata": {
  "kernelspec": {
   "display_name": "Python 3",
   "language": "python",
   "name": "python3"
  },
  "language_info": {
   "codemirror_mode": {
    "name": "ipython",
    "version": 2
   },
   "file_extension": ".py",
   "mimetype": "text/x-python",
   "name": "python",
   "nbconvert_exporter": "python",
   "pygments_lexer": "ipython2",
   "version": "2.7.6"
  }
 },
 "nbformat": 4,
 "nbformat_minor": 0
}