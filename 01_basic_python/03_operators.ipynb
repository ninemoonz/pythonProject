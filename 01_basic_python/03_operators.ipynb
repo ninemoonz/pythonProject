{
 "cells": [
  {
   "cell_type": "markdown",
   "source": [
    "## Operators"
   ],
   "metadata": {
    "collapsed": false,
    "pycharm": {
     "name": "#%% md\n"
    }
   }
  },
  {
   "cell_type": "code",
   "execution_count": 3,
   "outputs": [
    {
     "name": "stdout",
     "output_type": "stream",
     "text": [
      "133\n",
      "67\n",
      "3300\n",
      "3.0303030303030303\n",
      "1\n",
      "10000\n"
     ]
    }
   ],
   "source": [
    "num1 = 100\n",
    "num2 = 33\n",
    "\n",
    "add = num1 + num2\n",
    "print(add)\n",
    "\n",
    "sub = num1 - num2\n",
    "print(sub)\n",
    "\n",
    "mul = num1 * num2\n",
    "print(mul)\n",
    "\n",
    "div = num1 / num2\n",
    "print(div)\n",
    "\n",
    "div2 = num1 % num2\n",
    "print(div2)\n",
    "\n",
    "square = num1 ** 2\n",
    "print(square)"
   ],
   "metadata": {
    "collapsed": false,
    "pycharm": {
     "name": "#%%\n"
    }
   }
  },
  {
   "cell_type": "markdown",
   "source": [
    "## Relational Operators\n",
    "### comparing two data and give boolean values"
   ],
   "metadata": {
    "collapsed": false,
    "pycharm": {
     "name": "#%% md\n"
    }
   }
  },
  {
   "cell_type": "code",
   "execution_count": 5,
   "outputs": [
    {
     "name": "stdout",
     "output_type": "stream",
     "text": [
      "False\n",
      "True\n",
      "True\n",
      "False\n",
      "True\n"
     ]
    }
   ],
   "source": [
    "a = 100\n",
    "b = 120\n",
    "c = 100\n",
    "\n",
    "bool_result = a == b\n",
    "print(bool_result)\n",
    "\n",
    "bool_result2 = a != b\n",
    "print(bool_result2)\n",
    "\n",
    "bool_result3 = a == c\n",
    "print(bool_result2)\n",
    "\n",
    "compare1 = a > b\n",
    "print(compare1)\n",
    "\n",
    "compare2 = b >= c\n",
    "print(compare2)"
   ],
   "metadata": {
    "collapsed": false,
    "pycharm": {
     "name": "#%%\n"
    }
   }
  },
  {
   "cell_type": "markdown",
   "source": [
    "## Logic operator\n",
    "### comparing two operators using relational operator to make boolean value"
   ],
   "metadata": {
    "collapsed": false,
    "pycharm": {
     "name": "#%% md\n"
    }
   }
  },
  {
   "cell_type": "code",
   "execution_count": 11,
   "outputs": [
    {
     "name": "stdout",
     "output_type": "stream",
     "text": [
      "True\n",
      "True\n",
      "False\n",
      "False\n"
     ]
    }
   ],
   "source": [
    "# uses and, or, not\n",
    "\n",
    "num1 = 100\n",
    "num2 = 30\n",
    "\n",
    "log_result = num1 >= 100 and num2 <= 40\n",
    "print(log_result)\n",
    "\n",
    "log_result = num1 < 100 or num2 <= 40\n",
    "print(log_result)\n",
    "\n",
    "log_result = num1 < 100 and num2 <= 40\n",
    "print(log_result)\n",
    "\n",
    "log_result = not(num1 >= 50)\n",
    "print(log_result)"
   ],
   "metadata": {
    "collapsed": false,
    "pycharm": {
     "name": "#%%\n"
    }
   }
  },
  {
   "cell_type": "markdown",
   "source": [
    "## 대입연산자"
   ],
   "metadata": {
    "collapsed": false,
    "pycharm": {
     "name": "#%% md\n"
    }
   }
  },
  {
   "cell_type": "code",
   "execution_count": 13,
   "outputs": [
    {
     "name": "stdout",
     "output_type": "stream",
     "text": [
      "11 21\n"
     ]
    }
   ],
   "source": [
    "i = tot = 10\n",
    "i += 1\n",
    "tot += i\n",
    "print(i, tot)"
   ],
   "metadata": {
    "collapsed": false,
    "pycharm": {
     "name": "#%%\n"
    }
   }
  },
  {
   "cell_type": "code",
   "execution_count": 15,
   "outputs": [
    {
     "name": "stdout",
     "output_type": "stream",
     "text": [
      "output1, output2\n"
     ]
    }
   ],
   "source": [
    "## print on same line\n",
    "print('output1', end=', ')\n",
    "print('output2')\n",
    "# end = '구분자'"
   ],
   "metadata": {
    "collapsed": false,
    "pycharm": {
     "name": "#%%\n"
    }
   }
  },
  {
   "cell_type": "code",
   "execution_count": 16,
   "outputs": [
    {
     "name": "stdout",
     "output_type": "stream",
     "text": [
      "200 100\n"
     ]
    }
   ],
   "source": [
    "## variable swap\n",
    "v1, v2 = 100, 200\n",
    "v1, v2 = v2, v1\n",
    "\n",
    "print(v1, v2)"
   ],
   "metadata": {
    "collapsed": false,
    "pycharm": {
     "name": "#%%\n"
    }
   }
  },
  {
   "cell_type": "code",
   "execution_count": 19,
   "outputs": [
    {
     "name": "stdout",
     "output_type": "stream",
     "text": [
      "1 [2, 3, 4, 5]\n",
      "[1, 2, 3, 4] 5\n"
     ]
    },
    {
     "ename": "ValueError",
     "evalue": "too many values to unpack (expected 2)",
     "output_type": "error",
     "traceback": [
      "\u001B[0;31m---------------------------------------------------------------------------\u001B[0m",
      "\u001B[0;31mValueError\u001B[0m                                Traceback (most recent call last)",
      "\u001B[0;32m/var/folders/gl/4fxw6b294y5g_jmkgh0dgk580000gn/T/ipykernel_51716/4162641522.py\u001B[0m in \u001B[0;36m<module>\u001B[0;34m\u001B[0m\n\u001B[1;32m      5\u001B[0m \u001B[0;34m*\u001B[0m\u001B[0mv1\u001B[0m\u001B[0;34m,\u001B[0m \u001B[0mv2\u001B[0m \u001B[0;34m=\u001B[0m \u001B[0mlst\u001B[0m\u001B[0;34m\u001B[0m\u001B[0;34m\u001B[0m\u001B[0m\n\u001B[1;32m      6\u001B[0m \u001B[0mprint\u001B[0m\u001B[0;34m(\u001B[0m\u001B[0mv1\u001B[0m\u001B[0;34m,\u001B[0m \u001B[0mv2\u001B[0m\u001B[0;34m)\u001B[0m\u001B[0;34m\u001B[0m\u001B[0;34m\u001B[0m\u001B[0m\n\u001B[0;32m----> 7\u001B[0;31m \u001B[0mv3\u001B[0m\u001B[0;34m,\u001B[0m \u001B[0mv4\u001B[0m \u001B[0;34m=\u001B[0m \u001B[0mlst\u001B[0m\u001B[0;34m\u001B[0m\u001B[0;34m\u001B[0m\u001B[0m\n\u001B[0m\u001B[1;32m      8\u001B[0m \u001B[0mprint\u001B[0m\u001B[0;34m(\u001B[0m\u001B[0mv3\u001B[0m\u001B[0;34m,\u001B[0m \u001B[0mv4\u001B[0m\u001B[0;34m)\u001B[0m\u001B[0;34m\u001B[0m\u001B[0;34m\u001B[0m\u001B[0m\n",
      "\u001B[0;31mValueError\u001B[0m: too many values to unpack (expected 2)"
     ]
    }
   ],
   "source": [
    "# packing distribution\n",
    "lst = [1,2,3,4,5]\n",
    "v1, *v2 = lst\n",
    "print(v1, v2)\n",
    "*v1, v2 = lst\n",
    "print(v1, v2)\n",
    "#v3, v4 = lst\n",
    "#print(v3, v4) error: too many values to unpack"
   ],
   "metadata": {
    "collapsed": false,
    "pycharm": {
     "name": "#%%\n"
    }
   }
  }
 ],
 "metadata": {
  "kernelspec": {
   "display_name": "Python 3",
   "language": "python",
   "name": "python3"
  },
  "language_info": {
   "codemirror_mode": {
    "name": "ipython",
    "version": 2
   },
   "file_extension": ".py",
   "mimetype": "text/x-python",
   "name": "python",
   "nbconvert_exporter": "python",
   "pygments_lexer": "ipython2",
   "version": "2.7.6"
  }
 },
 "nbformat": 4,
 "nbformat_minor": 0
}