{
 "cells": [
  {
   "cell_type": "code",
   "metadata": {
    "collapsed": true,
    "pycharm": {
     "name": "#%%\n"
    }
   },
   "source": [
    "import re\n",
    "from re import findall\n",
    "\n",
    "st1 = '209 Tryon Pl. Paramus 07652 NJ United States of America 201-555-6543'\n",
    "\n",
    "# finding numbers\n",
    "print(findall('209', st1))\n",
    "print(findall('[0-9]', st1))\n",
    "print(findall('[0-9]{3}', st1))\n",
    "print(findall('[0-9]{3,}', st1))\n",
    "print(findall('\\\\d{3,}', st1))\n",
    "print('='*40)\n",
    "\n",
    "# finding strings\n",
    "print(findall('[a-z]{3}', st1))\n",
    "print(findall('[a-z]{3,}', st1))\n",
    "print(findall('[a-z|A-Z]{3,}', st1))\n",
    "print(findall('\\w{3,}', st1))\n",
    "print('='*40)\n",
    "\n",
    "# finding specific place in a string\n",
    "st2 = 'test1abcABC 123mbc 45test'\n",
    "# 접두어 접미어\n",
    "print(findall('^test', st2))\n",
    "print(findall('st$', st2))\n",
    "\n",
    "# 종료문자 찾기\n",
    "print(findall('.bc', st2))\n",
    "\n",
    "# 시작문자 찾기\n",
    "print(findall('t.', st2))\n",
    "\n",
    "# finding words(\\\\w)\n",
    "st3 = 'test^권구달 abc 대한*민국 USA$123123'\n",
    "\n",
    "words = findall('\\\\w{3,}', st3)\n",
    "print(words)\n",
    "\n",
    "#문자열 제외 : x+(x가 1개 이상 반복) [^] 제외\n",
    "print(findall('[^^*$]+', st3))"
   ],
   "execution_count": null,
   "outputs": []
  },
  {
   "cell_type": "markdown",
   "source": [
    "## 문자열 검사"
   ],
   "metadata": {
    "collapsed": false,
    "pycharm": {
     "name": "#%% md\n"
    }
   }
  },
  {
   "cell_type": "code",
   "execution_count": 32,
   "outputs": [
    {
     "name": "stdout",
     "output_type": "stream",
     "text": [
      "<re.Match object; span=(0, 14), match='891234-1912345'>\n",
      "social number matches\n",
      "wrong social number\n"
     ]
    }
   ],
   "source": [
    "from re import match\n",
    "\n",
    "# when pattern matches\n",
    "social = '891234-1912345'\n",
    "result = match('[0-9]{6}-[1-4][0-9]{6}', social)\n",
    "print(result) #address\n",
    "\n",
    "if result :\n",
    "    print('social number matches')\n",
    "else:\n",
    "    print('wrong social number')\n",
    "\n",
    "# if pattern does not match\n",
    "social = '891234-5912345'\n",
    "result = match('[0-9]{6}-[1-4][0-9]{6}', social)\n",
    "if result :\n",
    "    print('social number matches')\n",
    "else:\n",
    "    print('wrong social number')"
   ],
   "metadata": {
    "collapsed": false,
    "pycharm": {
     "name": "#%%\n"
    }
   }
  },
  {
   "cell_type": "markdown",
   "source": [
    "## 문자환 치환 (Replacing)"
   ],
   "metadata": {
    "collapsed": false,
    "pycharm": {
     "name": "#%% md\n"
    }
   }
  },
  {
   "cell_type": "code",
   "execution_count": 37,
   "outputs": [
    {
     "name": "stdout",
     "output_type": "stream",
     "text": [
      "test.권구달 abc 대한.민국 USA.123123\n",
      "test.권구달 abc 대한.민국 USA.\n"
     ]
    }
   ],
   "source": [
    "from re import sub\n",
    "\n",
    "st3 = 'test^권구달 abc 대한*민국 USA$123123'\n",
    "\n",
    "# Deleting symbols\n",
    "text1 = sub('[\\^*$]', '.', st3)\n",
    "print(text1)\n",
    "\n",
    "# Deleting numbers\n",
    "text2 = sub('[0-9]', '', text1)\n",
    "print(text2)"
   ],
   "metadata": {
    "collapsed": false,
    "pycharm": {
     "name": "#%%\n"
    }
   }
  },
  {
   "cell_type": "markdown",
   "source": [
    "## Text Processing"
   ],
   "metadata": {
    "collapsed": false,
    "pycharm": {
     "name": "#%% md\n"
    }
   }
  },
  {
   "cell_type": "code",
   "execution_count": 39,
   "outputs": [
    {
     "name": "stdout",
     "output_type": "stream",
     "text": [
      "['http://www.naver.com', 'http://www.daum.net', 'www.hongkildong.com']\n",
      "['http://www.naver.com', 'http://www.daum.net']\n"
     ]
    }
   ],
   "source": [
    "from re import split, match, compile\n",
    "\n",
    "multi_line = \"\"\"http://www.naver.com\n",
    "http://www.daum.net\n",
    "www.hongkildong.com\"\"\"\n",
    "\n",
    "# 구분자를 이용하여 문자열 분리\n",
    "web_site = split(\"\\n\", multi_line)\n",
    "print(web_site)\n",
    "\n",
    "# pattern object\n",
    "pat = compile(\"http://\")\n",
    "\n",
    "# collect only right web address using pattern object\n",
    "sel_site = [site for site in web_site if match(pat, site)]\n",
    "print(sel_site)"
   ],
   "metadata": {
    "collapsed": false,
    "pycharm": {
     "name": "#%%\n"
    }
   }
  },
  {
   "cell_type": "markdown",
   "source": [
    "## Natural Language Pre-Processing"
   ],
   "metadata": {
    "collapsed": false,
    "pycharm": {
     "name": "#%% md\n"
    }
   }
  },
  {
   "cell_type": "code",
   "execution_count": 53,
   "outputs": [
    {
     "name": "stdout",
     "output_type": "stream",
     "text": [
      "texts_re1:  ['우리나라 대한민국, 우리나라%$ 만세', '비아그&라 500g 정력 최고!', 'im korean', 'insurance $15 for all', 'my name is terminator']\n",
      "texts_re2:  ['우리나라 대한민국, 우리나라%$ 만세', '비아그&라 g 정력 최고!', 'im korean', 'insurance $ for all', 'my name is terminator']\n",
      "texts_re3:  ['우리나라 대한민국 우리나라%$ 만세', '비아그&라 g 정력 최고', 'im korean', 'insurance $ for all', 'my name is terminator']\n",
      "texts_re4:  ['우리나라 대한민국 우리나라 만세', '비아그라 g 정력 최고', 'im korean', 'insurance  for all', 'my name is terminator']\n",
      "texts_re5:  ['   ', ' g  ', 'im korean', 'insurance  for all', 'my name is terminator']\n",
      "texts_re6:  ['', 'g', 'imkorean', 'insuranceforall', 'mynameisterminator']\n"
     ]
    }
   ],
   "source": [
    "from re import findall, sub\n",
    "\n",
    "texts = ['우리나라 대한민국, 우리나라%$ 만세', '비아그&라 500g 정력 최고!', 'Im Korean', 'Insurance $15 for all', 'My name is Terminator']\n",
    "\n",
    "# 1. changing letters into small cases\n",
    "texts_re1 = [t.lower() for t in texts]\n",
    "print('texts_re1: ', texts_re1)\n",
    "\n",
    "# 2. removing numbers\n",
    "texts_re2 = [sub(\"[0-9]\", '', text) for text in texts_re1]\n",
    "print('texts_re2: ', texts_re2)\n",
    "\n",
    "# 3. removing punctuation marks\n",
    "texts_re3 = [sub('[,.?!:;]', '', text) for text in texts_re2]\n",
    "print('texts_re3: ', texts_re3)\n",
    "\n",
    "# 4. removing symbols\n",
    "spec_str = '[@#$%^&*()]'\n",
    "texts_re4 = [sub(spec_str, '', text) for text in texts_re3]\n",
    "print('texts_re4: ', texts_re4)\n",
    "\n",
    "# 5. removing enlgish\n",
    "texts_re5 = [''.join(findall(\"[^가-힣]\", text)) for text in texts_re4]\n",
    "print('texts_re5: ', texts_re5)\n",
    "\n",
    "# 6. removing spaces\n",
    "texts_re6 = [''.join(text.split()) for text in texts_re5]\n",
    "print('texts_re6: ', texts_re6)\n"
   ],
   "metadata": {
    "collapsed": false,
    "pycharm": {
     "name": "#%%\n"
    }
   }
  },
  {
   "cell_type": "markdown",
   "source": [
    "## Pre-processing functions"
   ],
   "metadata": {
    "collapsed": false,
    "pycharm": {
     "name": "#%% md\n"
    }
   }
  },
  {
   "cell_type": "code",
   "execution_count": 55,
   "outputs": [
    {
     "name": "stdout",
     "output_type": "stream",
     "text": [
      "['우리나라 대한민국 우리나라 만세', '비아그라 정력 최고', '', '', '']\n"
     ]
    }
   ],
   "source": [
    "from re import findall, sub\n",
    "\n",
    "texts = ['우리나라 대한민국, 우리나라%$ 만세', '비아그&라 500g 정력 최고!', 'Im Korean', 'Insurance $15 for all', 'My name is Terminator']\n",
    "\n",
    "def clean_text(text):\n",
    "    text_re = text.lower()\n",
    "    text_re1 = sub('[0-9]', '', text_re)\n",
    "    text_re2 = sub('[,.?!;:]', '', text_re1)\n",
    "    text_re3 = sub('[@#$%^&*()]', '', text_re2)\n",
    "    text_re4 = sub('[a-z]', '', text_re3)\n",
    "    text_re5 = ' '.join(text_re4.split())\n",
    "    return text_re5\n",
    "\n",
    "text_result = [clean_text(text) for text in texts]\n",
    "print(text_result)"
   ],
   "metadata": {
    "collapsed": false,
    "pycharm": {
     "name": "#%%\n"
    }
   }
  },
  {
   "cell_type": "code",
   "execution_count": null,
   "outputs": [],
   "source": [],
   "metadata": {
    "collapsed": false,
    "pycharm": {
     "name": "#%%\n"
    }
   }
  }
 ],
 "metadata": {
  "kernelspec": {
   "display_name": "Python 3",
   "language": "python",
   "name": "python3"
  },
  "language_info": {
   "codemirror_mode": {
    "name": "ipython",
    "version": 2
   },
   "file_extension": ".py",
   "mimetype": "text/x-python",
   "name": "python",
   "nbconvert_exporter": "python",
   "pygments_lexer": "ipython2",
   "version": "2.7.6"
  }
 },
 "nbformat": 4,
 "nbformat_minor": 0
}