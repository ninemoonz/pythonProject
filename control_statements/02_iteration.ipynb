{
 "cells": [
  {
   "cell_type": "markdown",
   "metadata": {
    "collapsed": true,
    "pycharm": {
     "name": "#%% md\n"
    }
   },
   "source": [
    "## while"
   ]
  },
  {
   "cell_type": "code",
   "execution_count": 2,
   "outputs": [
    {
     "name": "stdout",
     "output_type": "stream",
     "text": [
      "count:  1 Total:  1\n",
      "count:  2 Total:  3\n",
      "count:  3 Total:  6\n",
      "count:  4 Total:  10\n",
      "count:  5 Total:  15\n"
     ]
    }
   ],
   "source": [
    "cnt = tot = 0\n",
    "while cnt < 5 :\n",
    "    cnt += 1\n",
    "    tot += cnt\n",
    "    print('count: ', cnt, 'Total: ', tot)"
   ],
   "metadata": {
    "collapsed": false,
    "pycharm": {
     "name": "#%%\n"
    }
   }
  },
  {
   "cell_type": "code",
   "execution_count": 3,
   "outputs": [
    {
     "name": "stdout",
     "output_type": "stream",
     "text": [
      "1 ~ 100 사이의 3의 배수 합 = 1683\n",
      "dataset= [3, 6, 9, 12, 15, 18, 21, 24, 27, 30, 33, 36, 39, 42, 45, 48, 51, 54, 57, 60, 63, 66, 69, 72, 75, 78, 81, 84, 87, 90, 93, 96, 99]\n"
     ]
    }
   ],
   "source": [
    "# 1 ~ 100 사이 3의 배수 합과 원소 추출\n",
    "cnt = tot = 0\n",
    "dataset = []\n",
    "\n",
    "while cnt < 100:\n",
    "    cnt += 1\n",
    "    if cnt % 3 == 0:\n",
    "        tot += cnt\n",
    "        dataset.append(cnt)\n",
    "\n",
    "print('1 ~ 100 사이의 3의 배수 합 = %d' %tot)\n",
    "print('dataset=', dataset)"
   ],
   "metadata": {
    "collapsed": false,
    "pycharm": {
     "name": "#%%\n"
    }
   }
  },
  {
   "cell_type": "code",
   "execution_count": 8,
   "outputs": [
    {
     "name": "stdout",
     "output_type": "stream",
     "text": [
      "1\n",
      "[]\n",
      "2\n",
      "[1]\n",
      "3\n",
      "[1, 2]\n",
      "4\n",
      "[1, 2, 3]\n",
      "5\n",
      "[1, 2, 3, 4]\n",
      "6\n",
      "[1, 2, 3, 4, 5]\n",
      "7\n",
      "[1, 2, 3, 4, 5, 6]\n",
      "8\n",
      "[1, 2, 3, 4, 5, 6, 7]\n",
      "9\n",
      "[1, 2, 3, 4, 5, 6, 7, 8]\n",
      "10 End program\n"
     ]
    }
   ],
   "source": [
    "# infinite loop\n",
    "numData = []\n",
    "\n",
    "while True:\n",
    "    num = int(input('Enter number: '))\n",
    "\n",
    "    if num %10 == 0:\n",
    "        print(num, 'End program')\n",
    "        break\n",
    "    else:\n",
    "        print(num)\n",
    "        print(numData)\n",
    "        numData.append(num)"
   ],
   "metadata": {
    "collapsed": false,
    "pycharm": {
     "name": "#%%\n"
    }
   }
  },
  {
   "cell_type": "code",
   "execution_count": 35,
   "outputs": [
    {
     "name": "stdout",
     "output_type": "stream",
     "text": [
      "Help on built-in function random:\n",
      "\n",
      "random() method of random.Random instance\n",
      "    random() -> x in the interval [0, 1).\n",
      "\n",
      "r=  0.0994936477429561\n",
      "0.2784388604425586\n",
      "0.021625883132615487\n",
      "0.005443471176288406\n",
      "number of random number:  2\n"
     ]
    }
   ],
   "source": [
    "# random module\n",
    "import random\n",
    "\n",
    "# module explianation\n",
    "#help(random)\n",
    "\n",
    "help(random.random)\n",
    "\n",
    "r = random.random()\n",
    "print('r= ', r)\n",
    "\n",
    "cnt = 0\n",
    "while True:\n",
    "    r = random.random()\n",
    "    print(r)\n",
    "    if r < 0.01:\n",
    "        break\n",
    "    else:\n",
    "        cnt += 1\n",
    "\n",
    "print('number of random number: ', cnt)\n"
   ],
   "metadata": {
    "collapsed": false,
    "pycharm": {
     "name": "#%%\n"
    }
   }
  },
  {
   "cell_type": "code",
   "execution_count": null,
   "outputs": [],
   "source": [
    "#help(random.choices)\n",
    "\n",
    "names = ['Tyler', 'Haze', 'Robert', 'Johnson']\n",
    "print(names)\n",
    "print(names[2])\n",
    "\n",
    "if 'Tom' in names:\n",
    "    print('Tyler exists')\n",
    "else:\n",
    "    print('There\\'s no one with name Tyler')\n",
    "\n",
    "idx = random.randint(0, 3)\n",
    "print(names[idx])"
   ],
   "metadata": {
    "collapsed": false,
    "pycharm": {
     "name": "#%%\n"
    }
   }
  },
  {
   "cell_type": "code",
   "execution_count": 54,
   "outputs": [
    {
     "name": "stdout",
     "output_type": "stream",
     "text": [
      "1 2 4 5 "
     ]
    }
   ],
   "source": [
    "# break, continue\n",
    "# break = exit\n",
    "# continue = skip\n",
    "\n",
    "i = 0\n",
    "while i < 10:\n",
    "    i += 1\n",
    "    if i == 3:\n",
    "        continue\n",
    "    if i == 6:\n",
    "        break\n",
    "    print(i, end=' ')"
   ],
   "metadata": {
    "collapsed": false,
    "pycharm": {
     "name": "#%%\n"
    }
   }
  },
  {
   "cell_type": "markdown",
   "source": [
    "## for loop"
   ],
   "metadata": {
    "collapsed": false,
    "pycharm": {
     "name": "#%% md\n"
    }
   }
  },
  {
   "cell_type": "code",
   "execution_count": 57,
   "outputs": [
    {
     "name": "stdout",
     "output_type": "stream",
     "text": [
      "6\n",
      "B\n",
      "a\n",
      "t\n",
      "m\n",
      "a\n",
      "n\n",
      "element:  1\n",
      "element:  2\n",
      "element:  3\n",
      "element:  4\n",
      "element:  5\n",
      "element:  6\n"
     ]
    }
   ],
   "source": [
    "'''\n",
    "for variable in enumeration_data:\n",
    "    statement_1\n",
    "    ...\n",
    "    statement_n\n",
    "'''\n",
    "\n",
    "string = 'Batman'\n",
    "print(len(string))\n",
    "for s in string:\n",
    "    print(s)\n",
    "\n",
    "lstset = [1, 2, 3, 4, 5, 6]\n",
    "\n",
    "for e in lstset:\n",
    "    print('element: ', e)"
   ],
   "metadata": {
    "collapsed": false,
    "pycharm": {
     "name": "#%%\n"
    }
   }
  },
  {
   "cell_type": "markdown",
   "source": [
    "## range"
   ],
   "metadata": {
    "collapsed": false,
    "pycharm": {
     "name": "#%% md\n"
    }
   }
  },
  {
   "cell_type": "code",
   "execution_count": 65,
   "outputs": [
    {
     "name": "stdout",
     "output_type": "stream",
     "text": [
      "num1:  range(0, 10)\n",
      "num2:  range(1, 10)\n",
      "num3:  range(1, 20, 2)\n",
      "0,1,2,3,4,5,6,7,8,9,\n",
      "1-2-3-4-5-6-7-8-9-\n",
      "1,3,5,7,9,11,13,15,17,19,"
     ]
    }
   ],
   "source": [
    "#help(range)\n",
    "\n",
    "num1 = range(10) #range(start)\n",
    "print('num1: ', num1)\n",
    "\n",
    "num2 = range(1, 10) #range(start, stop)\n",
    "print('num2: ', num2)\n",
    "\n",
    "num3 = range(1, 20, 2) #range(start, stop, step)\n",
    "print('num3: ', num3)\n",
    "\n",
    "# application of range object\n",
    "for n in num1:\n",
    "    print(n, end = ',')\n",
    "print()\n",
    "\n",
    "for n in num2:\n",
    "    print(n, end = '-')\n",
    "print()\n",
    "\n",
    "for n in num3:\n",
    "    print(n, end = ',')"
   ],
   "metadata": {
    "collapsed": false,
    "pycharm": {
     "name": "#%%\n"
    }
   }
  },
  {
   "cell_type": "markdown",
   "source": [
    "## for & list"
   ],
   "metadata": {
    "collapsed": false,
    "pycharm": {
     "name": "#%% md\n"
    }
   }
  },
  {
   "cell_type": "code",
   "execution_count": 67,
   "outputs": [
    {
     "name": "stdout",
     "output_type": "stream",
     "text": [
      "list=  [8, 5, 8, 8, 3, 3, 8, 9, 8, 3]\n",
      "2.0\n",
      "1.25\n",
      "2.0\n",
      "2.0\n",
      "0.75\n",
      "0.75\n",
      "2.0\n",
      "2.25\n",
      "2.0\n",
      "0.75\n"
     ]
    }
   ],
   "source": [
    "lst = [] # empty list\n",
    "for i in range(10):\n",
    "    r = random.randint(1, 10)\n",
    "    lst.append(r)\n",
    "\n",
    "print('list= ', lst)\n",
    "\n",
    "# list 자료 참조 하기\n",
    "for i in range(10):\n",
    "    print(lst[i] * 0.25)"
   ],
   "metadata": {
    "collapsed": false,
    "pycharm": {
     "name": "#%%\n"
    }
   }
  },
  {
   "cell_type": "markdown",
   "source": [
    "## nested loop"
   ],
   "metadata": {
    "collapsed": false,
    "pycharm": {
     "name": "#%% md\n"
    }
   }
  },
  {
   "cell_type": "code",
   "execution_count": 68,
   "outputs": [
    {
     "name": "stdout",
     "output_type": "stream",
     "text": [
      "2단\n",
      "2 * 1 = 2\n",
      "2 * 2 = 4\n",
      "2 * 3 = 6\n",
      "2 * 4 = 8\n",
      "2 * 5 = 10\n",
      "2 * 6 = 12\n",
      "2 * 7 = 14\n",
      "2 * 8 = 16\n",
      "2 * 9 = 18\n",
      "3단\n",
      "3 * 1 = 3\n",
      "3 * 2 = 6\n",
      "3 * 3 = 9\n",
      "3 * 4 = 12\n",
      "3 * 5 = 15\n",
      "3 * 6 = 18\n",
      "3 * 7 = 21\n",
      "3 * 8 = 24\n",
      "3 * 9 = 27\n",
      "4단\n",
      "4 * 1 = 4\n",
      "4 * 2 = 8\n",
      "4 * 3 = 12\n",
      "4 * 4 = 16\n",
      "4 * 5 = 20\n",
      "4 * 6 = 24\n",
      "4 * 7 = 28\n",
      "4 * 8 = 32\n",
      "4 * 9 = 36\n",
      "5단\n",
      "5 * 1 = 5\n",
      "5 * 2 = 10\n",
      "5 * 3 = 15\n",
      "5 * 4 = 20\n",
      "5 * 5 = 25\n",
      "5 * 6 = 30\n",
      "5 * 7 = 35\n",
      "5 * 8 = 40\n",
      "5 * 9 = 45\n",
      "6단\n",
      "6 * 1 = 6\n",
      "6 * 2 = 12\n",
      "6 * 3 = 18\n",
      "6 * 4 = 24\n",
      "6 * 5 = 30\n",
      "6 * 6 = 36\n",
      "6 * 7 = 42\n",
      "6 * 8 = 48\n",
      "6 * 9 = 54\n",
      "7단\n",
      "7 * 1 = 7\n",
      "7 * 2 = 14\n",
      "7 * 3 = 21\n",
      "7 * 4 = 28\n",
      "7 * 5 = 35\n",
      "7 * 6 = 42\n",
      "7 * 7 = 49\n",
      "7 * 8 = 56\n",
      "7 * 9 = 63\n",
      "8단\n",
      "8 * 1 = 8\n",
      "8 * 2 = 16\n",
      "8 * 3 = 24\n",
      "8 * 4 = 32\n",
      "8 * 5 = 40\n",
      "8 * 6 = 48\n",
      "8 * 7 = 56\n",
      "8 * 8 = 64\n",
      "8 * 9 = 72\n",
      "9단\n",
      "9 * 1 = 9\n",
      "9 * 2 = 18\n",
      "9 * 3 = 27\n",
      "9 * 4 = 36\n",
      "9 * 5 = 45\n",
      "9 * 6 = 54\n",
      "9 * 7 = 63\n",
      "9 * 8 = 72\n",
      "9 * 9 = 81\n"
     ]
    }
   ],
   "source": [
    "## making multiplication table with nested loop\n",
    "\n",
    "for i in range (2, 10):\n",
    "    print('{}단'.format(i))\n",
    "\n",
    "    for j in range(1, 10):\n",
    "        print('%d * %d = %d' %(i, j, i * j))"
   ],
   "metadata": {
    "collapsed": false,
    "pycharm": {
     "name": "#%%\n"
    }
   }
  },
  {
   "cell_type": "code",
   "execution_count": 72,
   "outputs": [
    {
     "name": "stdout",
     "output_type": "stream",
     "text": [
      "sentence:  ['I have date tomorrow.', 'I reserved a dimsum place at 6 Oclock.', \"And then I'm going to take a walk with the date.\"]\n",
      "number of sentences:  3\n",
      "words:  ['I', 'have', 'date', 'tomorrow.', 'I', 'reserved', 'a', 'dimsum', 'place', 'at', '6', 'Oclock.', 'And', 'then', \"I'm\", 'going', 'to', 'take', 'a', 'walk', 'with', 'the', 'date.']\n",
      "number of words:  23\n"
     ]
    }
   ],
   "source": [
    "# Extracting sentence and words from a paragraph\n",
    "string = '''\n",
    "I have date tomorrow.\n",
    "I reserved a dimsum place at 6 Oclock.\n",
    "And then I'm going to take a walk with the date.\n",
    "'''\n",
    "\n",
    "sents = []\n",
    "words = []\n",
    "\n",
    "for sen in string.split(sep = '\\n'):\n",
    "    sents.append(sen)\n",
    "\n",
    "    for word in sen.split():\n",
    "        words.append(word)\n",
    "\n",
    "print('sentence: ', sents)\n",
    "print('number of sentences: ', len(sents))\n",
    "print('words: ', words)\n",
    "print('number of words: ')"
   ],
   "metadata": {
    "collapsed": false,
    "pycharm": {
     "name": "#%%\n"
    }
   }
  }
 ],
 "metadata": {
  "kernelspec": {
   "display_name": "Python 3",
   "language": "python",
   "name": "python3"
  },
  "language_info": {
   "codemirror_mode": {
    "name": "ipython",
    "version": 2
   },
   "file_extension": ".py",
   "mimetype": "text/x-python",
   "name": "python",
   "nbconvert_exporter": "python",
   "pygments_lexer": "ipython2",
   "version": "2.7.6"
  }
 },
 "nbformat": 4,
 "nbformat_minor": 0
}