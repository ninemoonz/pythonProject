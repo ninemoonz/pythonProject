{
 "cells": [
  {
   "cell_type": "markdown",
   "metadata": {
    "collapsed": true,
    "pycharm": {
     "name": "#%% md\n"
    }
   },
   "source": [
    "## if, elif, else"
   ]
  },
  {
   "cell_type": "code",
   "execution_count": 5,
   "outputs": [
    {
     "name": "stdout",
     "output_type": "stream",
     "text": [
      "var= 10\n",
      "var is greater than 5\n",
      "runs when condition is Ture\n",
      "always run\n"
     ]
    }
   ],
   "source": [
    "# control statement in python separates the block by indentation(tab)\n",
    "var = 10\n",
    "if var >= 5:\n",
    "    print('var=', var)\n",
    "    print('var is greater than 5')\n",
    "    print('runs when condition is Ture')\n",
    "print('always run')"
   ],
   "metadata": {
    "collapsed": false,
    "pycharm": {
     "name": "#%%\n"
    }
   }
  },
  {
   "cell_type": "code",
   "execution_count": 8,
   "outputs": [
    {
     "name": "stdout",
     "output_type": "stream",
     "text": [
      "bad score\n"
     ]
    }
   ],
   "source": [
    "score = int(input('Enter the score: '))\n",
    "if score >= 85 and score <= 100:\n",
    "    print('Good score')\n",
    "else:\n",
    "    if score >= 70:\n",
    "       print('Average score')\n",
    "    else:\n",
    "        print('bad score')"
   ],
   "metadata": {
    "collapsed": false,
    "pycharm": {
     "name": "#%%\n"
    }
   }
  },
  {
   "cell_type": "code",
   "execution_count": 10,
   "outputs": [
    {
     "name": "stdout",
     "output_type": "stream",
     "text": [
      "your score is 99, and grade is Excellent\n"
     ]
    }
   ],
   "source": [
    "score = int(input('Enter the score: '))\n",
    "grade = '' #I don't know why I have to make this variable, works without it too.\n",
    "\n",
    "if score >= 85 and score <= 100:\n",
    "    grade = 'Excellent'\n",
    "elif score >= 70:\n",
    "    grade = 'Good'\n",
    "else:\n",
    "    grade = 'Bad'\n",
    "\n",
    "print('your score is %d, and grade is %s' %(score, grade))"
   ],
   "metadata": {
    "collapsed": false,
    "pycharm": {
     "name": "#%%\n"
    }
   }
  },
  {
   "cell_type": "markdown",
   "source": [
    "## ternary operator\n",
    "### variable = True if (conditional statement) else False"
   ],
   "metadata": {
    "collapsed": false,
    "pycharm": {
     "name": "#%% md\n"
    }
   }
  },
  {
   "cell_type": "code",
   "execution_count": 11,
   "outputs": [
    {
     "name": "stdout",
     "output_type": "stream",
     "text": [
      "result=  18\n"
     ]
    }
   ],
   "source": [
    "# normal conditional statement\n",
    "num = 9\n",
    "reesult = 0\n",
    "\n",
    "if num >= 5 :\n",
    "    result = num * 2\n",
    "else :\n",
    "    result = num + 2\n",
    "print('result= ', result)"
   ],
   "metadata": {
    "collapsed": false,
    "pycharm": {
     "name": "#%%\n"
    }
   }
  },
  {
   "cell_type": "code",
   "execution_count": 12,
   "outputs": [
    {
     "name": "stdout",
     "output_type": "stream",
     "text": [
      "result2=  18\n"
     ]
    }
   ],
   "source": [
    "# ternary statement\n",
    "result2 = num * 2 if num >= 5 else num + 2\n",
    "print('result2= ', result2)"
   ],
   "metadata": {
    "collapsed": false,
    "pycharm": {
     "name": "#%%\n"
    }
   }
  }
 ],
 "metadata": {
  "kernelspec": {
   "display_name": "Python 3",
   "language": "python",
   "name": "python3"
  },
  "language_info": {
   "codemirror_mode": {
    "name": "ipython",
    "version": 2
   },
   "file_extension": ".py",
   "mimetype": "text/x-python",
   "name": "python",
   "nbconvert_exporter": "python",
   "pygments_lexer": "ipython2",
   "version": "2.7.6"
  }
 },
 "nbformat": 4,
 "nbformat_minor": 0
}