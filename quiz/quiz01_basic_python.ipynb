{
 "cells": [
  {
   "cell_type": "markdown",
   "metadata": {
    "collapsed": true,
    "pycharm": {
     "name": "#%% md\n"
    }
   },
   "source": [
    "### 조건에 맞게 수량과 단가 변수를 만들어서 금액력 출력"
   ],
   "outputs": []
  },
  {
   "cell_type": "code",
   "execution_count": 6,
   "outputs": [
    {
     "name": "stdout",
     "output_type": "stream",
     "text": [
      "su 주소 140645280967088\n",
      "dan 주소 140645325414000\n",
      "계산금액= 4000\n"
     ]
    }
   ],
   "source": [
    "su = 5 #수량\n",
    "dan = 800 #단가\n",
    "\n",
    "#수량 변수 주소\n",
    "print(\"su 주소\", id(su))\n",
    "#단가 변수 주소\n",
    "print(\"dan 주소\", id(dan))\n",
    "\n",
    "totp = su * dan #계산 금액\n",
    "print(\"계산금액=\", totp)\n"
   ],
   "metadata": {
    "collapsed": false,
    "pycharm": {
     "name": "#%%\n"
    }
   }
  },
  {
   "cell_type": "markdown",
   "source": [
    "### 2차 방정식을 파이썬 수식으로 코딩하고 y의 결인 확인"
   ],
   "metadata": {
    "collapsed": false,
    "pycharm": {
     "name": "#%% md\n"
    }
   }
  },
  {
   "cell_type": "code",
   "execution_count": 7,
   "outputs": [
    {
     "name": "stdout",
     "output_type": "stream",
     "text": [
      "22.6\n"
     ]
    }
   ],
   "source": [
    "x = 2\n",
    "y = 2.5 * x**2 + 3.3 * x + 6\n",
    "print(y)"
   ],
   "metadata": {
    "collapsed": false,
    "pycharm": {
     "name": "#%%\n"
    }
   }
  },
  {
   "cell_type": "markdown",
   "source": [
    "## 지방 탄수화물 단백질 칼로리 합계 계산 램로그램"
   ],
   "metadata": {
    "collapsed": false,
    "pycharm": {
     "name": "#%% md\n"
    }
   }
  },
  {
   "cell_type": "code",
   "execution_count": 14,
   "outputs": [
    {
     "name": "stdout",
     "output_type": "stream",
     "text": [
      "total calories:  46 cal\n"
     ]
    }
   ],
   "source": [
    "fat = int(input(\"fat: \"))\n",
    "carb = int(input('carb: '))\n",
    "protein = int(input('protein: '))\n",
    "\n",
    "totCal = fat * 9 + protein * 4 + carb * 4\n",
    "\n",
    "print(\"total calories: \", totCal, \"cal\")"
   ],
   "metadata": {
    "collapsed": false,
    "pycharm": {
     "name": "#%%\n"
    }
   }
  },
  {
   "cell_type": "markdown",
   "source": [
    "## 3개의 단어를 키보드로 입력 받아서 각 단어의 첫글자를 추출하여 단어의 약자력 출력"
   ],
   "metadata": {
    "collapsed": false,
    "pycharm": {
     "name": "#%% md\n"
    }
   }
  },
  {
   "cell_type": "code",
   "execution_count": 15,
   "outputs": [
    {
     "name": "stdout",
     "output_type": "stream",
     "text": [
      "KBO\n"
     ]
    }
   ],
   "source": [
    "word1 = 'Korea'\n",
    "word2 = 'Baseball'\n",
    "word3 = 'Orag'\n",
    "\n",
    "ini1 = word1[0]\n",
    "ini2 = word2[0]\n",
    "ini3 = word3[0]\n",
    "\n",
    "print(ini1 + ini2 + ini3)"
   ],
   "metadata": {
    "collapsed": false,
    "pycharm": {
     "name": "#%%\n"
    }
   }
  }
 ],
 "metadata": {
  "kernelspec": {
   "display_name": "Python 3",
   "language": "python",
   "name": "python3"
  },
  "language_info": {
   "codemirror_mode": {
    "name": "ipython",
    "version": 2
   },
   "file_extension": ".py",
   "mimetype": "text/x-python",
   "name": "python",
   "nbconvert_exporter": "python",
   "pygments_lexer": "ipython2",
   "version": "2.7.6"
  }
 },
 "nbformat": 4,
 "nbformat_minor": 0
}