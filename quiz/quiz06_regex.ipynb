{
 "cells": [
  {
   "cell_type": "code",
   "execution_count": 14,
   "metadata": {
    "collapsed": true
   },
   "outputs": [
    {
     "name": "stdout",
     "output_type": "stream",
     "text": [
      "findall:  you2@naver.com\n",
      "match:  you2@naver.com\n",
      "findall:  kimjs@gmail.com\n",
      "match:  kimjs@gmail.com\n"
     ]
    }
   ],
   "source": [
    "email = \"\"\"hong@12.com\n",
    "you2@naver.com\n",
    "12kang@hanmail.com\n",
    "kimjs@gmail.com\"\"\"\n",
    "\n",
    "from re import findall, match\n",
    "\n",
    "for e in email.split(sep='\\n'):\n",
    "    result = findall('^[a-z]\\\\w{3,}@[a-z]\\\\w{2,}.[a-z]\\\\w{,2}', e)\n",
    "\n",
    "    # email matches with pattern\n",
    "    if result :\n",
    "        str_result = result[0]\n",
    "        print('findall: ', str_result)\n",
    "    #march\n",
    "    result2 = match('[a-z]\\\\w{3,}@[a-z]\\\\w{2,}.[a-z]\\\\w{,2}', e)\n",
    "\n",
    "    if result2:\n",
    "        print('match: ', e)"
   ]
  },
  {
   "cell_type": "code",
   "execution_count": 19,
   "outputs": [
    {
     "name": "stdout",
     "output_type": "stream",
     "text": [
      "names =  ['홍길동', '이순신', '유관순']\n"
     ]
    }
   ],
   "source": [
    "from re import findall\n",
    "\n",
    "emp = [\"2014홍길동220\", \"2002이순신300\", \"2010유관순260\"]\n",
    "\n",
    "\n",
    "# function\n",
    "def name_pro(emp):\n",
    "    names = []\n",
    "    for e in emp:\n",
    "        name = findall('[가-힣]{3}', e)\n",
    "        names.append(name[0])\n",
    "    return names\n",
    "\n",
    "names = name_pro(emp)\n",
    "print('names = ', names)"
   ],
   "metadata": {
    "collapsed": false,
    "pycharm": {
     "name": "#%%\n"
    }
   }
  },
  {
   "cell_type": "code",
   "execution_count": 23,
   "outputs": [
    {
     "name": "stdout",
     "output_type": "stream",
     "text": [
      "전체 평균 급여: 260\n",
      "평균 이상 수령자\n",
      "이순신 => 300\n",
      "유관순 => 260\n",
      "전체 사원 급여 평균:  None\n"
     ]
    }
   ],
   "source": [
    "from re import findall\n",
    "from statistics import mean\n",
    "\n",
    "emp = [\"2014홍길동220\", \"2002이순신300\", \"2010유관순260\"]\n",
    "\n",
    "def pay_pro(x):\n",
    "    from statistics import mean\n",
    "    import re\n",
    "\n",
    "    tmp = [re.findall('[가-힣]{3}', user) for user in x]\n",
    "    name = [user[0] for user in tmp]\n",
    "\n",
    "    pay = []\n",
    "    tmp = [re.findall('[가-힣][0-9]{3}', user) for user in x]\n",
    "\n",
    "    for user in tmp:\n",
    "        str_user = user[0]\n",
    "        pay.append(int(str_user[1:]))\n",
    "\n",
    "    pay_avg = mean(pay)\n",
    "    print('전체 평균 급여: %d' %pay_avg)\n",
    "    print('평균 이상 수령자')\n",
    "    for i in range(len(x)):\n",
    "        if pay[i] >= pay_avg:\n",
    "            print(name[i], '=>', pay[i])\n",
    "\n",
    "pays_mean = pay_pro(emp)\n",
    "print('전체 사원 급여 평균: ', pays_mean)\n"
   ],
   "metadata": {
    "collapsed": false,
    "pycharm": {
     "name": "#%%\n"
    }
   }
  },
  {
   "cell_type": "code",
   "execution_count": 52,
   "outputs": [
    {
     "name": "stdout",
     "output_type": "stream",
     "text": [
      "['afabasabag', 'abttaa', 'uysfsfaa']\n"
     ]
    }
   ],
   "source": [
    "from re import findall, sub\n",
    "\n",
    "texts = ['AFAB54747,asabag?', 'abTTa $$;a12:2424.', 'uysfsfA,A124&***$?']\n",
    "\n",
    "def texts_re(texts):\n",
    "    texts_re1 = texts.lower()\n",
    "    texts_re2 = sub('[0-9]', '', texts_re1)\n",
    "    spec_str = '[@#$%^&*()?]'\n",
    "    texts_re3 = sub(spec_str, '', texts_re2)\n",
    "    texts_re4 = sub('[,.;:]', '', texts_re3)\n",
    "    texts_re5 = ''.join(texts_re4.split())\n",
    "    return texts_re5\n",
    "\n",
    "text_result = [texts_re(text) for text in texts]\n",
    "\n",
    "print(text_result)\n",
    "# => ['afabasabag', 'abttaa', 'uysfsfaa']\n",
    "\n",
    "# 되기는 하지만 중간중간 확인을 하기 힘듬"
   ],
   "metadata": {
    "collapsed": false,
    "pycharm": {
     "name": "#%%\n"
    }
   }
  },
  {
   "cell_type": "code",
   "execution_count": 49,
   "outputs": [
    {
     "name": "stdout",
     "output_type": "stream",
     "text": [
      "['afab54747,asabag?', 'abtta $$;a12:2424.', 'uysfsfa,a124&***$?']\n",
      "['afab,asabag?', 'abtta $$;a:.', 'uysfsfa,a&***$?']\n",
      "['afabasabag', 'abtta $$a', 'uysfsfaa&***$']\n",
      "['afabasabag', 'abtta a', 'uysfsfaa']\n",
      "['afabasabag', 'abttaa', 'uysfsfaa']\n"
     ]
    }
   ],
   "source": [
    "from re import findall, sub\n",
    "texts = ['AFAB54747,asabag?', 'abTTa $$;a12:2424.', 'uysfsfA,A124&***$?']\n",
    "\n",
    "\n",
    "text_re1 = [t.lower() for t in texts] # 소문자 변환\n",
    "print(text_re1)\n",
    "\n",
    "text_re2 = [''.join(findall(\"[^0-9]\", text)) for text in text_re1]\n",
    "print(text_re2)\n",
    "\n",
    "punc_str = '[,.?!:;]'\n",
    "text_re3 = [sub(punc_str, '', text) for text in text_re2]\n",
    "print(text_re3)\n",
    "\n",
    "spec_str = '[@#$%^&*()]'\n",
    "text_re4 = [sub(spec_str, '', text) for text in text_re3]\n",
    "print(text_re4)\n",
    "\n",
    "text_re5 = [''.join(text.split()) for text in text_re4]\n",
    "print(text_re5)"
   ],
   "metadata": {
    "collapsed": false,
    "pycharm": {
     "name": "#%%\n"
    }
   }
  },
  {
   "cell_type": "code",
   "execution_count": null,
   "outputs": [],
   "source": [],
   "metadata": {
    "collapsed": false,
    "pycharm": {
     "name": "#%%\n"
    }
   }
  },
  {
   "cell_type": "markdown",
   "source": [],
   "metadata": {
    "collapsed": false
   }
  }
 ],
 "metadata": {
  "kernelspec": {
   "display_name": "Python 3",
   "language": "python",
   "name": "python3"
  },
  "language_info": {
   "codemirror_mode": {
    "name": "ipython",
    "version": 2
   },
   "file_extension": ".py",
   "mimetype": "text/x-python",
   "name": "python",
   "nbconvert_exporter": "python",
   "pygments_lexer": "ipython2",
   "version": "2.7.6"
  }
 },
 "nbformat": 4,
 "nbformat_minor": 0
}