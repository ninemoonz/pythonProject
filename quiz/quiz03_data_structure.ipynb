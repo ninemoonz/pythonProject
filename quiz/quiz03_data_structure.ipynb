{
 "cells": [
  {
   "cell_type": "code",
   "execution_count": 47,
   "metadata": {
    "collapsed": true
   },
   "outputs": [
    {
     "name": "stdout",
     "output_type": "stream",
     "text": [
      "[10, 1, 5, 2, 10, 1, 5, 2]\n",
      "[10, 1, 5, 2, 10, 1, 5, 2, 20]\n",
      "[1, 2, 1, 2]\n"
     ]
    }
   ],
   "source": [
    "lst = [10, 1, 5, 2]\n",
    "\n",
    "# 1. lst 원소를 2배 생성 하여 result 변수에 저징 및 출력\n",
    "result = lst * 2\n",
    "print(result)\n",
    "\n",
    "# 2. lst의 첫번째 원소에 2를 곱하여 result 변수에 추가 및 출력하기\n",
    "new = result[0] * 2\n",
    "result.append(new)\n",
    "print(result)\n",
    "\n",
    "# 3. result의 홀수 번째 원소만 result2 변수에 추가 및 출력하기\n",
    "result2 = result[1::2]\n",
    "print(result2)\n"
   ]
  },
  {
   "cell_type": "code",
   "execution_count": 24,
   "outputs": [
    {
     "name": "stdout",
     "output_type": "stream",
     "text": [
      "[1]\n",
      "[1, 2]\n",
      "[1, 2, 3]\n",
      "3\n"
     ]
    }
   ],
   "source": [
    "lst = []\n",
    "cnt = 0\n",
    "lstSize = int(input('Enter the size of the list: '))\n",
    "\n",
    "while len(lst) < lstSize:\n",
    "    ele = int(input('Enter number: '))\n",
    "    lst.append(ele)\n",
    "    cnt += 1\n",
    "print(lst)\n",
    "print(cnt)"
   ],
   "metadata": {
    "collapsed": false,
    "pycharm": {
     "name": "#%%\n"
    }
   }
  },
  {
   "cell_type": "code",
   "execution_count": 34,
   "outputs": [
    {
     "name": "stdout",
     "output_type": "stream",
     "text": [
      "YES\n"
     ]
    }
   ],
   "source": [
    "lst = []\n",
    "cnt = 0\n",
    "lstSize = int(input('Enter the size of the list: '))\n",
    "\n",
    "while len(lst) < lstSize:\n",
    "    l = int(input('Enter %d numbers: ' %(lstSize)))\n",
    "    lst.append(l)\n",
    "\n",
    "print(lst)\n",
    "\n",
    "find = int(input('Enter the number to find in the list: '))\n",
    "if find in lst:\n",
    "    print('YES')\n",
    "else:\n",
    "    print('NO')"
   ],
   "metadata": {
    "collapsed": false,
    "pycharm": {
     "name": "#%%\n"
    }
   }
  },
  {
   "cell_type": "code",
   "execution_count": 50,
   "outputs": [
    {
     "name": "stdout",
     "output_type": "stream",
     "text": [
      "vector size:  4\n",
      "yes\n"
     ]
    }
   ],
   "source": [
    "# 답안지\n",
    "size = int(input('vector size: '))\n",
    "lst = []\n",
    "for i in range(size):\n",
    "    lst.append(int(input()))\n",
    "print('vector size: ', len(lst))\n",
    "\n",
    "if int(input()) in lst:\n",
    "    print('yes')\n",
    "else:\n",
    "    print('no')"
   ],
   "metadata": {
    "collapsed": false,
    "pycharm": {
     "name": "#%%\n"
    }
   }
  },
  {
   "cell_type": "code",
   "execution_count": 39,
   "outputs": [
    {
     "name": "stdout",
     "output_type": "stream",
     "text": [
      "[0, 1, 0, 1, 1]\n",
      "['spam', 'spam']\n"
     ]
    }
   ],
   "source": [
    "lst = ['spam', 'ham', 'spam', 'ham', 'ham']\n",
    "lst2 = []\n",
    "\n",
    "for l in lst:\n",
    "    if l == 'spam':\n",
    "        lst2.append(0)\n",
    "    elif l == 'ham':\n",
    "        lst2.append(1)\n",
    "print(lst2)\n",
    "\n",
    "spamlst = []\n",
    "for l in lst:\n",
    "    if l == 'spam':\n",
    "        spamlst.append(l)\n",
    "print(spamlst)"
   ],
   "metadata": {
    "collapsed": false,
    "pycharm": {
     "name": "#%%\n"
    }
   }
  },
  {
   "cell_type": "code",
   "execution_count": 52,
   "outputs": [
    {
     "name": "stdout",
     "output_type": "stream",
     "text": [
      "['spam', 'spam', 'spam']\n",
      "[1, 0, 1, 0, 1]\n"
     ]
    }
   ],
   "source": [
    "#답안\n",
    "\n",
    "message = ['spam', 'ham', 'spam', 'ham', 'spam']\n",
    "spam_list = [msg for msg in message if msg == 'spam']\n",
    "print(spam_list)\n",
    "\n",
    "dummy = [1 if msg == 'spam' else 0 for msg in message]"
   ],
   "metadata": {
    "collapsed": false,
    "pycharm": {
     "name": "#%%\n"
    }
   }
  },
  {
   "cell_type": "code",
   "execution_count": 46,
   "outputs": [
    {
     "name": "stdout",
     "output_type": "stream",
     "text": [
      "{'대리', '사장', '과장', '부장'}\n",
      "{'과장': 2, '부장': 1, '대리': 2, '사장': 1}\n"
     ]
    }
   ],
   "source": [
    "# position 변수를 대상으로 중복되지 않은 직위와 직위별 빈도수를 출력\n",
    "position = ['과장', '부장', '대리', '사장', '대리', '과장']\n",
    "ep = {}\n",
    "for p in position:\n",
    "    ep[p] = ep.get(p, 0) + 1\n",
    "\n",
    "# set 으로 변경\n",
    "setPosition = set(position)\n",
    "\n",
    "print(setPosition)\n",
    "print(ep)\n"
   ],
   "metadata": {
    "collapsed": false,
    "pycharm": {
     "name": "#%%\n"
    }
   }
  }
 ],
 "metadata": {
  "kernelspec": {
   "display_name": "Python 3",
   "language": "python",
   "name": "python3"
  },
  "language_info": {
   "codemirror_mode": {
    "name": "ipython",
    "version": 2
   },
   "file_extension": ".py",
   "mimetype": "text/x-python",
   "name": "python",
   "nbconvert_exporter": "python",
   "pygments_lexer": "ipython2",
   "version": "2.7.6"
  }
 },
 "nbformat": 4,
 "nbformat_minor": 0
}