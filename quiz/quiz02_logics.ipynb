{
 "cells": [
  {
   "cell_type": "code",
   "execution_count": 3,
   "metadata": {
    "collapsed": true
   },
   "outputs": [
    {
     "name": "stdout",
     "output_type": "stream",
     "text": [
      "You have to pay $10\n"
     ]
    }
   ],
   "source": [
    "# if the weight of a package is over 10kg, fee is $10.\n",
    "# if the weight of a package is under 10kg, fee is free.\n",
    "\n",
    "package = (int(input(\"How much is the weight of the package?: \")))\n",
    "\n",
    "if package >= 10:\n",
    "    print(\"You have to pay $10\")\n",
    "else:\n",
    "    print(\"Fee of the package is free\")"
   ]
  },
  {
   "cell_type": "code",
   "execution_count": 8,
   "outputs": [
    {
     "name": "stdout",
     "output_type": "stream",
     "text": [
      "The fee of the package is  30\n"
     ]
    }
   ],
   "source": [
    "# the fee of the package increase $10 for every 10kg\n",
    "# no fees under 10kg packages\n",
    "\n",
    "package = 0\n",
    "package = (int(input(\"How much is the weight of the package?: \")))\n",
    "fee = 10\n",
    "\n",
    "if package >= 10:\n",
    "    fee = int(package / 10) * 10\n",
    "    print('The fee of the package is ' + format(fee, '3,d'))\n",
    "else:\n",
    "    print('The fee of the package is free')"
   ],
   "metadata": {
    "collapsed": false,
    "pycharm": {
     "name": "#%%\n"
    }
   }
  },
  {
   "cell_type": "code",
   "execution_count": 53,
   "outputs": [
    {
     "name": "stdout",
     "output_type": "stream",
     "text": [
      ">>숫자 게임<<\n",
      "computer number:  7 player number:  1\n",
      "Enter bigger number\n",
      "computer number:  7 player number:  1\n",
      "Enter bigger number\n",
      "computer number:  7 player number:  3\n",
      "Enter bigger number\n",
      "computer number:  7 player number:  6\n",
      "Enter bigger number\n",
      "computer number:  7 player number:  3\n",
      "Enter bigger number\n",
      "computer number:  7 player number:  2\n",
      "Enter bigger number\n",
      "computer number:  7 player number:  7\n",
      "Success!\n"
     ]
    }
   ],
   "source": [
    "import random\n",
    "\n",
    "print(\">>숫자 게임<<\")\n",
    "\n",
    "comp = random.randint(1, 10)\n",
    "\n",
    "while True:\n",
    "    player = int(input(\"Enter a digit between 1 to 10: \"))\n",
    "    if player == comp:\n",
    "        print(\"computer number: \", comp, \"player number: \", player)\n",
    "        print(\"Success!\")\n",
    "        break\n",
    "    elif player > comp:\n",
    "        print(\"computer number: \", comp, \"player number: \", player)\n",
    "        print(\"Enter smaller number\")\n",
    "    elif player < comp:\n",
    "        print(\"computer number: \", comp, \"player number: \", player)\n",
    "        print(\"Enter bigger number\")\n",
    "\n",
    "\n",
    "\n"
   ],
   "metadata": {
    "collapsed": false,
    "pycharm": {
     "name": "#%%\n"
    }
   }
  },
  {
   "cell_type": "code",
   "execution_count": 113,
   "outputs": [
    {
     "name": "stdout",
     "output_type": "stream",
     "text": [
      "List of numbers:  [3, 9, 15, 21, 27, 33, 39, 45, 51, 57, 63, 69, 75, 81, 87, 93, 99]\n",
      "total:  867\n",
      "학습지 답:\n",
      "수열= 3, 9, 15, 21, 27, 33, 39, 45, 51, 57, 63, 69, 75, 81, 87, 93, 99, \n",
      "누적합 = 867\n"
     ]
    }
   ],
   "source": [
    "#\n",
    "\n",
    "tot = 0\n",
    "numSet = []\n",
    "ar = range(1, 101)\n",
    "\n",
    "for i in ar:\n",
    "    if i % 3 == 0 and i % 2 != 0:\n",
    "        tot += i\n",
    "        numSet.append(i)\n",
    "print(\"List of numbers: \", numSet)\n",
    "print('total: ', tot)\n",
    "\n",
    "tt = 0\n",
    "print(\"학습지 답:\")\n",
    "print('수열=', end=' ')\n",
    "for j in range(1, 101):\n",
    "    if j % 3 == 0 and j % 2 != 0:\n",
    "        print(j, end=', ')\n",
    "        tt += j\n",
    "print('\\n누적합 = %d' % tot)"
   ],
   "metadata": {
    "collapsed": false,
    "pycharm": {
     "name": "#%%\n"
    }
   }
  },
  {
   "cell_type": "code",
   "execution_count": 117,
   "outputs": [
    {
     "name": "stdout",
     "output_type": "stream",
     "text": [
      "0\n",
      "Hello,\n",
      "welcome\n",
      "to\n",
      "the\n",
      "world\n",
      "of\n",
      "python.\n",
      "Sometimes\n",
      "you\n",
      "get\n",
      "it,\n",
      "sometimes\n",
      "you\n",
      "don't.\n",
      "But\n",
      "if\n",
      "you\n",
      "keep\n",
      "working\n",
      "on\n",
      "it,\n",
      "you\n",
      "will\n",
      "be\n",
      "able\n",
      "to\n",
      "be\n",
      "okay\n",
      "['Hello, welcome to the world of python.', \"Sometimes you get it, sometimes you don't.\", 'But if you keep working on it, you will be able to be okay']\n"
     ]
    }
   ],
   "source": [
    "multiline = \"\"\"Hello, welcome to the world of python.\n",
    "Sometimes you get it, sometimes you don't.\n",
    "But if you keep working on it, you will be able to be okay\"\"\"\n",
    "cnt = 0\n",
    "lines = []\n",
    "words = []\n",
    "\n",
    "for line in multiline.split(sep='\\n'):\n",
    "    lines.append(line)\n",
    "    for word in line.split(sep=' '):\n",
    "        words.append(word)\n",
    "        print(word)\n",
    "        cnt += 1\n",
    "print(lines)\n",
    "print(cnt)"
   ],
   "metadata": {
    "collapsed": false,
    "pycharm": {
     "name": "#%%\n"
    }
   }
  }
 ],
 "metadata": {
  "kernelspec": {
   "display_name": "Python 3",
   "language": "python",
   "name": "python3"
  },
  "language_info": {
   "codemirror_mode": {
    "name": "ipython",
    "version": 2
   },
   "file_extension": ".py",
   "mimetype": "text/x-python",
   "name": "python",
   "nbconvert_exporter": "python",
   "pygments_lexer": "ipython2",
   "version": "2.7.6"
  }
 },
 "nbformat": 4,
 "nbformat_minor": 0
}