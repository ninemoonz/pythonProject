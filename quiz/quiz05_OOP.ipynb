{
 "cells": [
  {
   "cell_type": "code",
   "execution_count": 13,
   "metadata": {
    "collapsed": true
   },
   "outputs": [
    {
     "name": "stdout",
     "output_type": "stream",
     "text": [
      "Area:  300\n",
      "Circumference:  70\n"
     ]
    }
   ],
   "source": [
    "class Rectangle:\n",
    "    width = height = 0\n",
    "\n",
    "    def __init__(self, width, height):\n",
    "        self.width = width\n",
    "        self.height = height\n",
    "\n",
    "    def AreaCalc(self):\n",
    "        area = self.width * self.height\n",
    "        return area\n",
    "\n",
    "    def CircumCalc(self):\n",
    "        circum = (self.width + self.height) * 2\n",
    "        return circum\n",
    "\n",
    "w = int(input('Enter the width: '))\n",
    "h = int(input('Enter the height: '))\n",
    "rec = Rectangle(w, h)\n",
    "print('Area: ', rec.AreaCalc())\n",
    "print('Circumference: ', rec.CircumCalc())"
   ]
  },
  {
   "cell_type": "code",
   "execution_count": 32,
   "outputs": [
    {
     "name": "stdout",
     "output_type": "stream",
     "text": [
      "7.466666666666666\n",
      "2.7325202042558927\n",
      "7.466666666666666\n"
     ]
    },
    {
     "ename": "AttributeError",
     "evalue": "'Scattering' object has no attribute 'st'",
     "output_type": "error",
     "traceback": [
      "\u001B[0;31m---------------------------------------------------------------------------\u001B[0m",
      "\u001B[0;31mAttributeError\u001B[0m                            Traceback (most recent call last)",
      "\u001B[0;32m/var/folders/gl/4fxw6b294y5g_jmkgh0dgk580000gn/T/ipykernel_18825/1371469622.py\u001B[0m in \u001B[0;36m<module>\u001B[0;34m\u001B[0m\n\u001B[1;32m     25\u001B[0m \u001B[0mprint\u001B[0m\u001B[0;34m(\u001B[0m\u001B[0mscatt\u001B[0m\u001B[0;34m.\u001B[0m\u001B[0mstd_func\u001B[0m\u001B[0;34m(\u001B[0m\u001B[0;34m)\u001B[0m\u001B[0;34m)\u001B[0m\u001B[0;34m\u001B[0m\u001B[0;34m\u001B[0m\u001B[0m\n\u001B[1;32m     26\u001B[0m \u001B[0mprint\u001B[0m\u001B[0;34m(\u001B[0m\u001B[0mscatt\u001B[0m\u001B[0;34m.\u001B[0m\u001B[0mvar\u001B[0m\u001B[0;34m)\u001B[0m\u001B[0;34m\u001B[0m\u001B[0;34m\u001B[0m\u001B[0m\n\u001B[0;32m---> 27\u001B[0;31m \u001B[0mprint\u001B[0m\u001B[0;34m(\u001B[0m\u001B[0mscatt\u001B[0m\u001B[0;34m.\u001B[0m\u001B[0mst\u001B[0m\u001B[0;34m)\u001B[0m\u001B[0;34m\u001B[0m\u001B[0;34m\u001B[0m\u001B[0m\n\u001B[0m",
      "\u001B[0;31mAttributeError\u001B[0m: 'Scattering' object has no attribute 'st'"
     ]
    }
   ],
   "source": [
    "from statistics import mean\n",
    "from math import sqrt\n",
    "\n",
    "\n",
    "x = [5, 9, 1, 7, 4, 6]\n",
    "\n",
    "class Scattering:\n",
    "    #constructor\n",
    "    def __init__(self, x):\n",
    "        self.x = x\n",
    "\n",
    "    def var_func(self):\n",
    "        avg = mean(self.x) #avg\n",
    "        diff = [(i - avg)**2 for i in self.x]\n",
    "\n",
    "        self.var = sum(diff) / (len(self.x) -1)\n",
    "        return self.var\n",
    "\n",
    "    def std_func(self):\n",
    "        st = sqrt(self.var)\n",
    "        return st\n",
    "\n",
    "scatt = Scattering(x)\n",
    "print(scatt.var_func())\n",
    "print(scatt.std_func())\n",
    "print(scatt.var)\n",
    "print(scatt.st)"
   ],
   "metadata": {
    "collapsed": false,
    "pycharm": {
     "name": "#%%\n"
    }
   }
  }
 ],
 "metadata": {
  "kernelspec": {
   "display_name": "Python 3",
   "language": "python",
   "name": "python3"
  },
  "language_info": {
   "codemirror_mode": {
    "name": "ipython",
    "version": 2
   },
   "file_extension": ".py",
   "mimetype": "text/x-python",
   "name": "python",
   "nbconvert_exporter": "python",
   "pygments_lexer": "ipython2",
   "version": "2.7.6"
  }
 },
 "nbformat": 4,
 "nbformat_minor": 0
}