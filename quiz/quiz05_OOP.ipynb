{
 "cells": [
  {
   "cell_type": "code",
   "execution_count": 13,
   "metadata": {
    "collapsed": true
   },
   "outputs": [
    {
     "name": "stdout",
     "output_type": "stream",
     "text": [
      "Area:  300\n",
      "Circumference:  70\n"
     ]
    }
   ],
   "source": [
    "class Rectangle:\n",
    "    width = height = 0\n",
    "\n",
    "    def __init__(self, width, height):\n",
    "        self.width = width\n",
    "        self.height = height\n",
    "\n",
    "    def AreaCalc(self):\n",
    "        area = self.width * self.height\n",
    "        return area\n",
    "\n",
    "    def CircumCalc(self):\n",
    "        circum = (self.width + self.height) * 2\n",
    "        return circum\n",
    "\n",
    "w = int(input('Enter the width: '))\n",
    "h = int(input('Enter the height: '))\n",
    "rec = Rectangle(w, h)\n",
    "print('Area: ', rec.AreaCalc())\n",
    "print('Circumference: ', rec.CircumCalc())"
   ]
  },
  {
   "cell_type": "code",
   "execution_count": 1,
   "outputs": [
    {
     "name": "stdout",
     "output_type": "stream",
     "text": [
      "7.466666666666666\n",
      "2.7325202042558927\n",
      "7.466666666666666\n"
     ]
    },
    {
     "ename": "AttributeError",
     "evalue": "'Scattering' object has no attribute 'st'",
     "output_type": "error",
     "traceback": [
      "\u001B[0;31m---------------------------------------------------------------------------\u001B[0m",
      "\u001B[0;31mAttributeError\u001B[0m                            Traceback (most recent call last)",
      "\u001B[0;32m/var/folders/gl/4fxw6b294y5g_jmkgh0dgk580000gn/T/ipykernel_20021/1752171686.py\u001B[0m in \u001B[0;36m<module>\u001B[0;34m\u001B[0m\n\u001B[1;32m     25\u001B[0m \u001B[0mprint\u001B[0m\u001B[0;34m(\u001B[0m\u001B[0mscatt\u001B[0m\u001B[0;34m.\u001B[0m\u001B[0mstd_func\u001B[0m\u001B[0;34m(\u001B[0m\u001B[0;34m)\u001B[0m\u001B[0;34m)\u001B[0m\u001B[0;34m\u001B[0m\u001B[0;34m\u001B[0m\u001B[0m\n\u001B[1;32m     26\u001B[0m \u001B[0mprint\u001B[0m\u001B[0;34m(\u001B[0m\u001B[0mscatt\u001B[0m\u001B[0;34m.\u001B[0m\u001B[0mvar\u001B[0m\u001B[0;34m)\u001B[0m\u001B[0;34m\u001B[0m\u001B[0;34m\u001B[0m\u001B[0m\n\u001B[0;32m---> 27\u001B[0;31m \u001B[0mprint\u001B[0m\u001B[0;34m(\u001B[0m\u001B[0mscatt\u001B[0m\u001B[0;34m.\u001B[0m\u001B[0mst\u001B[0m\u001B[0;34m)\u001B[0m\u001B[0;34m\u001B[0m\u001B[0;34m\u001B[0m\u001B[0m\n\u001B[0m",
      "\u001B[0;31mAttributeError\u001B[0m: 'Scattering' object has no attribute 'st'"
     ]
    }
   ],
   "source": [
    "from statistics import mean\n",
    "from math import sqrt\n",
    "\n",
    "\n",
    "x = [5, 9, 1, 7, 4, 6]\n",
    "\n",
    "class Scattering:\n",
    "    #constructor\n",
    "    def __init__(self, x):\n",
    "        self.x = x\n",
    "\n",
    "    def var_func(self):\n",
    "        avg = mean(self.x) #avg\n",
    "        diff = [(i - avg)**2 for i in self.x]\n",
    "\n",
    "        self.var = sum(diff) / (len(self.x) -1)\n",
    "        return self.var\n",
    "\n",
    "    def std_func(self):\n",
    "        st = sqrt(self.var)\n",
    "        return st\n",
    "\n",
    "scatt = Scattering(x)\n",
    "print(scatt.var_func())\n",
    "print(scatt.std_func())\n",
    "print(scatt.var)\n",
    "print(scatt.st)"
   ],
   "metadata": {
    "collapsed": false,
    "pycharm": {
     "name": "#%%\n"
    }
   }
  },
  {
   "cell_type": "code",
   "execution_count": 6,
   "outputs": [
    {
     "name": "stdout",
     "output_type": "stream",
     "text": [
      "name: Yoon, gender: 61, age: male\n"
     ]
    }
   ],
   "source": [
    "class Person:\n",
    "    name = None\n",
    "    gender = None\n",
    "    age = 0\n",
    "    def __init__(self, name, gender, age):\n",
    "        self.name = name\n",
    "        self.gender = gender\n",
    "        self.age = age\n",
    "    def display(self):\n",
    "            print('name: {}, gender: {}, age: {}'.format(self.name, self.gender, self.age))\n",
    "\n",
    "\n",
    "name = input('name: ')\n",
    "age = int(input('age: '))\n",
    "gender = input('gender(male/female): ')\n",
    "\n",
    "#p = Person(name, age, gender)\n",
    "#p.display()"
   ],
   "metadata": {
    "collapsed": false,
    "pycharm": {
     "name": "#%%\n"
    }
   }
  },
  {
   "cell_type": "code",
   "execution_count": 16,
   "outputs": [
    {
     "name": "stdout",
     "output_type": "stream",
     "text": [
      "Employment status: Part time\n",
      "Name:  Koodal\n",
      "Base Salary:  800,000,000\n"
     ]
    }
   ],
   "source": [
    "\n",
    "class Employee:\n",
    "    name = None\n",
    "    pay = 0\n",
    "\n",
    "    def __init__(self, name):\n",
    "        self.name = name\n",
    "\n",
    "class PartTime(Employee):\n",
    "    def __init__(self, name, time, hourpay):\n",
    "        super().__init__(name)\n",
    "        self.pay = time * hourpay\n",
    "\n",
    "\n",
    "class FullTime(Employee):\n",
    "\n",
    "    def __init__(self, name, base, bonus):\n",
    "        super().__init__(name)\n",
    "        self.pay = base + bonus\n",
    "\n",
    "\n",
    "hire = input('고용형태 선택(정규<F>, 임시<P>)')\n",
    "\n",
    "if hire == 'F' or hire == 'f':\n",
    "    name = input('name: ')\n",
    "    base = int(input('기본급: '))\n",
    "    bonus = int(input('bonus: '))\n",
    "    f = FullTime(name, base, bonus)\n",
    "    print('Employment status: Full Time')\n",
    "    print('Name: ', f.name)\n",
    "    print('Base Salary: ', format(f.pay, '3,d'))\n",
    "\n",
    "elif hire == 'P' or hire == 'p':\n",
    "    name = input('name: ')\n",
    "    time = int(input('hours worked: '))\n",
    "    hourpay = int(input('money per hour: '))\n",
    "    p = PartTime(name, time, hourpay)\n",
    "    print('Employment status: Part time')\n",
    "    print('Name: ', p.name)\n",
    "    print('Base Salary: ', format(p.pay, '3,d'))\n",
    "\n",
    "else:\n",
    "    print('='*30)\n",
    "    print('Input Error')"
   ],
   "metadata": {
    "collapsed": false,
    "pycharm": {
     "name": "#%%\n"
    }
   }
  },
  {
   "cell_type": "code",
   "execution_count": 21,
   "outputs": [
    {
     "name": "stdout",
     "output_type": "stream",
     "text": [
      "<function Add at 0x7f9339339940>\n"
     ]
    },
    {
     "ename": "RecursionError",
     "evalue": "maximum recursion depth exceeded",
     "output_type": "error",
     "traceback": [
      "\u001B[0;31m---------------------------------------------------------------------------\u001B[0m",
      "\u001B[0;31mRecursionError\u001B[0m                            Traceback (most recent call last)",
      "\u001B[0;32m/var/folders/gl/4fxw6b294y5g_jmkgh0dgk580000gn/T/ipykernel_20296/2054831424.py\u001B[0m in \u001B[0;36m<module>\u001B[0;34m\u001B[0m\n\u001B[1;32m      5\u001B[0m \u001B[0my\u001B[0m \u001B[0;34m=\u001B[0m \u001B[0;36m5\u001B[0m\u001B[0;34m\u001B[0m\u001B[0;34m\u001B[0m\u001B[0m\n\u001B[1;32m      6\u001B[0m \u001B[0mprint\u001B[0m\u001B[0;34m(\u001B[0m\u001B[0mAdd\u001B[0m\u001B[0;34m(\u001B[0m\u001B[0mx\u001B[0m\u001B[0;34m,\u001B[0m \u001B[0my\u001B[0m\u001B[0;34m)\u001B[0m\u001B[0;34m)\u001B[0m\u001B[0;34m\u001B[0m\u001B[0;34m\u001B[0m\u001B[0m\n\u001B[0;32m----> 7\u001B[0;31m \u001B[0mprint\u001B[0m\u001B[0;34m(\u001B[0m\u001B[0mSub\u001B[0m\u001B[0;34m(\u001B[0m\u001B[0mx\u001B[0m\u001B[0;34m,\u001B[0m \u001B[0my\u001B[0m\u001B[0;34m)\u001B[0m\u001B[0;34m)\u001B[0m\u001B[0;34m\u001B[0m\u001B[0;34m\u001B[0m\u001B[0m\n\u001B[0m\u001B[1;32m      8\u001B[0m \u001B[0mprint\u001B[0m\u001B[0;34m(\u001B[0m\u001B[0mMul\u001B[0m\u001B[0;34m(\u001B[0m\u001B[0mx\u001B[0m\u001B[0;34m,\u001B[0m \u001B[0my\u001B[0m\u001B[0;34m)\u001B[0m\u001B[0;34m)\u001B[0m\u001B[0;34m\u001B[0m\u001B[0;34m\u001B[0m\u001B[0m\n\u001B[1;32m      9\u001B[0m \u001B[0mprint\u001B[0m\u001B[0;34m(\u001B[0m\u001B[0mDiv\u001B[0m\u001B[0;34m(\u001B[0m\u001B[0mx\u001B[0m\u001B[0;34m,\u001B[0m \u001B[0my\u001B[0m\u001B[0;34m)\u001B[0m\u001B[0;34m)\u001B[0m\u001B[0;34m\u001B[0m\u001B[0;34m\u001B[0m\u001B[0m\n",
      "\u001B[0;32m~/PycharmProjects/pythonProject/myCalcPackage/calcModule.py\u001B[0m in \u001B[0;36mSub\u001B[0;34m(x, y)\u001B[0m\n\u001B[1;32m      5\u001B[0m \u001B[0;32mdef\u001B[0m \u001B[0mSub\u001B[0m\u001B[0;34m(\u001B[0m\u001B[0mx\u001B[0m\u001B[0;34m,\u001B[0m \u001B[0my\u001B[0m\u001B[0;34m)\u001B[0m\u001B[0;34m:\u001B[0m\u001B[0;34m\u001B[0m\u001B[0;34m\u001B[0m\u001B[0m\n\u001B[1;32m      6\u001B[0m     \u001B[0msub\u001B[0m \u001B[0;34m=\u001B[0m \u001B[0mx\u001B[0m \u001B[0;34m-\u001B[0m \u001B[0my\u001B[0m\u001B[0;34m\u001B[0m\u001B[0;34m\u001B[0m\u001B[0m\n\u001B[0;32m----> 7\u001B[0;31m     \u001B[0;32mreturn\u001B[0m \u001B[0msub\u001B[0m\u001B[0;34m\u001B[0m\u001B[0;34m\u001B[0m\u001B[0m\n\u001B[0m\u001B[1;32m      8\u001B[0m \u001B[0;34m\u001B[0m\u001B[0m\n\u001B[1;32m      9\u001B[0m \u001B[0;32mdef\u001B[0m \u001B[0mMul\u001B[0m\u001B[0;34m(\u001B[0m\u001B[0mx\u001B[0m\u001B[0;34m,\u001B[0m \u001B[0my\u001B[0m\u001B[0;34m)\u001B[0m\u001B[0;34m:\u001B[0m\u001B[0;34m\u001B[0m\u001B[0;34m\u001B[0m\u001B[0m\n",
      "... last 1 frames repeated, from the frame below ...\n",
      "\u001B[0;32m~/PycharmProjects/pythonProject/myCalcPackage/calcModule.py\u001B[0m in \u001B[0;36mSub\u001B[0;34m(x, y)\u001B[0m\n\u001B[1;32m      5\u001B[0m \u001B[0;32mdef\u001B[0m \u001B[0mSub\u001B[0m\u001B[0;34m(\u001B[0m\u001B[0mx\u001B[0m\u001B[0;34m,\u001B[0m \u001B[0my\u001B[0m\u001B[0;34m)\u001B[0m\u001B[0;34m:\u001B[0m\u001B[0;34m\u001B[0m\u001B[0;34m\u001B[0m\u001B[0m\n\u001B[1;32m      6\u001B[0m     \u001B[0msub\u001B[0m \u001B[0;34m=\u001B[0m \u001B[0mx\u001B[0m \u001B[0;34m-\u001B[0m \u001B[0my\u001B[0m\u001B[0;34m\u001B[0m\u001B[0;34m\u001B[0m\u001B[0m\n\u001B[0;32m----> 7\u001B[0;31m     \u001B[0;32mreturn\u001B[0m \u001B[0msub\u001B[0m\u001B[0;34m\u001B[0m\u001B[0;34m\u001B[0m\u001B[0m\n\u001B[0m\u001B[1;32m      8\u001B[0m \u001B[0;34m\u001B[0m\u001B[0m\n\u001B[1;32m      9\u001B[0m \u001B[0;32mdef\u001B[0m \u001B[0mMul\u001B[0m\u001B[0;34m(\u001B[0m\u001B[0mx\u001B[0m\u001B[0;34m,\u001B[0m \u001B[0my\u001B[0m\u001B[0;34m)\u001B[0m\u001B[0;34m:\u001B[0m\u001B[0;34m\u001B[0m\u001B[0;34m\u001B[0m\u001B[0m\n",
      "\u001B[0;31mRecursionError\u001B[0m: maximum recursion depth exceeded"
     ]
    }
   ],
   "source": [
    "# program main\n",
    "from myCalcPackage.calcModule import Add, Sub, Mul, Div\n",
    "\n",
    "x = 10\n",
    "y = 5\n",
    "print(Add(x, y))\n",
    "print(Sub(x, y))\n",
    "print(Mul(x, y))\n",
    "print(Div(x, y))"
   ],
   "metadata": {
    "collapsed": false,
    "pycharm": {
     "name": "#%%\n"
    }
   }
  }
 ],
 "metadata": {
  "kernelspec": {
   "display_name": "Python 3",
   "language": "python",
   "name": "python3"
  },
  "language_info": {
   "codemirror_mode": {
    "name": "ipython",
    "version": 2
   },
   "file_extension": ".py",
   "mimetype": "text/x-python",
   "name": "python",
   "nbconvert_exporter": "python",
   "pygments_lexer": "ipython2",
   "version": "2.7.6"
  }
 },
 "nbformat": 4,
 "nbformat_minor": 0
}