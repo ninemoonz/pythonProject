{
 "cells": [
  {
   "cell_type": "code",
   "execution_count": 3,
   "metadata": {
    "collapsed": true
   },
   "outputs": [
    {
     "name": "stdout",
     "output_type": "stream",
     "text": [
      "*\n",
      "**\n",
      "***\n",
      "****\n",
      "*****\n",
      "start number: 15\n"
     ]
    }
   ],
   "source": [
    "# 1\n",
    "def starCount(height):\n",
    "\n",
    "    h_cnt = s_cnt = 0\n",
    "\n",
    "    while h_cnt < height:\n",
    "        h_cnt += 1\n",
    "        print('*'*h_cnt)\n",
    "        s_cnt += h_cnt\n",
    "    return s_cnt\n",
    "\n",
    "height = int(input('height: '))\n",
    "print('start number: %d' %starCount(height))"
   ]
  },
  {
   "cell_type": "code",
   "execution_count": 16,
   "outputs": [
    {
     "name": "stdout",
     "output_type": "stream",
     "text": [
      "balance: 1000\n"
     ]
    },
    {
     "ename": "NameError",
     "evalue": "name 'deposit' is not defined",
     "output_type": "error",
     "traceback": [
      "\u001B[0;31m---------------------------------------------------------------------------\u001B[0m",
      "\u001B[0;31mNameError\u001B[0m                                 Traceback (most recent call last)",
      "\u001B[0;32m/var/folders/gl/4fxw6b294y5g_jmkgh0dgk580000gn/T/ipykernel_11784/4194522950.py\u001B[0m in \u001B[0;36m<module>\u001B[0;34m\u001B[0m\n\u001B[1;32m     23\u001B[0m \u001B[0;34m\u001B[0m\u001B[0m\n\u001B[1;32m     24\u001B[0m \u001B[0mprint\u001B[0m\u001B[0;34m(\u001B[0m\u001B[0;34m'balance:'\u001B[0m\u001B[0;34m,\u001B[0m \u001B[0mbalance\u001B[0m\u001B[0;34m)\u001B[0m\u001B[0;34m\u001B[0m\u001B[0;34m\u001B[0m\u001B[0m\n\u001B[0;32m---> 25\u001B[0;31m \u001B[0mprint\u001B[0m\u001B[0;34m(\u001B[0m\u001B[0;34m'deposit'\u001B[0m\u001B[0;34m,\u001B[0m \u001B[0mdeposit\u001B[0m\u001B[0;34m(\u001B[0m\u001B[0mbalance\u001B[0m\u001B[0;34m)\u001B[0m\u001B[0;34m)\u001B[0m\u001B[0;34m\u001B[0m\u001B[0;34m\u001B[0m\u001B[0m\n\u001B[0m\u001B[1;32m     26\u001B[0m \u001B[0;34m\u001B[0m\u001B[0m\n",
      "\u001B[0;31mNameError\u001B[0m: name 'deposit' is not defined"
     ]
    }
   ],
   "source": [
    "# 2\n",
    "def bank_account(bal):\n",
    "    balance = bal # 잔액 초기화 1000\n",
    "\n",
    "    def getBalance():\n",
    "        return balance\n",
    "\n",
    "    def deposit(money): #입금 getters\n",
    "        nonlocal balance\n",
    "        balance += money\n",
    "\n",
    "    def withdraw(money): # 출금 setters\n",
    "        nonlocal balance\n",
    "        if balance < money:\n",
    "            print('Not enough balance')\n",
    "        else:\n",
    "            balance -= money\n",
    "\n",
    "    return getBalance, deposit, withdraw\n",
    "\n",
    "bal = int(input('Enter your balance: '))"
   ],
   "metadata": {
    "collapsed": false,
    "pycharm": {
     "name": "#%%\n"
    }
   }
  },
  {
   "cell_type": "code",
   "execution_count": 18,
   "outputs": [
    {
     "name": "stdout",
     "output_type": "stream",
     "text": [
      "n=1 1\n",
      "2 3 4 5 n=5 120\n"
     ]
    }
   ],
   "source": [
    "# Factorial problem\n",
    "\n",
    "def Factorial(n):\n",
    "    if n == 1:\n",
    "        return 1\n",
    "    else:\n",
    "        result = n * Factorial(n-1)\n",
    "\n",
    "        print(n, end = ' ')\n",
    "        return result\n",
    "\n",
    "print('n=1', Factorial(1))\n",
    "print('n=5', Factorial(5))"
   ],
   "metadata": {
    "collapsed": false,
    "pycharm": {
     "name": "#%%\n"
    }
   }
  }
 ],
 "metadata": {
  "kernelspec": {
   "display_name": "Python 3",
   "language": "python",
   "name": "python3"
  },
  "language_info": {
   "codemirror_mode": {
    "name": "ipython",
    "version": 2
   },
   "file_extension": ".py",
   "mimetype": "text/x-python",
   "name": "python",
   "nbconvert_exporter": "python",
   "pygments_lexer": "ipython2",
   "version": "2.7.6"
  }
 },
 "nbformat": 4,
 "nbformat_minor": 0
}