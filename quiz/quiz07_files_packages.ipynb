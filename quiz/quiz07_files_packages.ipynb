{
 "cells": [
  {
   "cell_type": "code",
   "execution_count": 9,
   "metadata": {
    "collapsed": true
   },
   "outputs": [
    {
     "name": "stdout",
     "output_type": "stream",
     "text": [
      "['programming is fun', 'very fun!', 'have a good time', 'mouse is input device', 'keyboard is input device', 'computer']\n",
      "['programming', 'is', 'fun', 'very', 'fun!', 'have', 'a', 'good', 'time', 'mouse', 'is', 'input', 'device', 'keyboard', 'is', 'input', 'device', 'computer']\n"
     ]
    }
   ],
   "source": [
    "file = open('/Users/followthesnake/Desktop/data/ftest2.txt', mode='r')\n",
    "\n",
    "lines = file.readlines()\n",
    "docs = []\n",
    "words = []\n",
    "\n",
    "for line in lines:\n",
    "    docs.append(line.strip())\n",
    "\n",
    "    for word in line.split():\n",
    "        words.append(word)\n",
    "\n",
    "print(docs)\n",
    "print(words)"
   ]
  },
  {
   "cell_type": "code",
   "execution_count": null,
   "outputs": [],
   "source": [
    "import numpy as np\n",
    "import pandas as pd\n",
    "import seaborn as sns\n",
    "import sklearn\n",
    "\n",
    "#시각화 패키지\n",
    "import matplotlib.pyplot as plt\n",
    "\n",
    "#시각화 할 때 한글 출력을 위한 패키지\n",
    "import platform\n",
    "from matplotlib import font_manager, rc\n",
    "\n",
    "#한글 처리\n",
    "#매킨토시 경우\n",
    "if platform.system() == 'Darwin':\n",
    "    rc('font',family='AppleGothic')\n",
    "#윈도우인 경우\n",
    "elif platform.system() == 'Windows':\n",
    "    font_name = font_manager.FontProperties(\n",
    "        fname = \"c:/Windows/Fonts/malgun.ttf\").get_name()\n",
    "    rc('font',family=font_name)"
   ],
   "metadata": {
    "collapsed": false,
    "pycharm": {
     "name": "#%%\n"
    }
   }
  },
  {
   "cell_type": "code",
   "execution_count": 15,
   "outputs": [
    {
     "name": "stdout",
     "output_type": "stream",
     "text": [
      "<class 'pandas.core.frame.DataFrame'>\n",
      "RangeIndex: 50 entries, 0 to 49\n",
      "Data columns (total 4 columns):\n",
      " #   Column        Non-Null Count  Dtype  \n",
      "---  ------        --------------  -----  \n",
      " 0   State         50 non-null     object \n",
      " 1   Population    50 non-null     int64  \n",
      " 2   Murder.Rate   50 non-null     float64\n",
      " 3   Abbreviation  50 non-null     object \n",
      "dtypes: float64(1), int64(1), object(2)\n",
      "memory usage: 1.7+ KB\n",
      "None\n",
      "length:  50\n",
      "Average population:  6162876.3\n",
      "최고 인구 주: 37253956, 이름: California\n",
      "최저 인구 주: 563626, 이름: Wyoming\n"
     ]
    }
   ],
   "source": [
    "import pandas as pd\n",
    "emp = pd.read_csv('/Users/followthesnake/Desktop/data/state.csv', encoding='utf-8')\n",
    "print(emp.info())\n",
    "\n",
    "print('length: ', len(emp))\n",
    "\n",
    "state = emp.State\n",
    "pop = emp.Population\n",
    "print('Average population: ', pop.mean())\n",
    "\n",
    "max_pop = max(pop)\n",
    "min_pop = min(pop)\n",
    "\n",
    "for idx in range(len(pop)):\n",
    "    if pop[idx] == min_pop:\n",
    "        print('최저 인구 주: %d, 이름: %s' %(min_pop, state[idx]))\n",
    "    if pop[idx] == max_pop:\n",
    "        print('최고 인구 주: %d, 이름: %s' %(max_pop, state[idx]))\n"
   ],
   "metadata": {
    "collapsed": false,
    "pycharm": {
     "name": "#%%\n"
    }
   }
  }
 ],
 "metadata": {
  "kernelspec": {
   "display_name": "Python 3",
   "language": "python",
   "name": "python3"
  },
  "language_info": {
   "codemirror_mode": {
    "name": "ipython",
    "version": 2
   },
   "file_extension": ".py",
   "mimetype": "text/x-python",
   "name": "python",
   "nbconvert_exporter": "python",
   "pygments_lexer": "ipython2",
   "version": "2.7.6"
  }
 },
 "nbformat": 4,
 "nbformat_minor": 0
}