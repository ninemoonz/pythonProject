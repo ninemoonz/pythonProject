{
 "cells": [
  {
   "cell_type": "markdown",
   "metadata": {
    "collapsed": true,
    "pycharm": {
     "name": "#%% md\n"
    }
   },
   "source": [
    "# format\n",
    "## format(value, \"format\")"
   ]
  },
  {
   "cell_type": "code",
   "execution_count": 9,
   "outputs": [
    {
     "name": "stdout",
     "output_type": "stream",
     "text": [
      "pie=    3.142\n",
      "price=     100000\n",
      "price= 100,000\n"
     ]
    }
   ],
   "source": [
    "# used in print() function\n",
    "# print(\"%양식문자\" %(값))\n",
    "\"\"\"\n",
    "%d : 10진수\n",
    "%o : 8진수\n",
    "%x : 16진수\n",
    "%f : 실수 (%전체자릿수.소수점자릿f)\n",
    "%s : 문자열\n",
    "%c : 단일 문자열\n",
    "\"\"\"\n",
    "\n",
    "#format(value, \"format\")\n",
    "print(\"pie=\", format(3.14159, \"8.3f\"))\n",
    "print(\"price=\", format(100000, \"10d\"))\n",
    "print(\"price=\", format(100000, \"3,d\"))"
   ],
   "metadata": {
    "collapsed": false,
    "pycharm": {
     "name": "#%%\n"
    }
   }
  },
  {
   "cell_type": "code",
   "execution_count": 1,
   "outputs": [
    {
     "name": "stdout",
     "output_type": "stream",
     "text": [
      "이름: Tyler, 나이: 35, data = 120.98\n"
     ]
    }
   ],
   "source": [
    "#print(\"%양식문자\" %(값))\n",
    "name = \"Tyler\"\n",
    "age = 35\n",
    "price = 120.98234\n",
    "print(\"이름: %s, 나이: %d, data = %.2f\" %(name, age, price))"
   ],
   "metadata": {
    "collapsed": false,
    "pycharm": {
     "name": "#%%\n"
    }
   }
  },
  {
   "cell_type": "markdown",
   "source": [
    "## 외부상수 출력\n",
    "### print(\"{}\".format(value))"
   ],
   "metadata": {
    "collapsed": false,
    "pycharm": {
     "name": "#%% md\n"
    }
   }
  },
  {
   "cell_type": "code",
   "execution_count": 5,
   "outputs": [
    {
     "name": "stdout",
     "output_type": "stream",
     "text": [
      "name: Tyler, age: 34, data=9000000\n",
      "name: 9000000, age: Tyler, data=34\n",
      "select * from member where uid=hihi\n"
     ]
    }
   ],
   "source": [
    "# {}기호를 이용해 외부 값을 순서대로 받아서 출력\n",
    "# Useful when writing SQL sentences\n",
    "name = 'Tyler'\n",
    "age = '34'\n",
    "price = '9000000'\n",
    "\n",
    "print(\"name: {}, age: {}, data={}\".format(name, age, price))\n",
    "print(\"name: {2}, age: {0}, data={1}\".format(name, age, price))\n",
    "#{n} can change the order of the value\n",
    "\n",
    "# SQL using format\n",
    "uid = input('id input: ')\n",
    "query = f\"select * from member where uid={uid}\"\n",
    "print(query)"
   ],
   "metadata": {
    "collapsed": false,
    "pycharm": {
     "name": "#%%\n"
    }
   }
  },
  {
   "cell_type": "code",
   "execution_count": null,
   "outputs": [],
   "source": [],
   "metadata": {
    "collapsed": false,
    "pycharm": {
     "name": "#%%\n"
    }
   }
  }
 ],
 "metadata": {
  "kernelspec": {
   "display_name": "Python 3",
   "language": "python",
   "name": "python3"
  },
  "language_info": {
   "codemirror_mode": {
    "name": "ipython",
    "version": 2
   },
   "file_extension": ".py",
   "mimetype": "text/x-python",
   "name": "python",
   "nbconvert_exporter": "python",
   "pygments_lexer": "ipython2",
   "version": "2.7.6"
  }
 },
 "nbformat": 4,
 "nbformat_minor": 0
}