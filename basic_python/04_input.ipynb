{
 "cells": [
  {
   "cell_type": "code",
   "execution_count": 11,
   "metadata": {
    "collapsed": true
   },
   "outputs": [
    {
     "data": {
      "text/plain": "'123'"
     },
     "execution_count": 11,
     "metadata": {},
     "output_type": "execute_result"
    }
   ],
   "source": [
    "input('숫자 입력:')"
   ]
  },
  {
   "cell_type": "code",
   "execution_count": 8,
   "outputs": [
    {
     "name": "stdout",
     "output_type": "stream",
     "text": [
      "num type:  <class 'str'>\n",
      "num =  12\n",
      "num * 2 =  1212\n"
     ]
    }
   ],
   "source": [
    "# str type number input\n",
    "num = input(\"Enter the number: \")\n",
    "print('num type: ', type(num) )\n",
    "print('num = ', num)\n",
    "print('num * 2 = ', num*2)"
   ],
   "metadata": {
    "collapsed": false,
    "pycharm": {
     "name": "#%%\n"
    }
   }
  },
  {
   "cell_type": "code",
   "execution_count": 9,
   "outputs": [
    {
     "name": "stdout",
     "output_type": "stream",
     "text": [
      "num1 =  123\n",
      "<class 'int'>\n"
     ]
    }
   ],
   "source": [
    "# str type number to integer\n",
    "num1 = int(input(\"Enter a number: \"))\n",
    "print('num1 = ', num1)\n",
    "print(type(num1))"
   ],
   "metadata": {
    "collapsed": false,
    "pycharm": {
     "name": "#%%\n"
    }
   }
  },
  {
   "cell_type": "code",
   "execution_count": 10,
   "outputs": [
    {
     "name": "stdout",
     "output_type": "stream",
     "text": [
      "num2 =  123.0\n",
      "<class 'float'>\n"
     ]
    }
   ],
   "source": [
    "# str type number to float\n",
    "num2 = float(input(\"Enter a number: \"))\n",
    "print('num2 = ', num2)\n",
    "print(type(num2))"
   ],
   "metadata": {
    "collapsed": false,
    "pycharm": {
     "name": "#%%\n"
    }
   }
  }
 ],
 "metadata": {
  "kernelspec": {
   "display_name": "Python 3",
   "language": "python",
   "name": "python3"
  },
  "language_info": {
   "codemirror_mode": {
    "name": "ipython",
    "version": 2
   },
   "file_extension": ".py",
   "mimetype": "text/x-python",
   "name": "python",
   "nbconvert_exporter": "python",
   "pygments_lexer": "ipython2",
   "version": "2.7.6"
  }
 },
 "nbformat": 4,
 "nbformat_minor": 0
}