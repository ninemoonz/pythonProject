{
 "cells": [
  {
   "cell_type": "code",
   "execution_count": 1,
   "metadata": {
    "collapsed": true
   },
   "outputs": [
    {
     "name": "stdout",
     "output_type": "stream",
     "text": [
      "Data type:  <class 'int'>\n",
      "Data type:  <class 'float'>\n",
      "Data type:  <class 'str'>\n",
      "Data type:  <class 'bool'>\n"
     ]
    }
   ],
   "source": [
    "# python does not declare data types.\n",
    "# data types determined when values are initialized\n",
    "\n",
    "student_id = 1652832 #Numeric datatype (int)\n",
    "height = 166.6 #decimal (float)\n",
    "name = 'Tyler' #Character (str)\n",
    "graduate = True #Logical (bool)\n",
    "\n",
    "# Finding out the dtype of variable\n",
    "\n",
    "print(\"Data type: \", type(student_id))\n",
    "print(\"Data type: \", type(height))\n",
    "print(\"Data type: \", type(name))\n",
    "print(\"Data type: \", type(graduate))"
   ]
  },
  {
   "cell_type": "markdown",
   "source": [
    "## Datatype casting"
   ],
   "metadata": {
    "collapsed": false,
    "pycharm": {
     "name": "#%% md\n"
    }
   }
  },
  {
   "cell_type": "code",
   "execution_count": 4,
   "outputs": [
    {
     "name": "stdout",
     "output_type": "stream",
     "text": [
      "27\n",
      "52.0\n",
      "1\n",
      "0\n",
      "100\n",
      "12\n"
     ]
    }
   ],
   "source": [
    "# float to integer\n",
    "a = int(12.4)\n",
    "b = int(15.7)\n",
    "sum = a + b\n",
    "print(sum)\n",
    "\n",
    "# integer to float\n",
    "a = float(14)\n",
    "b = float(38)\n",
    "total = a + b\n",
    "print(total)\n",
    "\n",
    "# bool to integer\n",
    "a = int(True)\n",
    "b = int(False)\n",
    "print(a)\n",
    "print(b)\n",
    "\n",
    "# str to integer\n",
    "a = int('10')\n",
    "b = int('12')\n",
    "print(a ** 2)\n",
    "print(b)\n"
   ],
   "metadata": {
    "collapsed": false,
    "pycharm": {
     "name": "#%%\n"
    }
   }
  },
  {
   "cell_type": "code",
   "execution_count": null,
   "outputs": [],
   "source": [],
   "metadata": {
    "collapsed": false,
    "pycharm": {
     "name": "#%%\n"
    }
   }
  }
 ],
 "metadata": {
  "kernelspec": {
   "display_name": "Python 3",
   "language": "python",
   "name": "python3"
  },
  "language_info": {
   "codemirror_mode": {
    "name": "ipython",
    "version": 2
   },
   "file_extension": ".py",
   "mimetype": "text/x-python",
   "name": "python",
   "nbconvert_exporter": "python",
   "pygments_lexer": "ipython2",
   "version": "2.7.6"
  }
 },
 "nbformat": 4,
 "nbformat_minor": 0
}