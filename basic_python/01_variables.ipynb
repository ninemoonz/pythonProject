{
 "cells": [
  {
   "cell_type": "markdown",
   "source": [
    "## How values and variables work in Python"
   ],
   "metadata": {
    "collapsed": false,
    "pycharm": {
     "name": "#%% md\n"
    }
   }
  },
  {
   "cell_type": "code",
   "execution_count": 2,
   "outputs": [
    {
     "name": "stdout",
     "output_type": "stream",
     "text": [
      "Hello World\n",
      "140658437599728\n",
      "123\n",
      "140658971367600\n"
     ]
    },
    {
     "data": {
      "text/plain": "'\\nwhen a value is initialized, it is stored in memory and get an address.\\nvariable (var in here) then pointed to the variable.\\n\\nWhen a same variable is overwritten with different value,\\nthe python does not use same address but create new address for new value.\\n'"
     },
     "execution_count": 2,
     "metadata": {},
     "output_type": "execute_result"
    }
   ],
   "source": [
    "'''\n",
    "when a value is initialized, it is stored in memory and get an address.\n",
    "variable (var in here) then pointed to the variable.\n",
    "\n",
    "When a same variable is overwritten with different value,\n",
    "the python does not use same address but create new address for new value.\n",
    "# Identifier: name of function names, class names, modules.\n",
    "'''\n",
    "\n",
    "var = 'Hello World'\n",
    "print(var)\n",
    "print(id(var))\n",
    "\n",
    "var = 123\n",
    "print(var)\n",
    "print(id(var))"
   ],
   "metadata": {
    "collapsed": false,
    "pycharm": {
     "name": "#%%\n"
    }
   }
  },
  {
   "cell_type": "markdown",
   "source": [
    "## Identifier: name of function names, class names, modules."
   ],
   "metadata": {
    "collapsed": false,
    "pycharm": {
     "name": "#%% md\n"
    }
   }
  },
  {
   "cell_type": "code",
   "execution_count": 4,
   "outputs": [
    {
     "name": "stdout",
     "output_type": "stream",
     "text": [
      "['False', 'None', 'True', '__peg_parser__', 'and', 'as', 'assert', 'async', 'await', 'break', 'class', 'continue', 'def', 'del', 'elif', 'else', 'except', 'finally', 'for', 'from', 'global', 'if', 'import', 'in', 'is', 'lambda', 'nonlocal', 'not', 'or', 'pass', 'raise', 'return', 'try', 'while', 'with', 'yield']\n"
     ]
    }
   ],
   "source": [
    "import keyword # module importing\n",
    "python_keyword = keyword.kwlist\n",
    "print(python_keyword)"
   ],
   "metadata": {
    "collapsed": false,
    "pycharm": {
     "name": "#%%\n"
    }
   }
  }
 ],
 "metadata": {
  "kernelspec": {
   "display_name": "Python 3",
   "language": "python",
   "name": "python3"
  },
  "language_info": {
   "codemirror_mode": {
    "name": "ipython",
    "version": 2
   },
   "file_extension": ".py",
   "mimetype": "text/x-python",
   "name": "python",
   "nbconvert_exporter": "python",
   "pygments_lexer": "ipython2",
   "version": "2.7.6"
  }
 },
 "nbformat": 4,
 "nbformat_minor": 0
}