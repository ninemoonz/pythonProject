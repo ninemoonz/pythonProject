{
 "cells": [
  {
   "cell_type": "code",
   "execution_count": 1,
   "metadata": {
    "collapsed": true
   },
   "outputs": [
    {
     "name": "stdout",
     "output_type": "stream",
     "text": [
      "Hello World\n"
     ]
    }
   ],
   "source": [
    "oneLine = \"Hello World\"\n",
    "print(oneLine)"
   ]
  },
  {
   "cell_type": "code",
   "execution_count": 2,
   "outputs": [
    {
     "name": "stdout",
     "output_type": "stream",
     "text": [
      "\n",
      "hello\n",
      "my name is\n",
      "slim shady\n",
      "\n"
     ]
    }
   ],
   "source": [
    "multiLine = \"\"\"\n",
    "hello\n",
    "my name is\n",
    "slim shady\n",
    "\"\"\"\n",
    "print(multiLine)"
   ],
   "metadata": {
    "collapsed": false,
    "pycharm": {
     "name": "#%%\n"
    }
   }
  },
  {
   "cell_type": "code",
   "execution_count": 3,
   "outputs": [
    {
     "name": "stdout",
     "output_type": "stream",
     "text": [
      "this is\n",
      "multi line\n",
      "string\n"
     ]
    }
   ],
   "source": [
    "multiLine2 = \"this is\\nmulti line\\nstring\"\n",
    "print(multiLine2)"
   ],
   "metadata": {
    "collapsed": false,
    "pycharm": {
     "name": "#%%\n"
    }
   }
  },
  {
   "cell_type": "code",
   "execution_count": 5,
   "outputs": [
    {
     "name": "stdout",
     "output_type": "stream",
     "text": [
      "P\n",
      "Y\n",
      "T\n",
      "N\n",
      "H\n"
     ]
    }
   ],
   "source": [
    "# INDEX\n",
    "string = 'PYTHON'\n",
    "print(string[0])\n",
    "print(string[1])\n",
    "print(string[2])\n",
    "print(string[-1])\n",
    "print(string[-3])"
   ],
   "metadata": {
    "collapsed": false,
    "pycharm": {
     "name": "#%%\n"
    }
   }
  },
  {
   "cell_type": "code",
   "execution_count": 9,
   "outputs": [
    {
     "name": "stdout",
     "output_type": "stream",
     "text": [
      "dog runs\n",
      "HelloWorld\n",
      "Python-3.9.exe\n",
      "------------------------------\n"
     ]
    }
   ],
   "source": [
    "# string operator\n",
    "noun = 'dog'\n",
    "verb1 = 'runs'\n",
    "verb2 = 'eats'\n",
    "verb3 = 'barks'\n",
    "\n",
    "print(noun + \" \" + verb1)\n",
    "print(\"Hello\" + \"World\")\n",
    "print(\"Python-\" + str(3.9) + \".exe\")\n",
    "print(\"-\"*30) #반복연산자"
   ],
   "metadata": {
    "collapsed": false,
    "pycharm": {
     "name": "#%%\n"
    }
   }
  },
  {
   "cell_type": "markdown",
   "source": [
    "## Slicing\n",
    "### 문자열[시작색인 : 끝색인 : 증감값]"
   ],
   "metadata": {
    "collapsed": false,
    "pycharm": {
     "name": "#%% md\n"
    }
   }
  },
  {
   "cell_type": "code",
   "execution_count": 21,
   "outputs": [
    {
     "name": "stdout",
     "output_type": "stream",
     "text": [
      "To be or not to be. That is the question.\n",
      "String length:  41\n",
      "To b\n",
      "To be or not to be. That is the question.\n",
      "Tbon  .h  eutn\n",
      ".noitseuq eht si tahT .eb ot ton ro eb oT\n",
      "stion\n",
      "e question.\n",
      "e question.\n"
     ]
    }
   ],
   "source": [
    "hamlet = \"To be or not to be. That is the question.\"\n",
    "print(hamlet)\n",
    "print(\"String length: \", len(hamlet))\n",
    "\n",
    "#왼쪽 기준\n",
    "print(hamlet[0:4]) # it stops before 4th index\n",
    "print(hamlet[:])\n",
    "print(hamlet[::3])\n",
    "\n",
    "#오른쪽 기준\n",
    "print(hamlet[::-1])\n",
    "print(hamlet[-6:-1])\n",
    "\n",
    "#부분문자열생성\n",
    "print(hamlet[-11:])\n",
    "substring = hamlet[-11:]\n",
    "print(substring)\n"
   ],
   "metadata": {
    "collapsed": false,
    "pycharm": {
     "name": "#%%\n"
    }
   }
  },
  {
   "cell_type": "markdown",
   "source": [
    "## 문자열 처리 함수\n",
    "### strObject.functionName([idx])\n"
   ],
   "metadata": {
    "collapsed": false,
    "pycharm": {
     "name": "#%% md\n"
    }
   }
  },
  {
   "cell_type": "code",
   "execution_count": 31,
   "outputs": [
    {
     "name": "stdout",
     "output_type": "stream",
     "text": [
      "t 글자 수:  1\n",
      "Start with that:  False\n",
      "Start with this:  False\n",
      "Start with This:  True\n",
      "That is one line string\n",
      "['', 'hello', 'my name is', 'slim shady', '']\n",
      "words in the sentence:  ['This', 'is', 'one', 'line', 'string']\n",
      "This is one line string\n"
     ]
    }
   ],
   "source": [
    "oneLine = 'This is one line string'\n",
    "# return a number of character\n",
    "print('t 글자 수: ', oneLine.count('t'))\n",
    "\n",
    "# 접두어 문자 비교 판단\n",
    "print('Start with that: ', oneLine.startswith('That'))\n",
    "print('Start with this: ', oneLine.startswith('this')) #capitalizing matters\n",
    "print('Start with This: ', oneLine.startswith('This'))\n",
    "\n",
    "# 문자열 교체\n",
    "print(oneLine.replace('This', 'That'))\n",
    "\n",
    "# split (sentence to words)\n",
    "sent = multiLine.split('\\n')\n",
    "print(sent)\n",
    "\n",
    "words = oneLine.split(' ') #same as split(sept = ' ')\n",
    "print(\"words in the sentence: \", words)\n",
    "\n",
    "# string join\n",
    "sent2 = ' '.join(words) #'구분자'.join(string)\n",
    "print(sent2)\n"
   ],
   "metadata": {
    "collapsed": false,
    "pycharm": {
     "name": "#%%\n"
    }
   }
  },
  {
   "cell_type": "code",
   "execution_count": null,
   "outputs": [],
   "source": [],
   "metadata": {
    "collapsed": false,
    "pycharm": {
     "name": "#%%\n"
    }
   }
  }
 ],
 "metadata": {
  "kernelspec": {
   "display_name": "Python 3",
   "language": "python",
   "name": "python3"
  },
  "language_info": {
   "codemirror_mode": {
    "name": "ipython",
    "version": 2
   },
   "file_extension": ".py",
   "mimetype": "text/x-python",
   "name": "python",
   "nbconvert_exporter": "python",
   "pygments_lexer": "ipython2",
   "version": "2.7.6"
  }
 },
 "nbformat": 4,
 "nbformat_minor": 0
}