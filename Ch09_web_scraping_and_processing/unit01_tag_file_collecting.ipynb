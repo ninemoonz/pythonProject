{
 "cells": [
  {
   "cell_type": "markdown",
   "metadata": {
    "collapsed": true,
    "pycharm": {
     "name": "#%% md\n"
    }
   },
   "source": [
    "## Collecting data from remote server"
   ]
  },
  {
   "cell_type": "code",
   "execution_count": 7,
   "outputs": [
    {
     "name": "stdout",
     "output_type": "stream",
     "text": [
      "a tag:  <a href=\"#newsstand\"><span>뉴스스탠드 바로가기</span></a>\n",
      "a tag info:  뉴스스탠드 바로가기\n"
     ]
    }
   ],
   "source": [
    "'''\n",
    "html파싱객체.find('태그명')\n",
    "html파싱객체.find_all('태그명')\n",
    "'''\n",
    "import urllib.request # for request to remote server\n",
    "from bs4 import BeautifulSoup #for html parsing\n",
    "\n",
    "# url to request\n",
    "url = 'https://www.naver.com/index.html'\n",
    "\n",
    "# remote server file\n",
    "res = urllib.request.urlopen(url) #web document request\n",
    "data = res.read() # read in txt type\n",
    "\n",
    "# source decoding\n",
    "src = data.decode('utf-8')\n",
    "#print(src)\n",
    "\n",
    "# html parsing\n",
    "html = BeautifulSoup(src, 'html.parser') # html parsing\n",
    "#print(html)\n",
    "\n",
    "# tag info\n",
    "a = html.find('a')\n",
    "print('a tag: ', a)\n",
    "print('a tag info: ', a.string)"
   ],
   "metadata": {
    "collapsed": false,
    "pycharm": {
     "name": "#%%\n"
    }
   }
  },
  {
   "cell_type": "markdown",
   "source": [
    "## Collecting data from local"
   ],
   "metadata": {
    "collapsed": false,
    "pycharm": {
     "name": "#%% md\n"
    }
   }
  },
  {
   "cell_type": "code",
   "execution_count": 17,
   "outputs": [
    {
     "name": "stdout",
     "output_type": "stream",
     "text": [
      "h1 :  시멘틱 태\n",
      "<h1>시멘틱 태</h1>\n",
      "h2:  주요 시멘틱 태그\n",
      "li:  [<li> headr: 문서의 머리말(사이트 소개, 제목, 로그)</li>, <li> nav: 네비게이션(메뉴)</li>, <li> section: 웹 문서를 장(chapter)으로 볼 때 절을 구분하는 태그</li>, <li> aside: 문서의 보조 내용(광고, 즐겨찾기, 링크)</li>, <li> footer: 문서의 꼬리말(작성자, 저작권,개인정보보호)</li>]\n",
      " headr: 문서의 머리말(사이트 소개, 제목, 로그)\n",
      " nav: 네비게이션(메뉴)\n",
      " section: 웹 문서를 장(chapter)으로 볼 때 절을 구분하는 태그\n",
      " aside: 문서의 보조 내용(광고, 즐겨찾기, 링크)\n",
      " footer: 문서의 꼬리말(작성자, 저작권,개인정보보호)\n"
     ]
    }
   ],
   "source": [
    "file = open('/Users/followthesnake/Desktop/data/date.html', mode='r', encoding='utf-8')\n",
    "\n",
    "text = file.read()\n",
    "\n",
    "html = BeautifulSoup(text, 'html.parser')\n",
    "\n",
    "# using tag\n",
    "h1 = html.html.body.h1 # 계층 접근\n",
    "print('h1 : ', h1.string) #.string shows the data wrapped in the tag\n",
    "print(h1) # shows whole sentence include tag\n",
    "\n",
    "# find('tag') function\n",
    "h2 = html.find('h2')\n",
    "print('h2: ', h2.string)\n",
    "\n",
    "# find_all('tag')\n",
    "lis = html.find_all('li')\n",
    "print('li: ', lis) # since it's multiple tags, '.string' is not proper grammar to use\n",
    "# result come out as a list\n",
    "\n",
    "for li in lis :\n",
    "    print(li.string)"
   ],
   "metadata": {
    "collapsed": false,
    "pycharm": {
     "name": "#%%\n"
    }
   }
  },
  {
   "cell_type": "markdown",
   "source": [
    "## Collecting tag properties"
   ],
   "metadata": {
    "collapsed": false,
    "pycharm": {
     "name": "#%% md\n"
    }
   }
  },
  {
   "cell_type": "code",
   "execution_count": 21,
   "outputs": [
    {
     "name": "stdout",
     "output_type": "stream",
     "text": [
      "links size =  5\n",
      "www.naver.com\n",
      "Exception:  'target'\n",
      "http://www.naver.com\n",
      "Exception:  'target'\n",
      "http://www.naver.com\n",
      "_blank\n",
      "www.daum.net\n",
      "Exception:  'target'\n",
      "http://www.daum.net\n",
      "Exception:  'target'\n",
      "Finding property with object pattern\n",
      "[<a href=\"http://www.naver.com\">Naver</a>, <a href=\"http://www.naver.com\" target=\"_blank\">Naver in New Browser</a>, <a href=\"http://www.daum.net\">Daum</a>]\n"
     ]
    }
   ],
   "source": [
    "from bs4 import BeautifulSoup #for html parsing\n",
    "\n",
    "# (1) Reading Local File\n",
    "file = open('/Users/followthesnake/Desktop/data/tagprop.html', mode='r', encoding='utf-8')\n",
    "source = file.read()\n",
    "\n",
    "# (2) html parsing\n",
    "html = BeautifulSoup(source, 'html.parser')\n",
    "\n",
    "# (3) a tag\n",
    "links = html.find_all('a') # return list\n",
    "print('links size = ', len(links))\n",
    "\n",
    "# (4) Finding property of a tag\n",
    "for link in links:\n",
    "    try:\n",
    "        print(link.attrs['href'])\n",
    "        print(link.attrs['target'])\n",
    "    except Exception as e:\n",
    "        print('Exception: ', e)\n",
    "\n",
    "\n",
    "# (5) Finding property with Regex\n",
    "import re\n",
    "print('Finding property with object pattern')\n",
    "patt=re.compile('http://')\n",
    "links = html.find_all(href= patt)\n",
    "\n",
    "print(links)"
   ],
   "metadata": {
    "collapsed": false,
    "pycharm": {
     "name": "#%%\n"
    }
   }
  }
 ],
 "metadata": {
  "kernelspec": {
   "display_name": "Python 3",
   "language": "python",
   "name": "python3"
  },
  "language_info": {
   "codemirror_mode": {
    "name": "ipython",
    "version": 2
   },
   "file_extension": ".py",
   "mimetype": "text/x-python",
   "name": "python",
   "nbconvert_exporter": "python",
   "pygments_lexer": "ipython2",
   "version": "2.7.6"
  }
 },
 "nbformat": 4,
 "nbformat_minor": 0
}