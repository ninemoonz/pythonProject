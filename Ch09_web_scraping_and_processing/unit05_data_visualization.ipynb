{
 "cells": [
  {
   "cell_type": "code",
   "execution_count": null,
   "metadata": {
    "collapsed": true
   },
   "outputs": [],
   "source": [
    "# Data visualization using matplotlib"
   ]
  },
  {
   "cell_type": "markdown",
   "source": [
    "## word frequency visualization"
   ],
   "metadata": {
    "collapsed": false,
    "pycharm": {
     "name": "#%% md\n"
    }
   }
  },
  {
   "cell_type": "code",
   "execution_count": null,
   "outputs": [],
   "source": [
    "import numpy as np\n",
    "import pandas as pd\n",
    "import seaborn as sns\n",
    "import sklearn\n",
    "\n",
    "#시각화 패키지\n",
    "import matplotlib.pyplot as plt\n",
    "\n",
    "#시각화 할 때 한글 출력을 위한 패키지\n",
    "import platform\n",
    "from matplotlib import font_manager, rc\n",
    "\n",
    "#한글 처리\n",
    "#매킨토시 경우\n",
    "if platform.system() == 'Darwin':\n",
    "    rc('font',family='AppleGothic')\n",
    "#윈도우인 경우\n",
    "elif platform.system() == 'Windows':\n",
    "    font_name = font_manager.FontProperties(\n",
    "        fname = \"c:/Windows/Fonts/malgun.ttf\").get_name()\n",
    "    rc('font',family=font_name)"
   ],
   "metadata": {
    "collapsed": false,
    "pycharm": {
     "name": "#%%\n"
    }
   }
  },
  {
   "cell_type": "code",
   "execution_count": 1,
   "outputs": [
    {
     "name": "stdout",
     "output_type": "stream",
     "text": [
      ">>Text Pre-processing Result<<\n",
      "['쉴 곳도 쉴 시간도 없이 위협 받고 있는 콜센터 노동자들', '거리두기 완화 의견 갈려방역 부적절 경제 완화', '제주시 이도주공 ·단지 재건축 년 월 준공', '대전 미술 흐름은빛·색 탐구 이동훈 미술상 작가전 등 열려', '통일부 北해금강호텔 해체 여부에 신중단정 일러', '차명진 이재명 친형 입원 발언 배상에 뒤늦은 재심청구 패소', '정부 유행 급증 상황 감안해 사적인원만 인으로 완화', '푸틴 우크라이나에 체면 치레 수준 요구 받아들이기 어렵지 않을 듯 -', '인도계 이민의 아들 미국 코로나 차르 오르다', '농어민 단체 가입 무리하게 추진불통행정 규탄', '수십만명 대유행인데 왜 사적모임 명까지 늘렸나[]', '윤당선인 언급한 소통의 공간 용산공원 가능할까', '에너지소비 년까지 년간 연평균 ↑산자부 에너지총조사 발표', '편리함의 대가 폐기물 더미쓰레기 줄여야겠죠', '용인시 전역 항공사진·처인구 수치지형도 일반에 공개', '모두가 외면했던 기지촌 여성들의 곁에 서다 두레방 창립자 문혜림[플랫]', '지금은 때가 아냐 철회·연기 줄이어', '숙종 붕당정치를 죽임의 정치로 바꾸다', '우크라 전쟁에 세계 경제성장률 포인트↓', '미국 왜 가미카제 드론을 우크라에 보냈을까', '[김민철의 꽃이야기] 매향·서향 하동 쌍계사에 가득한 봄꽃 향기', '[애니청원] 방치되는 온라인 동물학대 문제 공감 법 개정은 더 고민해야', '모두가 외면했던 기지촌 여성들의 곁에 서다 두레방 창립자 문혜림[플랫]', '숙종 붕당정치를 죽임의 정치로 바꾸다', '오버슈팅 끝났나원·달러 환율 원선으로 급락 [김익환의 외환·금융 워치]', '[출발] 임태희 尹 지금은 집무실 보다 민생이 먼저우선순위 점검 필요해', '신범식 푸틴이 미쳤다 노 치밀한 외교전략 있다', '사진 한 장에 담긴 전쟁의 참상러 미사일에 엄마 잃은 아들', '대통령직 인수위 현판 제막하는 윤석열 당선인', '겨울 같았던 초봄이 지났다', '살 소년 불법운전으로 명 사망 미 텍사스 차량충돌 현장', '제 대 대통령 인수위 정식 출범']\n",
      ">>word count<<\n",
      "{'쉴': 2, '곳도': 1, '시간도': 1, '없이': 1, '위협': 1, '받고': 1, '있는': 1, '콜센터': 1, '노동자들': 1, '거리두기': 1, '완화': 3, '의견': 1, '갈려방역': 1, '부적절': 1, '경제': 1, '제주시': 1, '이도주공': 1, '·단지': 1, '재건축': 1, '년': 1, '월': 1, '준공': 1, '대전': 1, '미술': 1, '흐름은빛·색': 1, '탐구': 1, '이동훈': 1, '미술상': 1, '작가전': 1, '등': 1, '열려': 1, '통일부': 1, '北해금강호텔': 1, '해체': 1, '여부에': 1, '신중단정': 1, '일러': 1, '차명진': 1, '이재명': 1, '친형': 1, '입원': 1, '발언': 1, '배상에': 1, '뒤늦은': 1, '재심청구': 1, '패소': 1, '정부': 1, '유행': 1, '급증': 1, '상황': 1, '감안해': 1, '사적인원만': 1, '인으로': 1, '푸틴': 1, '우크라이나에': 1, '체면': 1, '치레': 1, '수준': 1, '요구': 1, '받아들이기': 1, '어렵지': 1, '않을': 1, '듯': 1, '-': 1, '인도계': 1, '이민의': 1, '아들': 2, '미국': 2, '코로나': 1, '차르': 1, '오르다': 1, '농어민': 1, '단체': 1, '가입': 1, '무리하게': 1, '추진불통행정': 1, '규탄': 1, '수십만명': 1, '대유행인데': 1, '왜': 2, '사적모임': 1, '명까지': 1, '늘렸나[]': 1, '윤당선인': 1, '언급한': 1, '소통의': 1, '공간': 1, '용산공원': 1, '가능할까': 1, '에너지소비': 1, '년까지': 1, '년간': 1, '연평균': 1, '↑산자부': 1, '에너지총조사': 1, '발표': 1, '편리함의': 1, '대가': 1, '폐기물': 1, '더미쓰레기': 1, '줄여야겠죠': 1, '용인시': 1, '전역': 1, '항공사진·처인구': 1, '수치지형도': 1, '일반에': 1, '공개': 1, '모두가': 2, '외면했던': 2, '기지촌': 2, '여성들의': 2, '곁에': 2, '서다': 2, '두레방': 2, '창립자': 2, '문혜림[플랫]': 2, '지금은': 2, '때가': 1, '아냐': 1, '철회·연기': 1, '줄이어': 1, '숙종': 2, '붕당정치를': 2, '죽임의': 2, '정치로': 2, '바꾸다': 2, '우크라': 1, '전쟁에': 1, '세계': 1, '경제성장률': 1, '포인트↓': 1, '가미카제': 1, '드론을': 1, '우크라에': 1, '보냈을까': 1, '[김민철의': 1, '꽃이야기]': 1, '매향·서향': 1, '하동': 1, '쌍계사에': 1, '가득한': 1, '봄꽃': 1, '향기': 1, '[애니청원]': 1, '방치되는': 1, '온라인': 1, '동물학대': 1, '문제': 1, '공감': 1, '법': 1, '개정은': 1, '더': 1, '고민해야': 1, '오버슈팅': 1, '끝났나원·달러': 1, '환율': 1, '원선으로': 1, '급락': 1, '[김익환의': 1, '외환·금융': 1, '워치]': 1, '[출발]': 1, '임태희': 1, '尹': 1, '집무실': 1, '보다': 1, '민생이': 1, '먼저우선순위': 1, '점검': 1, '필요해': 1, '신범식': 1, '푸틴이': 1, '미쳤다': 1, '노': 1, '치밀한': 1, '외교전략': 1, '있다': 1, '사진': 1, '한': 1, '장에': 1, '담긴': 1, '전쟁의': 1, '참상러': 1, '미사일에': 1, '엄마': 1, '잃은': 1, '대통령직': 1, '인수위': 2, '현판': 1, '제막하는': 1, '윤석열': 1, '당선인': 1, '겨울': 1, '같았던': 1, '초봄이': 1, '지났다': 1, '살': 1, '소년': 1, '불법운전으로': 1, '명': 1, '사망': 1, '미': 1, '텍사스': 1, '차량충돌': 1, '현장': 1, '제': 1, '대': 1, '대통령': 1, '정식': 1, '출범': 1}\n",
      "완화 --> 3\n",
      ">>word pre-processing<<\n",
      "{'완화': 3}\n",
      ">>Most Frequently Mentioned Words<<\n",
      "[('완화', 3)]\n"
     ]
    }
   ],
   "source": [
    "# topic analysis\n",
    "# word cloud\n",
    "\n",
    "import pickle\n",
    "\n",
    "# pickle file load\n",
    "file = open('/Users/followthesnake/Desktop/data/data.pickle', mode='rb')\n",
    "news_data2 = pickle.load(file)\n",
    "\n",
    "# text pre-processing\n",
    "import re\n",
    "def clean_txt(text_string):\n",
    "\n",
    "    text_string_re = re.sub('[,.?!:\\'\\\";]', '', text_string)\n",
    "    text_string_re = re.sub('[!@#$%^&*()]|[0-9]', '', text_string_re)\n",
    "    text_string_re = text_string_re.lower()\n",
    "    text_string_re = re.sub('[a-z]', '', text_string_re)\n",
    "    text_string_re = ' '.join(text_string_re.split())\n",
    "\n",
    "    return text_string_re\n",
    "\n",
    "clean_txts = [clean_txt(row) for row in news_data2]\n",
    "print('>>Text Pre-processing Result<<')\n",
    "print(clean_txts)\n",
    "\n",
    "# word count\n",
    "word_count = {}\n",
    "\n",
    "for text in clean_txts:\n",
    "    for word in text.split():\n",
    "        word_count[word] = word_count.get(word, 0) + 1\n",
    "\n",
    "print('>>word count<<')\n",
    "print(word_count)\n",
    "\n",
    "# word pre-processing\n",
    "# 불용 단어 제거\n",
    "#del word_count['에']\n",
    "\n",
    "# 3회 이상 출현 단어 & 2-4 단어 선정\n",
    "new_word_count = {}\n",
    "for word, cnt in word_count.items():\n",
    "    if cnt >= 3 and len(word) >=2 and len(word) <=3:\n",
    "        print(word, '-->', word_count[word])\n",
    "        new_word_count[word] = new_word_count.get(word, cnt)\n",
    "\n",
    "print('>>word pre-processing<<')\n",
    "print(new_word_count)\n",
    "\n",
    "# Top word counter\n",
    "from collections import Counter\n",
    "\n",
    "counter = Counter(new_word_count)\n",
    "top5_words = counter.most_common(5)\n",
    "print('>>Most Frequently Mentioned Words<<')\n",
    "print(top5_words)"
   ],
   "metadata": {
    "collapsed": false,
    "pycharm": {
     "name": "#%%\n"
    }
   }
  },
  {
   "cell_type": "code",
   "execution_count": 7,
   "outputs": [
    {
     "name": "stdout",
     "output_type": "stream",
     "text": [
      "['완화']\n",
      "[3]\n",
      "Line Graph\n"
     ]
    },
    {
     "data": {
      "text/plain": "<Figure size 432x288 with 1 Axes>",
      "image/png": "[encoded data removed]"
     },
     "metadata": {
      "needs_background": "light"
     },
     "output_type": "display_data"
    },
    {
     "name": "stdout",
     "output_type": "stream",
     "text": [
      "Stick Graph\n"
     ]
    },
    {
     "data": {
      "text/plain": "<Figure size 432x288 with 1 Axes>",
      "image/png": "[encoded data removed]"
     },
     "metadata": {
      "needs_background": "light"
     },
     "output_type": "display_data"
    }
   ],
   "source": [
    "words = []\n",
    "counts = []\n",
    "\n",
    "for word, count in top5_words :\n",
    "    words.append(word)\n",
    "    counts.append(count)\n",
    "print(words)\n",
    "print(counts)\n",
    "\n",
    "import matplotlib.pyplot as plt\n",
    "\n",
    "print('Line Graph')\n",
    "plt.plot(words, counts)\n",
    "plt.show()\n",
    "\n",
    "print('Stick Graph')\n",
    "plt.bar(words, counts)\n",
    "plt.show()"
   ],
   "metadata": {
    "collapsed": false,
    "pycharm": {
     "name": "#%%\n"
    }
   }
  },
  {
   "cell_type": "markdown",
   "source": [
    "## Drawing Basic Charts"
   ],
   "metadata": {
    "collapsed": false,
    "pycharm": {
     "name": "#%% md\n"
    }
   }
  },
  {
   "cell_type": "code",
   "execution_count": 24,
   "outputs": [
    {
     "name": "stdout",
     "output_type": "stream",
     "text": [
      "2\n",
      "0.5893181162407923\n",
      "0.4278588555331071\n"
     ]
    }
   ],
   "source": [
    "import matplotlib.pyplot as plt # creating chart\n",
    "import random # chart data\n",
    "# negative values\n",
    "import matplotlib\n",
    "matplotlib.rcParams['axes.unicode_minus'] = False\n",
    "\n",
    "# creating chart file\n",
    "print(random.randint(a=1, b=5)) # random numbers between 1~5\n",
    "print(random.random()) # random number between 0~1\n",
    "print(random.normalvariate(mu=0, sigma=1)) #average=0, standard dev = 1"
   ],
   "metadata": {
    "collapsed": false,
    "pycharm": {
     "name": "#%%\n"
    }
   }
  },
  {
   "cell_type": "code",
   "execution_count": 25,
   "outputs": [
    {
     "name": "stdout",
     "output_type": "stream",
     "text": [
      "Help on function plot in module matplotlib.pyplot:\n",
      "\n",
      "plot(*args, scalex=True, scaley=True, data=None, **kwargs)\n",
      "    Plot y versus x as lines and/or markers.\n",
      "    \n",
      "    Call signatures::\n",
      "    \n",
      "        plot([x], y, [fmt], *, data=None, **kwargs)\n",
      "        plot([x], y, [fmt], [x2], y2, [fmt2], ..., **kwargs)\n",
      "    \n",
      "    The coordinates of the points or line nodes are given by *x*, *y*.\n",
      "    \n",
      "    The optional parameter *fmt* is a convenient way for defining basic\n",
      "    formatting like color, marker and linestyle. It's a shortcut string\n",
      "    notation described in the *Notes* section below.\n",
      "    \n",
      "    >>> plot(x, y)        # plot x and y using default line style and color\n",
      "    >>> plot(x, y, 'bo')  # plot x and y using blue circle markers\n",
      "    >>> plot(y)           # plot y using x as index array 0..N-1\n",
      "    >>> plot(y, 'r+')     # ditto, but with red plusses\n",
      "    \n",
      "    You can use `.Line2D` properties as keyword arguments for more\n",
      "    control on the appearance. Line properties and *fmt* can be mixed.\n",
      "    The following two calls yield identical results:\n",
      "    \n",
      "    >>> plot(x, y, 'go--', linewidth=2, markersize=12)\n",
      "    >>> plot(x, y, color='green', marker='o', linestyle='dashed',\n",
      "    ...      linewidth=2, markersize=12)\n",
      "    \n",
      "    When conflicting with *fmt*, keyword arguments take precedence.\n",
      "    \n",
      "    \n",
      "    **Plotting labelled data**\n",
      "    \n",
      "    There's a convenient way for plotting objects with labelled data (i.e.\n",
      "    data that can be accessed by index ``obj['y']``). Instead of giving\n",
      "    the data in *x* and *y*, you can provide the object in the *data*\n",
      "    parameter and just give the labels for *x* and *y*::\n",
      "    \n",
      "    >>> plot('xlabel', 'ylabel', data=obj)\n",
      "    \n",
      "    All indexable objects are supported. This could e.g. be a `dict`, a\n",
      "    `pandas.DataFrame` or a structured numpy array.\n",
      "    \n",
      "    \n",
      "    **Plotting multiple sets of data**\n",
      "    \n",
      "    There are various ways to plot multiple sets of data.\n",
      "    \n",
      "    - The most straight forward way is just to call `plot` multiple times.\n",
      "      Example:\n",
      "    \n",
      "      >>> plot(x1, y1, 'bo')\n",
      "      >>> plot(x2, y2, 'go')\n",
      "    \n",
      "    - If *x* and/or *y* are 2D arrays a separate data set will be drawn\n",
      "      for every column. If both *x* and *y* are 2D, they must have the\n",
      "      same shape. If only one of them is 2D with shape (N, m) the other\n",
      "      must have length N and will be used for every data set m.\n",
      "    \n",
      "      Example:\n",
      "    \n",
      "      >>> x = [1, 2, 3]\n",
      "      >>> y = np.array([[1, 2], [3, 4], [5, 6]])\n",
      "      >>> plot(x, y)\n",
      "    \n",
      "      is equivalent to:\n",
      "    \n",
      "      >>> for col in range(y.shape[1]):\n",
      "      ...     plot(x, y[:, col])\n",
      "    \n",
      "    - The third way is to specify multiple sets of *[x]*, *y*, *[fmt]*\n",
      "      groups::\n",
      "    \n",
      "      >>> plot(x1, y1, 'g^', x2, y2, 'g-')\n",
      "    \n",
      "      In this case, any additional keyword argument applies to all\n",
      "      datasets. Also this syntax cannot be combined with the *data*\n",
      "      parameter.\n",
      "    \n",
      "    By default, each line is assigned a different style specified by a\n",
      "    'style cycle'. The *fmt* and line property parameters are only\n",
      "    necessary if you want explicit deviations from these defaults.\n",
      "    Alternatively, you can also change the style cycle using\n",
      "    :rc:`axes.prop_cycle`.\n",
      "    \n",
      "    \n",
      "    Parameters\n",
      "    ----------\n",
      "    x, y : array-like or scalar\n",
      "        The horizontal / vertical coordinates of the data points.\n",
      "        *x* values are optional and default to ``range(len(y))``.\n",
      "    \n",
      "        Commonly, these parameters are 1D arrays.\n",
      "    \n",
      "        They can also be scalars, or two-dimensional (in that case, the\n",
      "        columns represent separate data sets).\n",
      "    \n",
      "        These arguments cannot be passed as keywords.\n",
      "    \n",
      "    fmt : str, optional\n",
      "        A format string, e.g. 'ro' for red circles. See the *Notes*\n",
      "        section for a full description of the format strings.\n",
      "    \n",
      "        Format strings are just an abbreviation for quickly setting\n",
      "        basic line properties. All of these and more can also be\n",
      "        controlled by keyword arguments.\n",
      "    \n",
      "        This argument cannot be passed as keyword.\n",
      "    \n",
      "    data : indexable object, optional\n",
      "        An object with labelled data. If given, provide the label names to\n",
      "        plot in *x* and *y*.\n",
      "    \n",
      "        .. note::\n",
      "            Technically there's a slight ambiguity in calls where the\n",
      "            second label is a valid *fmt*. ``plot('n', 'o', data=obj)``\n",
      "            could be ``plt(x, y)`` or ``plt(y, fmt)``. In such cases,\n",
      "            the former interpretation is chosen, but a warning is issued.\n",
      "            You may suppress the warning by adding an empty format string\n",
      "            ``plot('n', 'o', '', data=obj)``.\n",
      "    \n",
      "    Returns\n",
      "    -------\n",
      "    list of `.Line2D`\n",
      "        A list of lines representing the plotted data.\n",
      "    \n",
      "    Other Parameters\n",
      "    ----------------\n",
      "    scalex, scaley : bool, default: True\n",
      "        These parameters determine if the view limits are adapted to the\n",
      "        data limits. The values are passed on to `autoscale_view`.\n",
      "    \n",
      "    **kwargs : `.Line2D` properties, optional\n",
      "        *kwargs* are used to specify properties like a line label (for\n",
      "        auto legends), linewidth, antialiasing, marker face color.\n",
      "        Example::\n",
      "    \n",
      "        >>> plot([1, 2, 3], [1, 2, 3], 'go-', label='line 1', linewidth=2)\n",
      "        >>> plot([1, 2, 3], [1, 4, 9], 'rs', label='line 2')\n",
      "    \n",
      "        If you specify multiple lines with one plot call, the kwargs apply\n",
      "        to all those lines. In case the label object is iterable, each\n",
      "        element is used as labels for each set of data.\n",
      "    \n",
      "        Here is a list of available `.Line2D` properties:\n",
      "    \n",
      "        Properties:\n",
      "        agg_filter: a filter function, which takes a (m, n, 3) float array and a dpi value, and returns a (m, n, 3) array\n",
      "        alpha: scalar or None\n",
      "        animated: bool\n",
      "        antialiased or aa: bool\n",
      "        clip_box: `.Bbox`\n",
      "        clip_on: bool\n",
      "        clip_path: Patch or (Path, Transform) or None\n",
      "        color or c: color\n",
      "        contains: unknown\n",
      "        dash_capstyle: `.CapStyle` or {'butt', 'projecting', 'round'}\n",
      "        dash_joinstyle: `.JoinStyle` or {'miter', 'round', 'bevel'}\n",
      "        dashes: sequence of floats (on/off ink in points) or (None, None)\n",
      "        data: (2, N) array or two 1D arrays\n",
      "        drawstyle or ds: {'default', 'steps', 'steps-pre', 'steps-mid', 'steps-post'}, default: 'default'\n",
      "        figure: `.Figure`\n",
      "        fillstyle: {'full', 'left', 'right', 'bottom', 'top', 'none'}\n",
      "        gid: str\n",
      "        in_layout: bool\n",
      "        label: object\n",
      "        linestyle or ls: {'-', '--', '-.', ':', '', (offset, on-off-seq), ...}\n",
      "        linewidth or lw: float\n",
      "        marker: marker style string, `~.path.Path` or `~.markers.MarkerStyle`\n",
      "        markeredgecolor or mec: color\n",
      "        markeredgewidth or mew: float\n",
      "        markerfacecolor or mfc: color\n",
      "        markerfacecoloralt or mfcalt: color\n",
      "        markersize or ms: float\n",
      "        markevery: None or int or (int, int) or slice or list[int] or float or (float, float) or list[bool]\n",
      "        path_effects: `.AbstractPathEffect`\n",
      "        picker: float or callable[[Artist, Event], tuple[bool, dict]]\n",
      "        pickradius: float\n",
      "        rasterized: bool\n",
      "        sketch_params: (scale: float, length: float, randomness: float)\n",
      "        snap: bool or None\n",
      "        solid_capstyle: `.CapStyle` or {'butt', 'projecting', 'round'}\n",
      "        solid_joinstyle: `.JoinStyle` or {'miter', 'round', 'bevel'}\n",
      "        transform: `matplotlib.transforms.Transform`\n",
      "        url: str\n",
      "        visible: bool\n",
      "        xdata: 1D array\n",
      "        ydata: 1D array\n",
      "        zorder: float\n",
      "    \n",
      "    See Also\n",
      "    --------\n",
      "    scatter : XY scatter plot with markers of varying size and/or color (\n",
      "        sometimes also called bubble chart).\n",
      "    \n",
      "    Notes\n",
      "    -----\n",
      "    **Format Strings**\n",
      "    \n",
      "    A format string consists of a part for color, marker and line::\n",
      "    \n",
      "        fmt = '[marker][line][color]'\n",
      "    \n",
      "    Each of them is optional. If not provided, the value from the style\n",
      "    cycle is used. Exception: If ``line`` is given, but no ``marker``,\n",
      "    the data will be a line without markers.\n",
      "    \n",
      "    Other combinations such as ``[color][marker][line]`` are also\n",
      "    supported, but note that their parsing may be ambiguous.\n",
      "    \n",
      "    **Markers**\n",
      "    \n",
      "    =============   ===============================\n",
      "    character       description\n",
      "    =============   ===============================\n",
      "    ``'.'``         point marker\n",
      "    ``','``         pixel marker\n",
      "    ``'o'``         circle marker\n",
      "    ``'v'``         triangle_down marker\n",
      "    ``'^'``         triangle_up marker\n",
      "    ``'<'``         triangle_left marker\n",
      "    ``'>'``         triangle_right marker\n",
      "    ``'1'``         tri_down marker\n",
      "    ``'2'``         tri_up marker\n",
      "    ``'3'``         tri_left marker\n",
      "    ``'4'``         tri_right marker\n",
      "    ``'8'``         octagon marker\n",
      "    ``'s'``         square marker\n",
      "    ``'p'``         pentagon marker\n",
      "    ``'P'``         plus (filled) marker\n",
      "    ``'*'``         star marker\n",
      "    ``'h'``         hexagon1 marker\n",
      "    ``'H'``         hexagon2 marker\n",
      "    ``'+'``         plus marker\n",
      "    ``'x'``         x marker\n",
      "    ``'X'``         x (filled) marker\n",
      "    ``'D'``         diamond marker\n",
      "    ``'d'``         thin_diamond marker\n",
      "    ``'|'``         vline marker\n",
      "    ``'_'``         hline marker\n",
      "    =============   ===============================\n",
      "    \n",
      "    **Line Styles**\n",
      "    \n",
      "    =============    ===============================\n",
      "    character        description\n",
      "    =============    ===============================\n",
      "    ``'-'``          solid line style\n",
      "    ``'--'``         dashed line style\n",
      "    ``'-.'``         dash-dot line style\n",
      "    ``':'``          dotted line style\n",
      "    =============    ===============================\n",
      "    \n",
      "    Example format strings::\n",
      "    \n",
      "        'b'    # blue markers with default shape\n",
      "        'or'   # red circles\n",
      "        '-g'   # green solid line\n",
      "        '--'   # dashed line with default color\n",
      "        '^k:'  # black triangle_up markers connected by a dotted line\n",
      "    \n",
      "    **Colors**\n",
      "    \n",
      "    The supported color abbreviations are the single letter codes\n",
      "    \n",
      "    =============    ===============================\n",
      "    character        color\n",
      "    =============    ===============================\n",
      "    ``'b'``          blue\n",
      "    ``'g'``          green\n",
      "    ``'r'``          red\n",
      "    ``'c'``          cyan\n",
      "    ``'m'``          magenta\n",
      "    ``'y'``          yellow\n",
      "    ``'k'``          black\n",
      "    ``'w'``          white\n",
      "    =============    ===============================\n",
      "    \n",
      "    and the ``'CN'`` colors that index into the default property cycle.\n",
      "    \n",
      "    If the color is the only part of the format string, you can\n",
      "    additionally use any  `matplotlib.colors` spec, e.g. full names\n",
      "    (``'green'``) or hex strings (``'#008000'``).\n",
      "\n"
     ]
    }
   ],
   "source": [
    "# plot() function\n",
    "help(plt.plot)"
   ],
   "metadata": {
    "collapsed": false,
    "pycharm": {
     "name": "#%%\n"
    }
   }
  },
  {
   "cell_type": "code",
   "execution_count": 31,
   "outputs": [
    {
     "data": {
      "text/plain": "[<matplotlib.lines.Line2D at 0x7f9e8093a730>]"
     },
     "execution_count": 31,
     "metadata": {},
     "output_type": "execute_result"
    },
    {
     "data": {
      "text/plain": "<Figure size 432x288 with 1 Axes>",
      "image/png": "[encoded data removed]"
     },
     "metadata": {
      "needs_background": "light"
     },
     "output_type": "display_data"
    }
   ],
   "source": [
    "# chart with only 1 data\n",
    "data = range(10)\n",
    "plt.plot(data) #plot(y), x : index\n",
    "plt.plot(data, 'r+') #red cross marks"
   ],
   "metadata": {
    "collapsed": false,
    "pycharm": {
     "name": "#%%\n"
    }
   }
  },
  {
   "cell_type": "code",
   "execution_count": 32,
   "outputs": [
    {
     "data": {
      "text/plain": "[<matplotlib.lines.Line2D at 0x7f9ea2c72220>]"
     },
     "execution_count": 32,
     "metadata": {},
     "output_type": "execute_result"
    },
    {
     "data": {
      "text/plain": "<Figure size 432x288 with 1 Axes>",
      "image/png": "[encoded data removed]"
     },
     "metadata": {
      "needs_background": "light"
     },
     "output_type": "display_data"
    }
   ],
   "source": [
    "# chart with two data\n",
    "data2 = [random.random() for i in range(10)]\n",
    "plt.plot(data, data2) #blue lines\n",
    "plt.plot(data, data2, 'ro') #red dots"
   ],
   "metadata": {
    "collapsed": false,
    "pycharm": {
     "name": "#%%\n"
    }
   }
  },
  {
   "cell_type": "markdown",
   "source": [
    "## scatter plot and histogram"
   ],
   "metadata": {
    "collapsed": false,
    "pycharm": {
     "name": "#%% md\n"
    }
   }
  },
  {
   "cell_type": "code",
   "execution_count": 33,
   "outputs": [
    {
     "data": {
      "text/plain": "<matplotlib.collections.PathCollection at 0x7f9e80a50e80>"
     },
     "execution_count": 33,
     "metadata": {},
     "output_type": "execute_result"
    },
    {
     "data": {
      "text/plain": "<Figure size 432x288 with 1 Axes>",
      "image/png": "[encoded data removed]"
     },
     "metadata": {
      "needs_background": "light"
     },
     "output_type": "display_data"
    }
   ],
   "source": [
    "plt.scatter(x=data, y=data2, c='b', marker='o') # c= the color of the circle, marker= the effect of the circle"
   ],
   "metadata": {
    "collapsed": false,
    "pycharm": {
     "name": "#%%\n"
    }
   }
  },
  {
   "cell_type": "code",
   "execution_count": 35,
   "outputs": [
    {
     "data": {
      "text/plain": "<matplotlib.collections.PathCollection at 0x7f9eb033c490>"
     },
     "execution_count": 35,
     "metadata": {},
     "output_type": "execute_result"
    },
    {
     "data": {
      "text/plain": "<Figure size 432x288 with 1 Axes>",
      "image/png": "[encoded data removed]"
     },
     "metadata": {
      "needs_background": "light"
     },
     "output_type": "display_data"
    }
   ],
   "source": [
    "cdata = [random.randint(a=1, b=3) for i in range(10)]\n",
    "cdata = [3, 2, 2, 1, 3, 4, 2, 2, 1, 5]\n",
    "plt.scatter(x=data, y=data2, c=cdata, marker='o')"
   ],
   "metadata": {
    "collapsed": false,
    "pycharm": {
     "name": "#%%\n"
    }
   }
  },
  {
   "cell_type": "code",
   "execution_count": 37,
   "outputs": [
    {
     "data": {
      "text/plain": "(array([  2.,  11.,  64., 166., 252., 280., 140.,  69.,  13.,   3.]),\n array([-3.46552018, -2.78116955, -2.09681893, -1.4124683 , -0.72811767,\n        -0.04376705,  0.64058358,  1.3249342 ,  2.00928483,  2.69363546,\n         3.37798608]),\n <BarContainer object of 10 artists>)"
     },
     "execution_count": 37,
     "metadata": {},
     "output_type": "execute_result"
    },
    {
     "data": {
      "text/plain": "<Figure size 432x288 with 1 Axes>",
      "image/png": "[encoded data removed]"
     },
     "metadata": {
      "needs_background": "light"
     },
     "output_type": "display_data"
    }
   ],
   "source": [
    "#histogram\n",
    "data3 = [random.normalvariate(mu=0, sigma=1) for i in range(1000)]\n",
    "plt.hist(data3)"
   ],
   "metadata": {
    "collapsed": false,
    "pycharm": {
     "name": "#%%\n"
    }
   }
  },
  {
   "cell_type": "code",
   "execution_count": 38,
   "outputs": [
    {
     "data": {
      "text/plain": "(array([ 84., 110., 118.,  89.,  92., 107., 107.,  79., 111., 103.]),\n array([ 1.10096   , 10.97792304, 20.85488607, 30.73184911, 40.60881214,\n        50.48577518, 60.36273821, 70.23970125, 80.11666429, 89.99362732,\n        99.87059036]),\n <BarContainer object of 10 artists>)"
     },
     "execution_count": 38,
     "metadata": {},
     "output_type": "execute_result"
    },
    {
     "data": {
      "text/plain": "<Figure size 432x288 with 1 Axes>",
      "image/png": "[encoded data removed]"
     },
     "metadata": {
      "needs_background": "light"
     },
     "output_type": "display_data"
    }
   ],
   "source": [
    "data4 = [random.uniform(a=1, b=100) for i in range(1000)]\n",
    "plt.hist(data4)"
   ],
   "metadata": {
    "collapsed": false,
    "pycharm": {
     "name": "#%%\n"
    }
   }
  },
  {
   "cell_type": "code",
   "execution_count": null,
   "outputs": [],
   "source": [],
   "metadata": {
    "collapsed": false,
    "pycharm": {
     "name": "#%%\n"
    }
   }
  }
 ],
 "metadata": {
  "kernelspec": {
   "display_name": "Python 3",
   "language": "python",
   "name": "python3"
  },
  "language_info": {
   "codemirror_mode": {
    "name": "ipython",
    "version": 2
   },
   "file_extension": ".py",
   "mimetype": "text/x-python",
   "name": "python",
   "nbconvert_exporter": "python",
   "pygments_lexer": "ipython2",
   "version": "2.7.6"
  }
 },
 "nbformat": 4,
 "nbformat_minor": 0
}