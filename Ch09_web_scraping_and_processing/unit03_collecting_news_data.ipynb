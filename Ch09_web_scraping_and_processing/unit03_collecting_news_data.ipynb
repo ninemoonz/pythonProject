{
 "cells": [
  {
   "cell_type": "code",
   "execution_count": 7,
   "metadata": {
    "collapsed": true
   },
   "outputs": [
    {
     "name": "stdout",
     "output_type": "stream",
     "text": [
      "Number of a tags:  32\n",
      "Collected data:\n",
      "[\"쉴 곳도, 쉴 시간도 없이.. '위협' 받고 있는 콜센터 노동자들\", '거리두기 완화 의견 갈려..방역 \"부적절\" vs 경제 \"완화\"', '제주시 이도주공 2·3단지 재건축 2025년 12월 준공', \"대전 미술 흐름은..'빛·색 탐구' 이동훈 미술상 작가전 등 열려\", '통일부, 北해금강호텔 해체 여부에 신중..\"단정 일러\"', \"차명진, '이재명 친형 입원 발언 배상'에 뒤늦은 재심청구 패소\", '정부 \"유행 급증 상황 감안해 사적인원만 8인으로 완화\"', '\"푸틴, 우크라이나에 \\'체면 치레\\' 수준 요구 .. 받아들이기 어렵지 않을 듯\" - BBC', \"인도계 이민의 아들, 미국 '코로나 차르' 오르다\", '농어민 단체 \"CPTPP 가입 무리하게 추진..불통행정 규탄\"', '수십만명 대유행인데 왜 사적모임 8명까지 늘렸나?[Q&A]', \"윤당선인 언급한 소통의 공간 '용산공원' 가능할까\", '에너지소비, 2019년까지 3년간 연평균 1.7%↑..산자부, 에너지총조사 발표', '\\'편리함의 대가\\' 폐기물 더미..\"쓰레기 줄여야겠죠\"', '용인시 전역 항공사진·처인구 수치지형도 일반에 공개', '모두가 외면했던 기지촌 여성들의 곁에 서다, 두레방 창립자 문혜림[플랫]', '\"지금은 때가 아냐\"..IPO 철회·연기 줄이어', \"숙종, 붕당정치를 '죽임의 정치'로 바꾸다\", 'OECD \"우크라 전쟁에 세계 경제성장률 1%포인트↓\"', \"미국, 왜 '가미카제' 드론을 우크라에 보냈을까\", '[김민철의 꽃이야기] 매향·서향, 하동 쌍계사에 가득한 봄꽃 향기', '[애니청원] 방치되는 온라인 동물학대 문제 공감.. 법 개정은 더 고민해야', '모두가 외면했던 기지촌 여성들의 곁에 서다, 두레방 창립자 문혜림[플랫]', \"숙종, 붕당정치를 '죽임의 정치'로 바꾸다\", '오버슈팅 끝났나..원·달러 환율 1200원선으로 급락 [김익환의 외환·금융 워치]', '[출발] 임태희 \"尹 지금은 \\'집무실\\' 보다 \\'민생\\'이 먼저..우선순위 점검 필요해\"', '신범식 \"푸틴이 미쳤다? 노! 치밀한 외교전략 있다\"', '사진 한 장에 담긴 전쟁의 참상..러 미사일에 엄마 잃은 아들', \"대통령직 '인수위 현판 제막'하는 윤석열 당선인\", '겨울 같았던 초봄이 지났다', \"13살 소년 불법운전으로 '9명 사망' 미 텍사스 차량충돌 현장\", '제 20대 대통령 인수위 정식 출범']\n",
      ">>pickle load<<\n",
      "[\"쉴 곳도, 쉴 시간도 없이.. '위협' 받고 있는 콜센터 노동자들\", '거리두기 완화 의견 갈려..방역 \"부적절\" vs 경제 \"완화\"', '제주시 이도주공 2·3단지 재건축 2025년 12월 준공', \"대전 미술 흐름은..'빛·색 탐구' 이동훈 미술상 작가전 등 열려\", '통일부, 北해금강호텔 해체 여부에 신중..\"단정 일러\"', \"차명진, '이재명 친형 입원 발언 배상'에 뒤늦은 재심청구 패소\", '정부 \"유행 급증 상황 감안해 사적인원만 8인으로 완화\"', '\"푸틴, 우크라이나에 \\'체면 치레\\' 수준 요구 .. 받아들이기 어렵지 않을 듯\" - BBC', \"인도계 이민의 아들, 미국 '코로나 차르' 오르다\", '농어민 단체 \"CPTPP 가입 무리하게 추진..불통행정 규탄\"', '수십만명 대유행인데 왜 사적모임 8명까지 늘렸나?[Q&A]', \"윤당선인 언급한 소통의 공간 '용산공원' 가능할까\", '에너지소비, 2019년까지 3년간 연평균 1.7%↑..산자부, 에너지총조사 발표', '\\'편리함의 대가\\' 폐기물 더미..\"쓰레기 줄여야겠죠\"', '용인시 전역 항공사진·처인구 수치지형도 일반에 공개', '모두가 외면했던 기지촌 여성들의 곁에 서다, 두레방 창립자 문혜림[플랫]', '\"지금은 때가 아냐\"..IPO 철회·연기 줄이어', \"숙종, 붕당정치를 '죽임의 정치'로 바꾸다\", 'OECD \"우크라 전쟁에 세계 경제성장률 1%포인트↓\"', \"미국, 왜 '가미카제' 드론을 우크라에 보냈을까\", '[김민철의 꽃이야기] 매향·서향, 하동 쌍계사에 가득한 봄꽃 향기', '[애니청원] 방치되는 온라인 동물학대 문제 공감.. 법 개정은 더 고민해야', '모두가 외면했던 기지촌 여성들의 곁에 서다, 두레방 창립자 문혜림[플랫]', \"숙종, 붕당정치를 '죽임의 정치'로 바꾸다\", '오버슈팅 끝났나..원·달러 환율 1200원선으로 급락 [김익환의 외환·금융 워치]', '[출발] 임태희 \"尹 지금은 \\'집무실\\' 보다 \\'민생\\'이 먼저..우선순위 점검 필요해\"', '신범식 \"푸틴이 미쳤다? 노! 치밀한 외교전략 있다\"', '사진 한 장에 담긴 전쟁의 참상..러 미사일에 엄마 잃은 아들', \"대통령직 '인수위 현판 제막'하는 윤석열 당선인\", '겨울 같았던 초봄이 지났다', \"13살 소년 불법운전으로 '9명 사망' 미 텍사스 차량충돌 현장\", '제 20대 대통령 인수위 정식 출범']\n"
     ]
    }
   ],
   "source": [
    "# 1. collecting news articles from a portal site\n",
    "# 2. storing the news article data as binary files\n",
    "\n",
    "import urllib.request as req\n",
    "from bs4 import BeautifulSoup\n",
    "\n",
    "# news portal\n",
    "url = \"https://media.daum.net\"\n",
    "\n",
    "# url request\n",
    "res = req.urlopen(url)\n",
    "source = res.read()\n",
    "\n",
    "# source decoding\n",
    "source = source.decode(\"utf-8\")\n",
    "\n",
    "# html parsing\n",
    "html = BeautifulSoup(source, \"html.parser\")\n",
    "\n",
    "# extracting tab[property=value]\n",
    "atags = html.select('a[class=link_txt]') # a tag 중 class 이름이 link_txt 인것들만\n",
    "print('Number of a tags: ', len(atags))\n",
    "\n",
    "# crawing a tag data\n",
    "crawling_data = []\n",
    "cnt = 0\n",
    "\n",
    "for atag in atags:\n",
    "    cnt += 1\n",
    "    atagStr = str(atag.string)\n",
    "    crawling_data.append(atagStr.strip())\n",
    "\n",
    "print('Collected data:')\n",
    "print(crawling_data)\n",
    "\n",
    "# pickle save / load\n",
    "import pickle # object -> file(binary) -> load(object)\n",
    "#save\n",
    "file = open('/Users/followthesnake/Desktop/data/data.pickle', mode='wb')\n",
    "pickle.dump(crawling_data, file)\n",
    "\n",
    "#load\n",
    "file = open('/Users/followthesnake/Desktop/data/data.pickle', mode='rb')\n",
    "crawling_data = pickle.load(file)\n",
    "print('>>pickle load<<')\n",
    "print(crawling_data)\n"
   ]
  }
 ],
 "metadata": {
  "kernelspec": {
   "display_name": "Python 3",
   "language": "python",
   "name": "python3"
  },
  "language_info": {
   "codemirror_mode": {
    "name": "ipython",
    "version": 2
   },
   "file_extension": ".py",
   "mimetype": "text/x-python",
   "name": "python",
   "nbconvert_exporter": "python",
   "pygments_lexer": "ipython2",
   "version": "2.7.6"
  }
 },
 "nbformat": 4,
 "nbformat_minor": 0
}