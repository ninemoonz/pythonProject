{
 "cells": [
  {
   "cell_type": "code",
   "execution_count": null,
   "metadata": {
    "collapsed": true
   },
   "outputs": [],
   "source": [
    "# selectors is a design tag such as tag, id, class in <style> tag\n",
    "\n",
    "# id and class are used in <body> tag and used as #id and .class in <style> tag\n",
    "\n",
    "'''\n",
    "syntax:\n",
    "html파싱객체.select_one('선택자')\n",
    "html파싱객체.select('선택자')\n",
    "'''"
   ]
  },
  {
   "cell_type": "code",
   "execution_count": 23,
   "outputs": [
    {
     "name": "stdout",
     "output_type": "stream",
     "text": [
      ">>TABLE SELECTOR<<\n",
      ">>SELECTOR & HIERARCHICAL<<\n",
      "[<th id=\"id\">student year</th>, <th id=\"name\">student name</th>, <th id=\"major\">major</th>, <th id=\"email\">email</th>]\n",
      ">>CLASS SELECTOR<<\n",
      "[<tr class=\"odd\">\n",
      "<td>201309</td>\n",
      "<td>Robert Pattinson</td>\n",
      "<td>Business</td>\n",
      "<td>RobertPatty@thisemail.com</td>\n",
      "</tr>, <tr class=\"odd\">\n",
      "<td>201509</td>\n",
      "<td>Gio Oh</td>\n",
      "<td>Computer Sciences</td>\n",
      "<td>Ogio@thisemail.com</td>\n",
      "</tr>]\n",
      ">> tr > td <<\n",
      "201309\n",
      "Robert Pattinson\n",
      "Business\n",
      "RobertPatty@thisemail.com\n",
      "201509\n",
      "Gio Oh\n",
      "Computer Sciences\n",
      "Ogio@thisemail.com\n"
     ]
    }
   ],
   "source": [
    "from bs4 import BeautifulSoup\n",
    "\n",
    "# (1) reading local file\n",
    "file = open('/Users/followthesnake/Desktop/data/selector_collect.html', mode='r', encoding='utf-8')\n",
    "source = file.read()\n",
    "\n",
    "# (2) html parsing\n",
    "html = BeautifulSoup(source, 'html.parser')\n",
    "\n",
    "# (3) calling selector using tag\n",
    "print('>>TABLE SELECTOR<<')\n",
    "table = html.select_one('#tab')\n",
    "#print(table) #whole table tag\n",
    "\n",
    "print('>>SELECTOR & HIERARCHICAL<<')\n",
    "ths = html.select('#tab > tr > th')\n",
    "print(ths) #return list\n",
    "\n",
    "print('>>CLASS SELECTOR<<')\n",
    "#trs = html.select(\"#tab > .odd\")\n",
    "\n",
    "# tag[property=value]\n",
    "trs = html.select(\"tr[class=odd]\")\n",
    "print(trs)\n",
    "\n",
    "print(\">> tr > td <<\")\n",
    "for tr in trs :\n",
    "    tds = tr.find_all('td')\n",
    "    for td in tds :\n",
    "        print(td.string)"
   ],
   "metadata": {
    "collapsed": false,
    "pycharm": {
     "name": "#%%\n"
    }
   }
  }
 ],
 "metadata": {
  "kernelspec": {
   "display_name": "Python 3",
   "language": "python",
   "name": "python3"
  },
  "language_info": {
   "codemirror_mode": {
    "name": "ipython",
    "version": 2
   },
   "file_extension": ".py",
   "mimetype": "text/x-python",
   "name": "python",
   "nbconvert_exporter": "python",
   "pygments_lexer": "ipython2",
   "version": "2.7.6"
  }
 },
 "nbformat": 4,
 "nbformat_minor": 0
}